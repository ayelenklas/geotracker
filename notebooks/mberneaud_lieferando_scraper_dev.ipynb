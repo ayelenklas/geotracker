{
 "cells": [
  {
   "cell_type": "code",
   "execution_count": 1,
   "metadata": {},
   "outputs": [],
   "source": [
    "import pickle\n",
    "import re\n",
    "import time\n",
    "from bs4 import BeautifulSoup\n",
    "from selenium import webdriver\n",
    "from selenium.webdriver.chrome.options import Options\n",
    "from selenium.webdriver.firefox.options import Options\n",
    "from selenium.webdriver.common.by import By\n",
    "from selenium.webdriver.support.ui import WebDriverWait\n",
    "from selenium.webdriver.support import expected_conditions as ec"
   ]
  },
  {
   "cell_type": "code",
   "execution_count": 2,
   "metadata": {},
   "outputs": [],
   "source": [
    "# Unpickle zip code list\n",
    "with open('../geotracker/data/zip.pkl', 'rb') as f:\n",
    "    zip_codes = pickle.load(f)"
   ]
  },
  {
   "cell_type": "code",
   "execution_count": 3,
   "metadata": {},
   "outputs": [
    {
     "data": {
      "text/plain": [
       "'https://www.lieferando.de/en/delivery/food/berlin-10115'"
      ]
     },
     "execution_count": 3,
     "metadata": {},
     "output_type": "execute_result"
    }
   ],
   "source": [
    "# Create iterable list of URLS for the scraper\n",
    "base_url = \"https://www.lieferando.de/en/delivery/food/berlin-\"\n",
    "urls = [base_url + zip_code for zip_code in zip_codes]\n",
    "urls[0]"
   ]
  },
  {
   "cell_type": "code",
   "execution_count": 13,
   "metadata": {},
   "outputs": [
    {
     "data": {
      "text/plain": [
       "190"
      ]
     },
     "execution_count": 13,
     "metadata": {},
     "output_type": "execute_result"
    }
   ],
   "source": [
    "len(urls)"
   ]
  },
  {
   "cell_type": "markdown",
   "metadata": {},
   "source": [
    "# Restaurant page overview for each ZIP Code"
   ]
  },
  {
   "cell_type": "code",
   "execution_count": 5,
   "metadata": {},
   "outputs": [],
   "source": [
    "def scroll_down():\n",
    "    \"\"\"A method for scrolling the page.\"\"\"\n",
    "\n",
    "    # Get scroll height.\n",
    "    last_height = driver.execute_script(\"return document.body.scrollHeight\")\n",
    "\n",
    "    while True:\n",
    "\n",
    "        # Scroll down to the bottom.\n",
    "        driver.execute_script(\"window.scrollTo(0, document.body.scrollHeight);\")\n",
    "\n",
    "        # Wait to load the page.\n",
    "        time.sleep(2)\n",
    "\n",
    "        # Calculate new scroll height and compare with last scroll height.\n",
    "        new_height = driver.execute_script(\"return document.body.scrollHeight\")\n",
    "\n",
    "        if new_height == last_height:\n",
    "\n",
    "            break\n",
    "\n",
    "        last_height = new_height"
   ]
  },
  {
   "cell_type": "code",
   "execution_count": 6,
   "metadata": {},
   "outputs": [],
   "source": [
    "# Set selenium options\n",
    "options = Options()\n",
    "#options.add_argument(\"--headless\")  # Starts driver without opening a window\n",
    "driver = webdriver.Firefox(options=options)"
   ]
  },
  {
   "cell_type": "code",
   "execution_count": 7,
   "metadata": {},
   "outputs": [
    {
     "name": "stdout",
     "output_type": "stream",
     "text": [
      "['https://www.lieferando.de/en/menu/burger-king-berlin-schoenhauser-allee', 'https://www.lieferando.de/en/menu/bowl-time', 'https://www.lieferando.de/en/menu/burger-king-berlin-mitte-bahnhof', 'https://www.lieferando.de/en/menu/burger-king-berlin-europaplatz', 'https://www.lieferando.de/en/menu/bring-bakery', 'https://www.lieferando.de/en/menu/otacos-berlin-spandauer-strasse', 'https://www.lieferando.de/en/menu/kreuzburger-friedrichshain', 'https://www.lieferando.de/en/menu/xi-gon', 'https://www.lieferando.de/en/menu/habba-habba-berlin', 'https://www.lieferando.de/en/menu/riga-s-pizza-box-berlin-berlin', 'https://www.lieferando.de/en/menu/maison-viet-10437', 'https://www.lieferando.de/en/menu/dunkin-donuts-berlin-badstrasse', 'https://www.lieferando.de/en/menu/dunkin-donuts-berlin-unter-den-linden', 'https://www.lieferando.de/en/menu/dawat-indische-spezialitaeten', 'https://www.lieferando.de/en/menu/madni', 'https://www.lieferando.de/en/menu/comcha-vegan', 'https://www.lieferando.de/en/menu/cafe-old-style', 'https://www.lieferando.de/en/menu/restaurant-machiavelli-berlin-1', 'https://www.lieferando.de/en/menu/miu-lunch', 'https://www.lieferando.de/en/menu/otacos-berlin-gesundbrunnen-badstrasse', 'https://www.lieferando.de/en/menu/salami-social-club-ii', 'https://www.lieferando.de/en/menu/pablo-coffee', 'https://www.lieferando.de/en/menu/nampan-restaurant', 'https://www.lieferando.de/en/menu/dunkin-donuts-berlin-europaplatz', 'https://www.lieferando.de/en/menu/funa-sushi-berlin-moabit', 'https://www.lieferando.de/en/menu/fitery', 'https://www.lieferando.de/en/menu/dunkin-donuts-berlin-alexanderplatz', 'https://www.lieferando.de/en/menu/dunkin-donuts-berlin-bahnhof-friedrichstrasse', 'https://www.lieferando.de/en/menu/sushi-city-berlin-nollendorfstrasse', 'https://www.lieferando.de/en/menu/sushi-yana-moabit', 'https://www.lieferando.de/en/menu/bombay', 'https://www.lieferando.de/en/menu/mauer-kebab', 'https://www.lieferando.de/en/menu/casalot-restaurant', 'https://www.lieferando.de/en/menu/dunkin-donuts-berlin-potsdamer-strasse', 'https://www.lieferando.de/en/menu/ristorante-porta-nova', 'https://www.lieferando.de/en/menu/hoa-nam-asia-wok-sushi-bar-10559', 'https://www.lieferando.de/en/menu/dunkin-donuts-berlin-rathausstrasse', 'https://www.lieferando.de/en/menu/safran', 'https://www.lieferando.de/en/menu/krishna-indisches-restaurant', 'https://www.lieferando.de/en/menu/escendo-pizzeria', 'https://www.lieferando.de/en/menu/babo-sushi-berlin-friedrichshain', 'https://www.lieferando.de/en/menu/dildaar', 'https://www.lieferando.de/en/menu/khatmandu', 'https://www.lieferando.de/en/menu/falafelo-berlin', 'https://www.lieferando.de/en/menu/call-a-pizza-berlin-mohrenstr', 'https://www.lieferando.de/en/menu/ajwa-restaurant', 'https://www.lieferando.de/en/menu/sushi-west-by-hoa', 'https://www.lieferando.de/en/menu/first-grillhaus-13347', 'https://www.lieferando.de/en/menu/fastvegan-by-levo-lori', 'https://www.lieferando.de/en/menu/ossaka-sushi', 'https://www.lieferando.de/en/menu/akito', 'https://www.lieferando.de/en/menu/la-piazza-berlin-2', 'https://www.lieferando.de/en/menu/taj-mahal-haus-3', 'https://www.lieferando.de/en/menu/pizza-coach-prenzlauerberg-berlin', 'https://www.lieferando.de/en/menu/marea', 'https://www.lieferando.de/en/menu/iiu-berlin', 'https://www.lieferando.de/en/menu/la-gino-berlin-1', 'https://www.lieferando.de/en/menu/taverna-hellas-1', 'https://www.lieferando.de/en/menu/kenko-sushi-schoenhauser-allee', 'https://www.lieferando.de/en/menu/indda-indische-spezialitaeten-berlin', 'https://www.lieferando.de/en/menu/punjabi-tarka-indischer-lieferservice-berlin', 'https://www.lieferando.de/en/menu/oshinbo-izakaya', 'https://www.lieferando.de/en/menu/saiko-sushi-bornholmer-strasse', 'https://www.lieferando.de/en/menu/burger-vision', 'https://www.lieferando.de/en/menu/pizza-kartel', 'https://www.lieferando.de/en/menu/pizzeria-mini-perle', 'https://www.lieferando.de/en/menu/nymami', 'https://www.lieferando.de/en/menu/pizza-noi-10785', 'https://www.lieferando.de/en/menu/dana-pani-indische-spezialitaeten-britzer-damm', 'https://www.lieferando.de/en/menu/burger-stop-pizza', 'https://www.lieferando.de/en/menu/papa-no-berlin-prenzlauer-berg', 'https://www.lieferando.de/en/menu/chainone', 'https://www.lieferando.de/en/menu/dean-david-berlin-schoenhauser-allee', 'https://www.lieferando.de/en/menu/smile', 'https://www.lieferando.de/en/menu/bergmann-burger-by-beefman', 'https://www.lieferando.de/en/menu/chibee', 'https://www.lieferando.de/en/menu/vadoli-pizza-berlin-mitte', 'https://www.lieferando.de/en/menu/rocca-pizza-pasta-gleimstrasse', 'https://www.lieferando.de/en/menu/apna-virsa', 'https://www.lieferando.de/en/menu/xigon-1987', 'https://www.lieferando.de/en/menu/aki-tatsu-1', 'https://www.lieferando.de/en/menu/call-to-eat-berlin-1', 'https://www.lieferando.de/en/menu/mizyan-restaurant', 'https://www.lieferando.de/en/menu/sadhu-3', 'https://www.lieferando.de/en/menu/core-korean-cuisine', 'https://www.lieferando.de/en/menu/burger-dreams', 'https://www.lieferando.de/en/menu/pizza-de-lux-berlin-3', 'https://www.lieferando.de/en/menu/sushi-for-you-berlin-wedding', 'https://www.lieferando.de/en/menu/house-of-do-an', 'https://www.lieferando.de/en/menu/90s-burger', 'https://www.lieferando.de/en/menu/by-yale', 'https://www.lieferando.de/en/menu/amrit-berlin-mitte', 'https://www.lieferando.de/en/menu/cat-tuong-kastanienallee', 'https://www.lieferando.de/en/menu/buttspicy', 'https://www.lieferando.de/en/menu/city-chicken-10553', 'https://www.lieferando.de/en/menu/taj-india-haus', 'https://www.lieferando.de/en/menu/immergruen-berlin-schoenhauser-allee', 'https://www.lieferando.de/en/menu/asia-food-tuan-linh', 'https://www.lieferando.de/en/menu/pizza-max-berlin-winsstr', 'https://www.lieferando.de/en/menu/berlin-burrito-berlin-kastanienalle', 'https://www.lieferando.de/en/menu/caphe-hoa', 'https://www.lieferando.de/en/menu/pizza-e-pasta-2', 'https://www.lieferando.de/en/menu/rosario-steakhaus-berlin', 'https://www.lieferando.de/en/menu/akito-sushi-express', 'https://www.lieferando.de/en/menu/mix-match', 'https://www.lieferando.de/en/menu/mayflower-1', 'https://www.lieferando.de/en/menu/eden-vietnamesisches-restaurant', 'https://www.lieferando.de/en/menu/moccachino-berlin', 'https://www.lieferando.de/en/menu/world-of-pizza-berlin-prenzlauer-berg', 'https://www.lieferando.de/en/menu/willis-restaurant', 'https://www.lieferando.de/en/menu/asuka-sushi', 'https://www.lieferando.de/en/menu/burgerzimmer-vi-1', 'https://www.lieferando.de/en/menu/crispys-chicken-10827', 'https://www.lieferando.de/en/menu/daluma-1', 'https://www.lieferando.de/en/menu/happy-buddha-berlin', 'https://www.lieferando.de/en/menu/reisfreude', 'https://www.lieferando.de/en/menu/hako-prenzlauerberg', 'https://www.lieferando.de/en/menu/chefs-by-butterbrot', 'https://www.lieferando.de/en/menu/rausch-schokoladenhaus-cafe', 'https://www.lieferando.de/en/menu/the-small-garden', 'https://www.lieferando.de/en/menu/asian-fine-food', 'https://www.lieferando.de/en/menu/tasty-india-10405', 'https://www.lieferando.de/en/menu/vegan-tiger-berlin', 'https://www.lieferando.de/en/menu/haeppies', 'https://www.lieferando.de/en/menu/veg-room', 'https://www.lieferando.de/en/menu/ben-rahim', 'https://www.lieferando.de/en/menu/mangiare-and-go', 'https://www.lieferando.de/en/menu/eispatisserie-hokey-pokey-torstr', 'https://www.lieferando.de/en/menu/kuchi-mitte', 'https://www.lieferando.de/en/menu/burger-world-berlin', 'https://www.lieferando.de/en/menu/star-of-india-lieferservice-berlin-neukoelln', 'https://www.lieferando.de/en/menu/harika-liferservice', 'https://www.lieferando.de/en/menu/da-giorgio-berlin-1', 'https://www.lieferando.de/en/menu/burgerzimmer-berlin-pankstrasse', 'https://www.lieferando.de/en/menu/papi-imbiss', 'https://www.lieferando.de/en/menu/rolls', 'https://www.lieferando.de/en/menu/call-a-pizza-berlin-wedding', 'https://www.lieferando.de/en/menu/soul-sushi-berlin', 'https://www.lieferando.de/en/menu/chelany-mitte', 'https://www.lieferando.de/en/menu/yf-kebaphaus', 'https://www.lieferando.de/en/menu/bookmyholiday', 'https://www.lieferando.de/en/menu/schnitzelkoenig-greifswalder-strasse', 'https://www.lieferando.de/en/menu/rosenburger-berlin', 'https://www.lieferando.de/en/menu/nordsee-berlin-schoenhauser-allee', 'https://www.lieferando.de/en/menu/china-city-berlin-1', 'https://www.lieferando.de/en/menu/vincent-vegan-iv', 'https://www.lieferando.de/en/menu/wild-raw', 'https://www.lieferando.de/en/menu/the-orient-house', 'https://www.lieferando.de/en/menu/pizzeria-dun-dun-berlin', 'https://www.lieferando.de/en/menu/der-fischladen', 'https://www.lieferando.de/en/menu/el-rief-orientalische-arabische-kueche', 'https://www.lieferando.de/en/menu/falafel-al-amin', 'https://www.lieferando.de/en/menu/koeylueoglu-restaurant-berlin', 'https://www.lieferando.de/en/menu/houdini', 'https://www.lieferando.de/en/menu/tien-linh-khang-restaurant-lieferservice-events', 'https://www.lieferando.de/en/menu/yoere-goezleme-ve-manti-evi', 'https://www.lieferando.de/en/menu/sumo-sushi', 'https://www.lieferando.de/en/menu/red-dragon-lieferservice-danzigerstr', 'https://www.lieferando.de/en/menu/wrapublic-schoenhauser-allee', 'https://www.lieferando.de/en/menu/lovely-sushi-1', 'https://www.lieferando.de/en/menu/royals-rice', 'https://www.lieferando.de/en/menu/restaurant-al-hamra', 'https://www.lieferando.de/en/menu/yumcha-heroes-new-owner', 'https://www.lieferando.de/en/menu/mami-restaurant', 'https://www.lieferando.de/en/menu/tor-kebab-torstrasse', 'https://www.lieferando.de/en/menu/nur-kebap-13349', 'https://www.lieferando.de/en/menu/bilakis', 'https://www.lieferando.de/en/menu/dar-4-sudanesische-spezialitaeten', 'https://www.lieferando.de/en/menu/viet-nam-sushi-bar', 'https://www.lieferando.de/en/menu/pizzeria-allegro-reinickendorfer-strasse', 'https://www.lieferando.de/en/menu/wilhelms-burger', 'https://www.lieferando.de/en/menu/mcdonalds-berlin-hanne-sobek-platz', 'https://www.lieferando.de/en/menu/cana-restaurant-catering-berlin-mitte', 'https://www.lieferando.de/en/menu/thai-aroma', 'https://www.lieferando.de/en/menu/formidable', 'https://www.lieferando.de/en/menu/lemon-grass-scent', 'https://www.lieferando.de/en/menu/nihombashi-weinbergsweg', 'https://www.lieferando.de/en/menu/al-mondo', 'https://www.lieferando.de/en/menu/yogi-indisches-restaurant-berlin', 'https://www.lieferando.de/en/menu/pasta-vino-stargarder-strasse', 'https://www.lieferando.de/en/menu/haicoffeeasianfood', 'https://www.lieferando.de/en/menu/pizza-max-berlin-luderitzstr', 'https://www.lieferando.de/en/menu/nusantara', 'https://www.lieferando.de/en/menu/restaurant-lichtburg', 'https://www.lieferando.de/en/menu/7-dumpling-schoenhauser-allee', 'https://www.lieferando.de/en/menu/restaurant-julchen-hoppe', 'https://www.lieferando.de/en/menu/datscha-prenzlauer-berg', 'https://www.lieferando.de/en/menu/taktiek', 'https://www.lieferando.de/en/menu/foodland-berlin', 'https://www.lieferando.de/en/menu/neapizza-1889', 'https://www.lieferando.de/en/menu/berlin-cikoefte-vegan', 'https://www.lieferando.de/en/menu/jinbu-sushi', 'https://www.lieferando.de/en/menu/karamels-online', 'https://www.lieferando.de/en/menu/zweistrom', 'https://www.lieferando.de/en/menu/pho-co-rosa-luxemburg-strasse', 'https://www.lieferando.de/en/menu/darbar-indische-spezialitaeten', 'https://www.lieferando.de/en/menu/pizzas-n-burgers-stop', 'https://www.lieferando.de/en/menu/arata-sushi-more', 'https://www.lieferando.de/en/menu/trancina', 'https://www.lieferando.de/en/menu/marubi-rahmen', 'https://www.lieferando.de/en/menu/don-sushi-15', 'https://www.lieferando.de/en/menu/minty-2', 'https://www.lieferando.de/en/menu/gate-57-berlin', 'https://www.lieferando.de/en/menu/best-friends-berlin-1', 'https://www.lieferando.de/en/menu/shezan-indisches-restaurant', 'https://www.lieferando.de/en/menu/bistro-mola', 'https://www.lieferando.de/en/menu/curry-mitte', 'https://www.lieferando.de/en/menu/balli-holzkohlegrill-restaurant', 'https://www.lieferando.de/en/menu/mamay-vietnamesiche-kueche-und-teehaus', 'https://www.lieferando.de/en/menu/koefteci-musti', 'https://www.lieferando.de/en/menu/doener-center', 'https://www.lieferando.de/en/menu/cafe-journale', 'https://www.lieferando.de/en/menu/moloko', 'https://www.lieferando.de/en/menu/freshs-oranienburger-strasse', 'https://www.lieferando.de/en/menu/mozzarella-pomodoro', 'https://www.lieferando.de/en/menu/moc', 'https://www.lieferando.de/en/menu/street-kitchen-authentic-asian-food', 'https://www.lieferando.de/en/menu/chay-long', 'https://www.lieferando.de/en/menu/ryong', 'https://www.lieferando.de/en/menu/quantuan', 'https://www.lieferando.de/en/menu/aiko-sushi-grillrestaurant', 'https://www.lieferando.de/en/menu/aftab-persische-safranreis-bowl-ii', 'https://www.lieferando.de/en/menu/doner-point-leipziger-str', 'https://www.lieferando.de/en/menu/food-brother-berlin-rosenthaler-strasse', 'https://www.lieferando.de/en/menu/leo-leo', 'https://www.lieferando.de/en/menu/ming-dynastie-new-owner', 'https://www.lieferando.de/en/menu/cispace', 'https://www.lieferando.de/en/menu/hubertha', 'https://www.lieferando.de/en/menu/sucre-et-sel', 'https://www.lieferando.de/en/menu/kaffee-kiana', 'https://www.lieferando.de/en/menu/yokozuna-sushi', 'https://www.lieferando.de/en/menu/sushi-number-1', 'https://www.lieferando.de/en/menu/restaurant-aposto', 'https://www.lieferando.de/en/menu/basil-1', 'https://www.lieferando.de/en/menu/curry-32', 'https://www.lieferando.de/en/menu/bamboos-hut-asiatische-kueche-sushi-bar', 'https://www.lieferando.de/en/menu/cozy-time', 'https://www.lieferando.de/en/menu/schmucks-restauration', 'https://www.lieferando.de/en/menu/hokey-pokey', 'https://www.lieferando.de/en/menu/pizzeria-milano-trattoria', 'https://www.lieferando.de/en/menu/choppaluna', 'https://www.lieferando.de/en/menu/90s-pizza', 'https://www.lieferando.de/en/menu/hanoi-bistro-berlin', 'https://www.lieferando.de/en/menu/lee-original-vietnamese-kitchen', 'https://www.lieferando.de/en/menu/yummy-mummy', 'https://www.lieferando.de/en/menu/baklavaci-antepliogullari-1', 'https://www.lieferando.de/en/menu/wrapublic-mitte', 'https://www.lieferando.de/en/menu/indian-village-berlin-berlin', 'https://www.lieferando.de/en/menu/vegan-living-quy-nguyen', 'https://www.lieferando.de/en/menu/dominos-pizza-berlin-wedding-gerichtstrasse', 'https://www.lieferando.de/en/menu/diner-67', 'https://www.lieferando.de/en/menu/verona-italian-restaurant', 'https://www.lieferando.de/en/menu/espresso-house-berlin-dom-aquaree', 'https://www.lieferando.de/en/menu/la-criolla-empanadas-1', 'https://www.lieferando.de/en/menu/prinzen-falafel-bernauer-strasse', 'https://www.lieferando.de/en/menu/the-fiuty', 'https://www.lieferando.de/en/menu/ans-tea-house', 'https://www.lieferando.de/en/menu/viet-village-rosenthaler-str', 'https://www.lieferando.de/en/menu/steinofen-pizza-to-go', 'https://www.lieferando.de/en/menu/starbucks-berlin-hackescher-markt', 'https://www.lieferando.de/en/menu/kim999-vietnamese-vegan-veggie-cuisine', 'https://www.lieferando.de/en/menu/chaomin-congee-restaurant', 'https://www.lieferando.de/en/menu/wraps-wraps', 'https://www.lieferando.de/en/menu/cai-kitchen-berlin', 'https://www.lieferando.de/en/menu/84-asian-deli-vegan-kitchen', 'https://www.lieferando.de/en/menu/cafe-fleury', 'https://www.lieferando.de/en/menu/saaky', 'https://www.lieferando.de/en/menu/curry-at-the-wall-berlin-mitte', 'https://www.lieferando.de/en/menu/maide-manti-halal-food-production', 'https://www.lieferando.de/en/menu/funk-you', 'https://www.lieferando.de/en/menu/schaefers-berlin', 'https://www.lieferando.de/en/menu/the-pho-bar', 'https://www.lieferando.de/en/menu/falafel-sababa', 'https://www.lieferando.de/en/menu/doener-inn', 'https://www.lieferando.de/en/menu/swing-kitchen-berlin-georgenstrasse', 'https://www.lieferando.de/en/menu/army-food', 'https://www.lieferando.de/en/menu/mozzarella-bar-bottega', 'https://www.lieferando.de/en/menu/sun-ay-inegoel', 'https://www.lieferando.de/en/menu/mogg', 'https://www.lieferando.de/en/menu/phuoc-restaurant', 'https://www.lieferando.de/en/menu/com-viet-berlin', 'https://www.lieferando.de/en/menu/nem-more', 'https://www.lieferando.de/en/menu/falafel-aladdin', 'https://www.lieferando.de/en/menu/back-factory-berlin-friedrichstrasse', 'https://www.lieferando.de/en/menu/ali-baba-prenzlauer-berg', 'https://www.lieferando.de/en/menu/little-green-rabbit-checkpoint-charlie', 'https://www.lieferando.de/en/menu/tucano-coffee', 'https://www.lieferando.de/en/menu/besh', 'https://www.lieferando.de/en/menu/eat-culture', 'https://www.lieferando.de/en/menu/kiraku', 'https://www.lieferando.de/en/menu/bessma-food', 'https://www.lieferando.de/en/menu/bibi-mix', 'https://www.lieferando.de/en/menu/planet-wein', 'https://www.lieferando.de/en/menu/cowei-berlin-berlin', 'https://www.lieferando.de/en/menu/chopstix', 'https://www.lieferando.de/en/menu/back-factory-berlin-brunnenstrasse', 'https://www.lieferando.de/en/menu/zuckrerg-traditional-candy-shop', 'https://www.lieferando.de/en/menu/baffels-cafe-and-more', 'https://www.lieferando.de/en/menu/burgerwood', 'https://www.lieferando.de/en/menu/little-green-rabbit-unter-den-linden', 'https://www.lieferando.de/en/menu/bistro-mintis', 'https://www.lieferando.de/en/menu/kaffee-mit-zucker', 'https://www.lieferando.de/en/menu/goodn-vegan-im-moevenpick-hotel-berlin', 'https://www.lieferando.de/en/menu/fatih-servet-doener', 'https://www.lieferando.de/en/menu/the-100-cafe', 'https://www.lieferando.de/en/menu/lovely', 'https://www.lieferando.de/en/menu/guten-dag', 'https://www.lieferando.de/en/menu/la-mama-noor', 'https://www.lieferando.de/en/menu/adora-doener-kumru', 'https://www.lieferando.de/en/menu/der-neue-platzhirsch', 'https://www.lieferando.de/en/menu/dao-nguyen-berlin', 'https://www.lieferando.de/en/menu/oernek', 'https://www.lieferando.de/en/menu/pommes-freunde-berlin-leipziger-platz', 'https://www.lieferando.de/en/menu/onkel-ho', 'https://www.lieferando.de/en/menu/pasta-focaccia', 'https://www.lieferando.de/en/menu/brgrs-brgrs-organic-burgers', 'https://www.lieferando.de/en/menu/mama-cook-restaurant', 'https://www.lieferando.de/en/menu/bollywood-12689', 'https://www.lieferando.de/en/menu/wedding-grillhaus', 'https://www.lieferando.de/en/menu/kfc-berlin-dircksenstrasse', 'https://www.lieferando.de/en/menu/thai-son-imbiss', 'https://www.lieferando.de/en/menu/exelans-berlin', 'https://www.lieferando.de/en/menu/saha-gaziantep-spezialitaeten', 'https://www.lieferando.de/en/menu/subway-berlin-friedrichstrasse', 'https://www.lieferando.de/en/menu/king-of-india-berlin', 'https://www.lieferando.de/en/menu/the-fresh-seeds-invalidenstrasse', 'https://www.lieferando.de/en/menu/yogi-restaurant', 'https://www.lieferando.de/en/menu/pizza-la-mora', 'https://www.lieferando.de/en/menu/meet-me-halfway', 'https://www.lieferando.de/en/menu/ki-kuriya', 'https://www.lieferando.de/en/menu/pizzeria-10115', 'https://www.lieferando.de/en/menu/trattoria-zoe-berlin', 'https://www.lieferando.de/en/menu/chupenga-burritos-salads', 'https://www.lieferando.de/en/menu/raja-berlin', 'https://www.lieferando.de/en/menu/hatoki-new-owner', 'https://www.lieferando.de/en/menu/maloa-poke-bowl-berlin-oranienburger-strasse', 'https://www.lieferando.de/en/menu/pho-noodlebar', 'https://www.lieferando.de/en/menu/aldimashqi-gesundbrunnen', 'https://www.lieferando.de/en/menu/royals-rice-x-sons-of-mana-1', 'https://www.lieferando.de/en/menu/pizza-pasta-pause-berlin', 'https://www.lieferando.de/en/menu/hum-vegan-cuisine-berlin', 'https://www.lieferando.de/en/menu/gorki-park', 'https://www.lieferando.de/en/menu/maloa-poke-bowl-berlin-oberwallstrasse', 'https://www.lieferando.de/en/menu/com-dai-dung-japanische-spezialitaeten-berlin', 'https://www.lieferando.de/en/menu/pizza-el-fredo-10969berlin', 'https://www.lieferando.de/en/menu/mami-camilla-restaurant', 'https://www.lieferando.de/en/menu/han-express-korean-food-berlin-1', 'https://www.lieferando.de/en/menu/restaurant-girasol', 'https://www.lieferando.de/en/menu/feel-seoul-good', 'https://www.lieferando.de/en/menu/pocoloco-oderberger-strasse', 'https://www.lieferando.de/en/menu/momos', 'https://www.lieferando.de/en/menu/akemi-rykestrasse', 'https://www.lieferando.de/en/menu/hofbraeu-berlin-karl-liebknecht-strasse', 'https://www.lieferando.de/en/menu/beirut-express-libanesische-spezialitaeten-10553', 'https://www.lieferando.de/en/menu/beetsroots-berlin-1', 'https://www.lieferando.de/en/menu/thai-duong-vietnamesisches-restaurant', 'https://www.lieferando.de/en/menu/restaurant-pamfilya', 'https://www.lieferando.de/en/menu/spicy-tuerka', 'https://www.lieferando.de/en/menu/w-der-imbiss', 'https://www.lieferando.de/en/menu/nordsee-berlin-spandauer-strasse', 'https://www.lieferando.de/en/menu/nordsee-berlin-badstrasse', 'https://www.lieferando.de/en/menu/muckrakers', 'https://www.lieferando.de/en/menu/maothai-restaurant', 'https://www.lieferando.de/en/menu/aapka-berlin-mitte-1', 'https://www.lieferando.de/en/menu/kaplan-bistro-schoenhauser', 'https://www.lieferando.de/en/menu/12-taco-bar', 'https://www.lieferando.de/en/menu/golden-rice', 'https://www.lieferando.de/en/menu/paulaner-wirtshaus', 'https://www.lieferando.de/en/menu/baba-sultan-kofteci-i', 'https://www.lieferando.de/en/menu/chupenga-burritos-salads-berlin', 'https://www.lieferando.de/en/menu/grindhouse-homemade-burgers-berlin', 'https://www.lieferando.de/en/menu/kentucky-fried-chicken-berlin-gesundbrunnen-center', 'https://www.lieferando.de/en/menu/o-der-burger-berlin-1', 'https://www.lieferando.de/en/menu/coco-banh-mi-deli', 'https://www.lieferando.de/en/menu/ben-jerrys-und-magnum-berlin-perleberger-str', 'https://www.lieferando.de/en/menu/goa-2', 'https://www.lieferando.de/en/menu/street-burger-homemade', 'https://www.lieferando.de/en/menu/naan-indische-spezialitaeten', 'https://www.lieferando.de/en/menu/thai-ha-bistro-3', 'https://www.lieferando.de/en/menu/maloa-berlin-markgrafenstrasse', 'https://www.lieferando.de/en/menu/mama-trattoria-berlin-pariser-platz', 'https://www.lieferando.de/en/menu/alles-perfetto-bei-petersen-berlin', 'https://www.lieferando.de/en/menu/fuenf-sechzig', 'https://www.lieferando.de/en/menu/chupenga-burritos', 'https://www.lieferando.de/en/menu/frittenwerk-berlin', 'https://www.lieferando.de/en/menu/agra-pak-indian-cuisine-berlin', 'https://www.lieferando.de/en/menu/china-restaurant-hua-ting-1', 'https://www.lieferando.de/en/menu/pizza-pasta-tralala', 'https://www.lieferando.de/en/menu/kamala', 'https://www.lieferando.de/en/menu/la-cantina-berlin-1', 'https://www.lieferando.de/en/menu/peter-pane-berlin-hackescher-markt', 'https://www.lieferando.de/en/menu/lokman', 'https://www.lieferando.de/en/menu/mamas-banh', 'https://www.lieferando.de/en/menu/espresso-house-berlin-1', 'https://www.lieferando.de/en/menu/pizza-palast-berlin', 'https://www.lieferando.de/en/menu/saray-online', 'https://www.lieferando.de/en/menu/asia-gondel-berlin', 'https://www.lieferando.de/en/menu/burger-lane', 'https://www.lieferando.de/en/menu/cult-doener', 'https://www.lieferando.de/en/menu/dominos-pizza-mitte-berlin', 'https://www.lieferando.de/en/menu/esra-falafel-1', 'https://www.lieferando.de/en/menu/kebab-baba', 'https://www.lieferando.de/en/menu/thuy-nga', 'https://www.lieferando.de/en/menu/qburger', 'https://www.lieferando.de/en/menu/orient-station-berlin-1', 'https://www.lieferando.de/en/menu/mammam-mitte', 'https://www.lieferando.de/en/menu/viet-my-ii', 'https://www.lieferando.de/en/menu/rice4you-berlin-1', 'https://www.lieferando.de/en/menu/bella-vita-berlin-mitte-1', 'https://www.lieferando.de/en/menu/viet-my-online', 'https://www.lieferando.de/en/menu/bayram-grillhaus-brunnenstrasse', 'https://www.lieferando.de/en/menu/cholosoy-peruanischer-imbiss', 'https://www.lieferando.de/en/menu/hoan-kiem-berlin', 'https://www.lieferando.de/en/menu/espresso-house-berlin-gartenstrasse', 'https://www.lieferando.de/en/menu/minh-san', 'https://www.lieferando.de/en/menu/restaurant-la-vong', 'https://www.lieferando.de/en/menu/asiagourmet-berlin-europaplatz', 'https://www.lieferando.de/en/menu/nhat-nguyet-quan', 'https://www.lieferando.de/en/menu/baeckerei-kollwitz', 'https://www.lieferando.de/en/menu/esszimmer-berlin', 'https://www.lieferando.de/en/menu/balzac-coffee-berlin-schoenhauser-allee', 'https://www.lieferando.de/en/menu/holy-flat-berlin', 'https://www.lieferando.de/en/menu/koi-56', 'https://www.lieferando.de/en/menu/vietnam-restaurant-sushi-bar', 'https://www.lieferando.de/en/menu/noodle-plus', 'https://www.lieferando.de/en/menu/tandoori-nawab-berlin', 'https://www.lieferando.de/en/menu/mr-vertigo', 'https://www.lieferando.de/en/menu/gloria-empanadas', 'https://www.lieferando.de/en/menu/falafel-daye', 'https://www.lieferando.de/en/menu/namu-sushi-lounge', 'https://www.lieferando.de/en/menu/coucou-cafe-deli', 'https://www.lieferando.de/en/menu/balzac-coffee-berlin-chausseestrasse', 'https://www.lieferando.de/en/menu/burgermann', 'https://www.lieferando.de/en/menu/pulcinella-berlin', 'https://www.lieferando.de/en/menu/pizza-point-berlin-kreuzberg-1', 'https://www.lieferando.de/en/menu/bettyn-caty', 'https://www.lieferando.de/en/menu/galetterie-cafe', 'https://www.lieferando.de/en/menu/agri-bistro', 'https://www.lieferando.de/en/menu/orlando-berlin', 'https://www.lieferando.de/en/menu/brewdog-berlin-mitte-ackerstrasse', 'https://www.lieferando.de/en/menu/pizza-peppino-tucholskystrasse', 'https://www.lieferando.de/en/menu/stop-for-tea', 'https://www.lieferando.de/en/menu/merely', 'https://www.lieferando.de/en/menu/hanoi-gourmet', 'https://www.lieferando.de/en/menu/moevenpick-hotel', 'https://www.lieferando.de/en/menu/cafe-berlin', 'https://www.lieferando.de/en/menu/bbq-kitchen', 'https://www.lieferando.de/en/menu/gofish', 'https://www.lieferando.de/en/menu/hells-kitchen-baerlin', 'https://www.lieferando.de/en/menu/subway-berlin-schoenhauser-allee', 'https://www.lieferando.de/en/menu/nhat-long-torstrasse', 'https://www.lieferando.de/en/menu/al-forno', 'https://www.lieferando.de/en/menu/cookie', 'https://www.lieferando.de/en/menu/la-fiamma-berlin-wedding', 'https://www.lieferando.de/en/menu/mcdonalds-berlin-europaplatz', 'https://www.lieferando.de/en/menu/five-guys-berlin-alexanderplatz', 'https://www.lieferando.de/en/menu/van-anh-quan', 'https://www.lieferando.de/en/menu/mizu-ramen', 'https://www.lieferando.de/en/menu/peter-pane-berlin-invalidenstrasse', 'https://www.lieferando.de/en/menu/akko-chicken-grilled', 'https://www.lieferando.de/en/menu/mcdonalds-berlin-bahnhof-friedrichstrasse', 'https://www.lieferando.de/en/menu/tommis-burger-joint-berlin-invalidenstrasse', 'https://www.lieferando.de/en/menu/trattoria-fidelia', 'https://www.lieferando.de/en/menu/subway-berlin-behrenstrasse', 'https://www.lieferando.de/en/menu/pepe-nero-trattoria-pizzeria-boetzowstrasse', 'https://www.lieferando.de/en/menu/burger-boss-berlin', 'https://www.lieferando.de/en/menu/burgermeister-potsdamer-platz', 'https://www.lieferando.de/en/menu/burgerfabrik', 'https://www.lieferando.de/en/menu/ristorante-roma-pizzeria-gmbh', 'https://www.lieferando.de/en/menu/sushi-san', 'https://www.lieferando.de/en/menu/cancun-mitte', 'https://www.lieferando.de/en/menu/ristorante-davinci-berlin', 'https://www.lieferando.de/en/menu/stampf-und-spiess', 'https://www.lieferando.de/en/menu/erdinger-am-gendarmenmarkt', 'https://www.lieferando.de/en/menu/sons-of-mana-mitte-1', 'https://www.lieferando.de/en/menu/yaman-grill', 'https://www.lieferando.de/en/menu/restaurant-neumanns', 'https://www.lieferando.de/en/menu/italian-food-berlin', 'https://www.lieferando.de/en/menu/babel-restaurant', 'https://www.lieferando.de/en/menu/due-fratelli-new-owner', 'https://www.lieferando.de/en/menu/la-galleria-italiana', 'https://www.lieferando.de/en/menu/karaca-fresh-food-delicious-coffee', 'https://www.lieferando.de/en/menu/carambar', 'https://www.lieferando.de/en/menu/schiller-burger-kastanienallee', 'https://www.lieferando.de/en/menu/balzac-coffee-berlin-friedrichstrasse', 'https://www.lieferando.de/en/menu/restaurant-aldente', 'https://www.lieferando.de/en/menu/dj-bombay', 'https://www.lieferando.de/en/menu/didim-restaurant-berlin', 'https://www.lieferando.de/en/menu/papaya-restaurant-luisenstrasse', 'https://www.lieferando.de/en/menu/mr-beef', 'https://www.lieferando.de/en/menu/burgers-burgers-berlin-brueckenstr', 'https://www.lieferando.de/en/menu/losteria-berlin-humboldhafen', 'https://www.lieferando.de/en/menu/pizza-hut-berlin-leipziger-platz', 'https://www.lieferando.de/en/menu/losteria-berlin-memhardstrasse', 'https://www.lieferando.de/en/menu/subway-spandauer-strasse-berlin', 'https://www.lieferando.de/en/menu/hans-im-glueck-berlin-europaplatz', 'https://www.lieferando.de/en/menu/buddha-indische-spezialitaeten-berlin-1', 'https://www.lieferando.de/en/menu/kamps-backstube-berlin-hauptbahnhof', 'https://www.lieferando.de/en/menu/delhi-6', 'https://www.lieferando.de/en/menu/ben-jerrys-und-magnum-berlin-danziger-strasse', 'https://www.lieferando.de/en/menu/la-santa-lucha-holzmarkt', 'https://www.lieferando.de/en/menu/dominos-pizza-wedding-stralsunder-str', 'https://www.lieferando.de/en/menu/quang-loi-muellerstrasse', 'https://www.lieferando.de/en/menu/ben-jerrys-und-magnum-berlin-greifswalder-str', 'https://www.lieferando.de/en/menu/pho-vegan', 'https://www.lieferando.de/en/menu/subway-berlin-hauptbahnhof', 'https://www.lieferando.de/en/menu/masti-indian-food', 'https://www.lieferando.de/en/menu/kfc-berlin-mall-of-berlin', 'https://www.lieferando.de/en/menu/pinoccio-alexanderplatz', 'https://www.lieferando.de/en/menu/little-green-rabbit-gendarmenmarkt', 'https://www.lieferando.de/en/menu/kamps-backstube-berlin-bahnhof-alexanderplatz', 'https://www.lieferando.de/en/menu/cigkoftem-berlin-badstrasse', 'https://www.lieferando.de/en/menu/oriento', 'https://www.lieferando.de/en/menu/olla', 'https://www.lieferando.de/en/menu/arko-berlin-europaplatz', 'https://www.lieferando.de/en/menu/caffe-bar-italia', 'https://www.lieferando.de/en/menu/fatih-servet-lp12', 'https://www.lieferando.de/en/menu/manju-berlin-im-alexa', 'https://www.lieferando.de/en/menu/husseria', 'https://www.lieferando.de/en/menu/cavolo-nero', 'https://www.lieferando.de/en/menu/hussel-berlin-schoenhauser-allee', 'https://www.lieferando.de/en/menu/il-cantuccio-i-biscotti-di-leonardo', 'https://www.lieferando.de/en/menu/currywurst-express-berlin-alexanderplatz', 'https://www.lieferando.de/en/menu/gofish-berlin-spandauer-str', 'https://www.lieferando.de/en/menu/bentokado', 'https://www.lieferando.de/en/menu/koempul-restaurant', 'https://www.lieferando.de/en/menu/cafe-pirouette', 'https://www.lieferando.de/en/menu/amrit-berlin-1', 'https://www.lieferando.de/en/menu/hot-million-burger-reinickendorfer', 'https://www.lieferando.de/en/menu/diazo-greifenhagener', 'https://www.lieferando.de/en/menu/burger-king-berlin-alexanderplatz', 'https://www.lieferando.de/en/menu/sushi-palace-berlin-pankow', 'https://www.lieferando.de/en/menu/mama-mia-ug', 'https://www.lieferando.de/en/menu/smokepops', 'https://www.lieferando.de/en/menu/sushi-circle-berlin-rosenthaler-strasse', 'https://www.lieferando.de/en/menu/roji-godai-no-sekai-berlin', 'https://www.lieferando.de/en/menu/oez-adana-grillhaus-berlin', 'https://www.lieferando.de/en/menu/pizza-tino-lieferservice', 'https://www.lieferando.de/en/menu/riad-marakkesch', 'https://www.lieferando.de/en/menu/meena-kumari-berlin-lychener-strasse', 'https://www.lieferando.de/en/menu/la-burger-sushi', 'https://www.lieferando.de/en/menu/fedora-bubble-waffle-eismanufaktur', 'https://www.lieferando.de/en/menu/prinz-bistro-berlin-1', 'https://www.lieferando.de/en/menu/massimo-lieferservice-berlin', 'https://www.lieferando.de/en/menu/partybrenner-wittekindstrasse', 'https://www.lieferando.de/en/menu/manjodh', 'https://www.lieferando.de/en/menu/burger-republic', 'https://www.lieferando.de/en/menu/blackbeards-berlin', 'https://www.lieferando.de/en/menu/marone', 'https://www.lieferando.de/en/menu/american-ice-cream', 'https://www.lieferando.de/en/menu/pizza-luna', 'https://www.lieferando.de/en/menu/lezziz-restaurant-food-nuts-sweets', 'https://www.lieferando.de/en/menu/meena-kumari-restaurant', 'https://www.lieferando.de/en/menu/rohhaeppchen-berlin', 'https://www.lieferando.de/en/menu/huong-sen-new-owner', 'https://www.lieferando.de/en/menu/pizza-kiste-berlin', 'https://www.lieferando.de/en/menu/american-burger-berlin-prinzenallee', 'https://www.lieferando.de/en/menu/restaurant-mephisto-pizza-pasta', 'https://www.lieferando.de/en/menu/swing-kitchen-rosenthaler-str', 'https://www.lieferando.de/en/menu/izakaya', 'https://www.lieferando.de/en/menu/bonsignore-rosario', 'https://www.lieferando.de/en/menu/pizza-scheune-berlin-1', 'https://www.lieferando.de/en/menu/restaurant-meerpur-city', 'https://www.lieferando.de/en/menu/pizza-affe', 'https://www.lieferando.de/en/menu/a-cabana-1', 'https://www.lieferando.de/en/menu/ponchy', 'https://www.lieferando.de/en/menu/vino-e-libri-berlin', 'https://www.lieferando.de/en/menu/obok', 'https://www.lieferando.de/en/menu/diazo-reinickendorfer', 'https://www.lieferando.de/en/menu/la-siesta-coffee-more', 'https://www.lieferando.de/en/menu/les-vignes', 'https://www.lieferando.de/en/menu/oak-ice', 'https://www.lieferando.de/en/menu/keyfi-sefa-by-the-meat', 'https://www.lieferando.de/en/menu/izumi-sushi-berlin', 'https://www.lieferando.de/en/menu/crepestation-berlin', 'https://www.lieferando.de/en/menu/corallo-berlin', 'https://www.lieferando.de/en/menu/sophieneck', 'https://www.lieferando.de/en/menu/izakaya-watapas', 'https://www.lieferando.de/en/menu/golden-fleece', 'https://www.lieferando.de/en/menu/gangnam', 'https://www.lieferando.de/en/menu/valle-dei-templi', 'https://www.lieferando.de/en/menu/vedis-indisches-restaurant', 'https://www.lieferando.de/en/menu/la-tettoia', 'https://www.lieferando.de/en/menu/louis-alfons-berlin', 'https://www.lieferando.de/en/menu/buona-sera', 'https://www.lieferando.de/en/menu/simela-finest-food-koppenplatz', 'https://www.lieferando.de/en/menu/fuku-sushi', 'https://www.lieferando.de/en/menu/lal-badshah', 'https://www.lieferando.de/en/menu/ciao-ciao-berlin', 'https://www.lieferando.de/en/menu/san-marco-prenzlauer-berg', 'https://www.lieferando.de/en/menu/indisches-pakstanisches-restaurant-asman', 'https://www.lieferando.de/en/menu/lecker-song-berlin', 'https://www.lieferando.de/en/menu/antonios-pizzeria', 'https://www.lieferando.de/en/menu/chimneys-berlin', 'https://www.lieferando.de/en/menu/marina-blu', 'https://www.lieferando.de/en/menu/yasaka-sushi-berlin-mitte-berlin', 'https://www.lieferando.de/en/menu/hung-anh', 'https://www.lieferando.de/en/menu/noi-due-berlin', 'https://www.lieferando.de/en/menu/suriya-kanthi-der-sonnenschein', 'https://www.lieferando.de/en/menu/fatefoodbag', 'https://www.lieferando.de/en/menu/tak-tak-polish-deli', 'https://www.lieferando.de/en/menu/restaurant-massai', 'https://www.lieferando.de/en/menu/vegano-flavors', 'https://www.lieferando.de/en/menu/cookies-cream-1', 'https://www.lieferando.de/en/menu/sveda', 'https://www.lieferando.de/en/menu/kanaan-10437', 'https://www.lieferando.de/en/menu/kuzo', 'https://www.lieferando.de/en/menu/asia-deli', 'https://www.lieferando.de/en/menu/a-magica', 'https://www.lieferando.de/en/menu/asman-berlin', 'https://www.lieferando.de/en/menu/happy-asia-berlin-danzigerstr', 'https://www.lieferando.de/en/menu/malzcafe', 'https://www.lieferando.de/en/menu/restaurant-jalla-jalla', 'https://www.lieferando.de/en/menu/creasian', 'https://www.lieferando.de/en/menu/delabuu-ice-cream-gleimstrasse', 'https://www.lieferando.de/en/menu/juki-korean-bbq-and-soju-bar', 'https://www.lieferando.de/en/menu/italofritzen', 'https://www.lieferando.de/en/menu/la-premiata', 'https://www.lieferando.de/en/menu/kebab-house-berlin', 'https://www.lieferando.de/en/menu/morgenland-berlin-kreuzberg', 'https://www.lieferando.de/en/menu/sausalitos-berlin-oranienburger-strasse', 'https://www.lieferando.de/en/menu/hamdibaba-schoneberg', 'https://www.lieferando.de/en/menu/dada-falafel', 'https://www.lieferando.de/en/menu/weilands-wellfood-1', 'https://www.lieferando.de/en/menu/manngo-vietnam-restaurant-berlin', 'https://www.lieferando.de/en/menu/rotes-kamel', 'https://www.lieferando.de/en/menu/sam-yuk-gu', 'https://www.lieferando.de/en/menu/pizza-nostra-berlin', 'https://www.lieferando.de/en/menu/master-chi', 'https://www.lieferando.de/en/menu/hot-million-burger-berlin', 'https://www.lieferando.de/en/menu/der-everest', 'https://www.lieferando.de/en/menu/koefte-ma', 'https://www.lieferando.de/en/menu/solo-pizza-berlin-1', 'https://www.lieferando.de/en/menu/doener-curry', 'https://www.lieferando.de/en/menu/burgermeister-eberswalder', 'https://www.lieferando.de/en/menu/diazo-r', 'https://www.lieferando.de/en/menu/suppenfreunde', 'https://www.lieferando.de/en/menu/aroy', 'https://www.lieferando.de/en/menu/spar-express-berlin-prenzl-allee', 'https://www.lieferando.de/en/menu/zeitlos-pizzeria', 'https://www.lieferando.de/en/menu/little-italy', 'https://www.lieferando.de/en/menu/smokey-greens', 'https://www.lieferando.de/en/menu/bistro-oez-tadim', 'https://www.lieferando.de/en/menu/mr-hoang-berlin', 'https://www.lieferando.de/en/menu/hanoi-st-16', 'https://www.lieferando.de/en/menu/berlin-don-giovanni', 'https://www.lieferando.de/en/menu/monsieur-vuong', 'https://www.lieferando.de/en/menu/ninhao-china-restaurant', 'https://www.lieferando.de/en/menu/yildiz-goezleme-wedding', 'https://www.lieferando.de/en/menu/mrpfani', 'https://www.lieferando.de/en/menu/jaspers-restaurant', 'https://www.lieferando.de/en/menu/suite-seventeen-restaurant', 'https://www.lieferando.de/en/menu/aromi-e-sapori', 'https://www.lieferando.de/en/menu/dean-david-berlin-karl-liebknecht-strasse', 'https://www.lieferando.de/en/menu/co-chu-vietnam-gourmet-berlin', 'https://www.lieferando.de/en/menu/mr-lee-10437', 'https://www.lieferando.de/en/menu/com-nam', 'https://www.lieferando.de/en/menu/my-anh-berlin-1', 'https://www.lieferando.de/en/menu/raum-schwalbe', 'https://www.lieferando.de/en/menu/rou-vegetarian-online', 'https://www.lieferando.de/en/menu/buffalo-2', 'https://www.lieferando.de/en/menu/nha-toi-restaurant', 'https://www.lieferando.de/en/menu/der-blaue-fuchs', 'https://www.lieferando.de/en/menu/mex-burger-1', 'https://www.lieferando.de/en/menu/schust', 'https://www.lieferando.de/en/menu/restaurant-pasternak', 'https://www.lieferando.de/en/menu/restaurant-kollwitz', 'https://www.lieferando.de/en/menu/bangkok-bites-berlin', 'https://www.lieferando.de/en/menu/salar-of-india-12101', 'https://www.lieferando.de/en/menu/gujrat-palace-restaurant', 'https://www.lieferando.de/en/menu/mandi-halal', 'https://www.lieferando.de/en/menu/india-sweet-house', 'https://www.lieferando.de/en/menu/berliner-marcus-brau', 'https://www.lieferando.de/en/menu/khushi-indian-cuisine-berlin', 'https://www.lieferando.de/en/menu/burgerie-berlin-1', 'https://www.lieferando.de/en/menu/pizza-hut-berlin-potsdamer-platz', 'https://www.lieferando.de/en/menu/kumari-indian-food', 'https://www.lieferando.de/en/menu/restaurant-51', 'https://www.lieferando.de/en/menu/restaurant-bella-italia-berlin', 'https://www.lieferando.de/en/menu/coreen', 'https://www.lieferando.de/en/menu/salah-imbiss', 'https://www.lieferando.de/en/menu/quchnia-berlin-1', 'https://www.lieferando.de/en/menu/schmalzmann-delicatesserie', 'https://www.lieferando.de/en/menu/spar-express-berlin-lehrter-bhf', 'https://www.lieferando.de/en/menu/eis-auf-heiss', 'https://www.lieferando.de/en/menu/fellas-oesterreichische-kueche', 'https://www.lieferando.de/en/menu/andaluzia', 'https://www.lieferando.de/en/menu/joseph-berlin', 'https://www.lieferando.de/en/menu/dumpling-house', 'https://www.lieferando.de/en/menu/la-margherita-danziger-strasse', 'https://www.lieferando.de/en/menu/wonder-waffel-berlin-leipziger-platz', 'https://www.lieferando.de/en/menu/die-eins', 'https://www.lieferando.de/en/menu/flying-monkey', 'https://www.lieferando.de/en/menu/andys-diner-bar', 'https://www.lieferando.de/en/menu/vino-basilico', 'https://www.lieferando.de/en/menu/xoi-sticky-rice', 'https://www.lieferando.de/en/menu/saltn-bone', 'https://www.lieferando.de/en/menu/cyclo-propstr', 'https://www.lieferando.de/en/menu/sun-day-burger', 'https://www.lieferando.de/en/menu/spoonful-berlin-mitte', 'https://www.lieferando.de/en/menu/manju-berlin-leipziger-platz', 'https://www.lieferando.de/en/menu/frische-quarkbaellchen', 'https://www.lieferando.de/en/menu/spar-express-berlin-alexanderplatz']\n",
      "['BURGER KING ®', 'Bowl Time', 'BURGER KING ®', 'BURGER KING ®', 'Bring Bakery', \"O'Tacos\", 'Kreuzburger', 'Xi Gon', 'Habba Habba', \"Riga's Pizza Box\", 'Maison Viet Restaurant', \"Dunkin' Donuts\", \"Dunkin' Donuts\", 'Dawat Indische Spezialitäten', 'Madni Indische Spezialitäten', 'ComCha Vegan', 'Café Old Style', 'Restaurant Machiavelli', 'Miu Lunch', \"O'Tacos\", 'Salami Social Club II', 'Pablo Coffee', 'Nampan Restaurant', \"Dunkin' Donuts\", 'Funa Sushi', 'Fitery - Healthy, Fitness & Sport Food', \"Dunkin' Donuts\", \"Dunkin' Donuts\", 'Sushi City', 'Sushi Yana', 'Bombay Berlin', 'Mauer Kebab', 'Casalot Restaurant', \"Dunkin' Donuts\", 'Ristorante Porta Nova', 'Hoa Nam Asia Wok-Sushi Bar', \"Dunkin' Donuts\", 'Safran Berlin', 'Krishna - Indisches & Nepalesisches Restaurant', 'Escendo Pizzeria', 'Babo Sushi', 'Dildaar Indische Spezialitäten', 'Khatmandu Indisch und Nepalesisch Lieferservice', 'Falafelo Berlin', 'Call a Pizza', 'Ajwa Restaurant', 'HOA SUSHI', 'First GrillHaus', 'fastVegan by Levo & Lori', 'Ossaka Sushi', 'Akito Sushi Bar', 'La Piazza', 'Taj Mahal Haus 3', 'Pizza Coach', 'Marea', 'iiu - Asian Fusion Food', 'La Gino', 'Ariston Taverna Hellas', 'Kenko Sushi', 'Indda', 'Punjabi Tarka - Indischer Lieferservice', 'Oishinbo Izakaya', 'Saiko Sushi', 'BurgerVision', 'Pizza Kartell', 'Pizzeria Mini Perle', 'Nymami', 'Pizza Noi', 'Dana Pani Indische Spezialitäten', 'Burger Stop Pizza', 'Papa No', 'Chainone', 'dean & david', 'Smile', 'Bergmann Burger by BeefMan', 'Chibee - Korean Chicken & Beer', 'Vadoli Pizza Berlin Mitte', 'Rocca Pizza & Pasta', 'Apna Virsa', 'Xigon 1987', 'Aki Tatsu', 'Call to Eat', 'Mizyan Restaurant', 'Sadhu 3', 'Core - Korean Cuisine', 'Burger Dreams', 'Pizza De Lux Berlin', 'Sushi For You', 'House of Do An', \"90's Burger\", 'Toast & Hot Dog by Yale', 'AMRIT - Berlin Mitte', 'Cat Tuong', \"Butt's Spicy Kitchen Indian Cuisine (Halal)\", 'City Chicken 1', 'Taj India Haus', 'immergrün', 'Asia Food Tuan Linh', 'Pizza Max', 'Berlin Burrito', 'Caphe HOA', 'Pizza e Pasta 2', 'Rosario Steakhaus & Pizzeria', 'Akito Sushi Express', 'Mix & Match', 'Mayflower', 'Eden - Vietnamesisches Restaurant', 'Moccachino', 'WORLD OF PIZZA', 'Willis Restaurant', 'Asuka Sushi', 'Burgerzimmer', \"Crispy's Chicken\", 'DALUMA Weinbergsweg', 'Happy Buddha', 'Reisfreude', 'Hako Prenzlauerberg', \"Chef's - by Butterbrot\", 'Rausch Schokoladenhaus (Café)', 'The Small Garden', 'Asian fine food', 'Tasty India', 'Vegan Tiger', 'häppies', 'geh Veg', 'BEN RAHIM', 'Mangiare and Go', 'Eispatisserie Hokey Pokey', 'KUCHI Mitte', 'Burger World Berlin', 'Star of India Lieferservice', 'Harika Liferservice', 'Da Giorgio', 'Burgerzimmer', 'Papi Imbiss', 'Rolls Asian Street Food', 'Call a Pizza', 'Soul Sushi', 'Chelany - Mitte', 'Yesil Firin Holzofen Grill Restaurant', 'Bookmyholiday Reisecafe', 'Schnitzelkönig', 'Rosenburger Berlin', 'NORDSEE', 'China - City', 'Vincent Vegan IV', 'WILD & RAW Poké Bowls', 'The Orient House', 'Pizza Dundun', 'Der Fischladen Schönhauser Allee', 'El-Rief Orientalische - Arabische Küche', 'Falafel Al Amin', 'Köylüoglu Restaurant', 'Houdini', 'Tien Linh Khang Restaurant, Lieferservice & Events', 'Yöre Gözleme Ve Manti Evi', 'Sumo Sushi', 'Red Dragon Lieferservice', 'Wrapublic - Schönhauser Allee', 'Lovely Sushi', 'Royals & Rice', 'Restaurant Al Hamra', 'Yumcha Heroes', 'Mami Restaurant', 'Tor Kebab', 'Nur Kebap', 'Bilakiss', 'Dar 4 - Sudanesische Spezialitäten', 'Viet Nam & Sushi Bar', 'Pizzeria Allegro', 'Wilhelms Burger', \"McDonald's®\", 'Cana Restaurant & Catering', 'Thai Aroma', 'Formidable', 'Lemon Grass Scent', 'Nihombashi', 'Ristorante Al Mondo', 'Yogi indisches Restaurant', 'Pasta & Vino', 'HaiCoffee & Asian Food and Sushi', 'Pizza Max', 'Nusantara Restaurant', 'Restaurant Lichtburg', '7 Dumpling', 'Alt-Berliner Gasthaus Julchen Hoppe', 'Datscha', 'Taktiek', 'Foodland', 'Neapizza 1889', 'Berlin Cigköfte Vegan', 'Jinbu Sushi', \"Pizza & Pasta Karamel's\", 'Zweistrom', 'Pho Co', 'Darbar Indische Spezialitäten', \"Pizzas 'n Burgers STOP\", 'Arata- Sushi & More', 'Trancina', 'Marubi Ramen', 'Don Sushi 15', 'Minty 2', 'Gate 57', 'Best Friends', 'Shezan - Indisches Restaurant', 'Bistro Mola', 'Curry Mitte', 'Balli Holzkohlegrill Restaurant', 'Mamay - vietnamesiche Küche und Teehaus', 'Köfteci Musti', 'Döner Center', 'Café Journale', 'Moloko', \"Fresh's\", 'Mozzarella & Pomodoro', 'MOC', 'Street Kitchen - Authentic Asian Food', 'Chay Long', 'Ryong', 'Quantuan', 'Aiko - Sushi & Grillrestaurant', 'Aftab Persische Safranreis Bowl II', 'Döner Point', 'Food Brother', 'Leo Leo', 'Ming Dynastie', 'Cispace', 'Hubertha vietnamesisches Restaurant und Cafe', 'Sucre et Sel', 'Kaffee Kiana', 'Yokozuna Sushi', 'Sushi Number 1', 'Restaurant Aposto', 'Basil', 'Curry 32', \"Bamboo's Hut Asiatische Küche & Sushi Bar\", 'Linh Linh Restaurant', \"Schmuck's Restauration\", 'Eispatisserie Hokey Pokey', 'Pizzeria Milano Trattoria', 'Choppaluna', \"90's Pizza\", 'Hanoi Bistro', 'Lee - Original Vietnamese Kitchen', 'Yummy Mummy', 'Baklavaci Antepliogullari', 'Wrapublic', 'Indian Village Berlin', 'Vegan Living Quy Nguyen', \"Domino's Pizza\", 'DINER 67', 'Verona Italian Restaurant', 'Espresso House', 'La Criolla Empanadas', 'Prinzen Falafel', 'The Fiuty', \"An's Tea House\", 'Viet Village', 'Steinofen-Pizza to Go', 'Starbucks', 'Kim999 Vietnamese Vegan & Veggie Cuisine', 'Chaomin-Congee Restaurant', 'Wraps Wraps', 'CÀI Kitchen Berlin - Szechuan Vegan Bistro', '+84 Asian Deli & Vegan Kitchen', 'Café Fleury', 'Saaky', 'Curry at the Wall Berlin Mitte', 'Maide Manti - Halal Food Production', 'Funk You', \"Schäfer's\", 'THE PHO BAR - BERLIN', 'Falafel Sababa', 'Döner Inn', 'Swing Kitchen', 'Army Food', 'Mozzarella Bar & Bottega', 'Sunay Inegöl Köfteci', 'Mogg', 'Phuoc Restaurant', 'Com Viet', 'Nem & More', 'Falafel Aladdin', 'BACK-FACTORY', 'Ali Baba', 'Little Green Rabbit', 'Tucano Coffee', 'Besh', 'Eat Culture', 'Kiraku', 'Bessma Food', 'Bibi Mix', 'Planet Wein', 'Cowei Berlin', 'Chopstix', 'BACK-FACTORY', 'Zuckerberg - Traditional Candy Shop', 'Baffels Café and More', 'Burgerwood', 'Little Green Rabbit', \"Minty's Fresh Food Bar\", 'Kaffee mit Zucker', \"Good'n Vegan im Mövenpick Hotel Berlin\", 'Fatih Servet Döner', 'The 100 Cafe', 'Lovely', 'Guten Dag', 'Damaru Indische Spezialitäten', 'Adora Döner Kumru', 'Der neue Platzhirsch', 'Dao Nguyen Asia - Sushi', 'Örnek', 'Pommes Freunde', 'Onkel Ho', 'Pasta Focaccia', 'BRGRS BRGRS - Organic Burgers', 'Mama Cook Restaurant', 'Bollywood', 'Wedding Grillhaus', 'KFC', 'Thai Son Imbiss', 'Exelans', 'Saha - Gaziantep Spezialitäten', 'Subway', 'King of India', 'The Fresh Seeds', 'Yogi - Restaurant', 'Pizza La Mora', 'Meet Me Halfway', 'Ki Kuriya', 'PIZZERIA NAPOLETANA', 'Trattoria Zoe', 'Chupenga Burritos & Salads', 'Raja', 'Hatoki', \"MA'LOA - Poké Bowl\", 'PHO - Noodlebar', 'Aldimashqi', 'Royals & Rice x Sons of Mana', 'Pizza Pasta Pause', 'Hum Vegan Cuisine - Berlin', 'Café Datscha- Gorki Park', \"MA'LOA - Poké Bowl\", 'Com Dai Dung - Japanische Spezialitäten', 'Pizza El Fredo', 'Mami Camilla Restaurant', 'HAN Express Korean Food Berlin', 'Restaurant Girasol', 'Feel Seoul Good', 'PocoLoco', 'momos - organic veggie dumplings', 'AKEMI-Asian soul kitchen', 'Hofbräu Wirtshaus', 'Beirut Express Libanesische Spezialitäten', 'Beets & Roots', 'Thai Duong - Vietnamesisches Restaurant', 'Restaurant Pamfilya', \"India's Spicy Tarka\", 'W-Der Imbiss', 'NORDSEE', 'NORDSEE', 'Pizzeria Marienkäfer', 'Maothai Restaurant', 'Aapka', 'Kaplan Bistro Schönhauser', '12 Taco Bar', 'Golden Rice', 'Paulaner Wirtshaus', 'Baba Sultan Köfteci I', 'Chupenga Burritos & Salads', 'Grindhouse - Homemade Burgers', 'KFC', 'O Der Burger Berlin', 'Coco Banh Mi Deli', \"Ben & Jerry's und Magnum\", 'GOA 2', 'Street Burger -Homemade-', 'Naan Indische Spezialitäten', 'Thai Ha - New Generation', \"MA'LOA - Poké Bowl\", 'mama trattoria', 'Alles Perfetto bei Petersen', 'Fünf & Sechzig', 'Chupenga Burritos', 'Frittenwerk', 'Agra - Pak. & Indian Cuisine', 'China Restaurant Hua Ting', 'Pizza Pasta Tralala', 'Kamala', 'La Cantina Berlin', 'Peter Pane', 'Lokman', 'Mamas Banh', 'Espresso House', 'Pizza Palast', 'Saray', 'Asia Gondel', 'Burger Lane', 'Cult Döner', \"Domino's Pizza\", 'Esra Falafel', 'Kebab Baba', 'Thuy Nga', 'Q Burger', 'Orient Station', 'Mammam Mitte', 'Viet & My II', 'South Vietnam', 'Bella Vita', 'Viet & My', 'Bayram Grillhaus', 'CholoSoy Peruanischer Imbiss', 'hoan kiem', 'Espresso House', 'Minh San', 'Restaurant La Vong', 'Asiagourmet', 'Nhat - Nguyet Quan', 'Bäckerei Kollwitz', 'Esszimmer', 'Espresso House', 'HOLY FLAT!', 'Koi 56', 'Vietnam Restaurant & Sushi Bar', 'Noodle Plus', 'Tandoori Nawab', 'Mr. Vertigo fine food', 'Gloria Empanadas', 'FALAFEL DAYE', 'Namu Sushi Lounge', 'CouCou Café & Deli', 'Espresso House', 'Burgermann', 'Pulcinella', 'Pizza Point Berlin Kreuzberg', \"Betty'n Caty\", 'Galetterie Café', 'Agri Bistro', 'Orlando', 'BrewDog', 'Pizza Peppino', 'Stop for Tea', 'Merelly Fine Sweets', 'Hanoi Gourmet', 'Mövenpick Hotel', 'Frühstück / Breakfast', 'BBQ Kitchen', 'Go!Fish', \"Hell's Kitchen Bärlin\", 'Subway', 'Nhat Long', 'Al Forno', 'Subway', 'La Fiamma - Berlin Wedding', \"McDonald's®\", 'Five Guys', 'Van Anh Quan', 'Mizu Ramen', 'Peter Pane', 'Akko Chicken & Grilled', \"McDonald's®\", \"Tommi's Burger Joint\", 'Trattoria Fidelia', 'Subway', 'Pepe Nero Trattoria-Pizzeria', 'Burger Boss', 'Burgermeister Potsdamer Platz', 'Burgerfabrik', 'Ristorante Pizzeria Roma', 'Sushi San', 'Cancún Restaurant Alexanderplatz', 'Ristorante DaVinci', 'Taco love', 'Erdinger am Gendarmenmarkt', 'Sons of Mana Mitte', 'Yaman grill', \"Restaurant Neumann's\", 'Italian Food Berlin', 'Babel Restaurant', 'Due Fratelli', 'La Galleria Italiana', 'Karaca - fresh food & delicious coffee', 'Carambar', 'Schiller Burger', 'Espresso House', 'Restaurant Aldente', 'DJ Bombay', 'Didim Restaurant', 'Papaya Restaurant', 'Mr. Beef', 'BRGRS BRGRS - Organic Burgers', \"L'Osteria\", 'Pizza Hut', \"L'Osteria\", 'Subway', 'Hans im Glück', 'Buddha Indische Spezialitäten', 'Kamps Bäckerei mit Backstube', 'Delhi 6', \"Ben & Jerry's und Magnum\", 'La Santa Lucha', \"Domino's Pizza\", 'Quang Loi', \"Ben & Jerry's und Magnum\", 'Bonjour Ha Noi', 'Subway', 'Masti Indian Food', 'KFC', 'Pinocchio', 'Little Green Rabbit Gendarmenmarkt', 'Kamps Bäckerei mit Backstube', 'Cigkoftem', 'Oriento', 'OLLA', 'arko', 'Caffe Bar Italia', 'Fatih Servet', 'Manju', 'Husseria', 'Cavolo Nero', 'Hussel', 'Il Cantuccio I Biscotti Di Leonardo', 'Currywurst Express', 'Go!Fish', 'Bentokado', 'Koempul Restaurant', 'Cafe Pirouette', 'Amrit Potsdamer Platz', 'Hot Million Burger', 'Diazo', 'BURGER KING ®', 'Sushi Palace', 'Mamma Mia', 'SmokePops', 'Sushi Circle', 'Roji - Godai No Sekai', 'Öz Adana Grillhaus', 'Pizza Tino Lieferservice', 'Riad Marakkesch Restaurant Bar', 'Sajan Restaurant&CateringService', 'L.A. Burger & Sushi', 'Fedora Bubble Waffle & Eismanufaktur', 'Prinz Bistro', 'Massimo Lieferservice', 'Partybrenner', 'Manjodh', 'Burger Republic', 'Blackbeards Berlin', 'Restaurant Marone', 'American Ice-Cream', 'Pizza Luna', 'Lezziz Restaurant - Food, Nuts & Sweets', 'Meena Kumari Restaurant', 'Rohhäppchen', 'Anh Dao - Indochinesische Spezialitäten', 'Pizza Kiste', \"American Burger und Nicks' Pizza\", 'Restaurant Mephisto Pizza & Pasta', 'Swing Kitchen', 'Izakaya by Bang', 'Antichi Aromi Trattoria', 'Pizza Scheune', 'Restaurant Meerpur City', 'Pizza Affe', 'A Cabana', 'Ponchy', 'Vino e libri', 'OBOK', 'Diazo', 'Ferrarino Pizza Delivery', 'Les Vignes', 'Oak & Ice', 'Keyfi Sefa by The Meat', 'Izumi Restaurant Sushi Bar', 'Crepestation', 'Restaurant Corallo', 'Gaststätte Sophieneck', 'Izakaya Watapas', 'Golden Fleece', 'Gangnam', 'Valle dei Templi', 'Vedis Indisches Restaurant', 'La Tettoia', 'Louis Alfons - PREMIUM BURGER & VEGGIE GRILL', 'Buona Sera', 'Simela Finest Food', 'Fuku Sushi', 'Lal Badshah', 'Ciao Ciao', 'San Marco', 'Indisches & Pakstanisches Restaurant Asman', 'Lecker Song', \"Antonio's Pizzeria\", 'Chimneys', 'Marina Blu', 'Umami Sushi', 'Hung Anh Vietnamesisches Restaurant', 'Noi Due', 'Suriya-Kanthi Der Sonnenschein', 'FateFoodBag', 'tak tak - polish deli', 'Restaurant Massai', 'Vegano Flavors', 'cookies and cream', 'Sveda', 'Kanaan', 'KUZO', 'Asia Deli', \"'A Magica\", 'ASMAN', 'Happy Asia', 'Tijuana', 'Restaurant Jalla Jalla', 'Creasian', 'Delabuu Ice Cream', 'Juki - Korean BBQ and Soju Bar', 'Italofritzen', 'La Premiata in Berlin since 2020', 'Kebab House', 'Morgenland', 'Sausalitos', 'Hamdibaba', 'Dada Falafel', 'Weilands Wellfood', 'Manngo Vietnam-Restaurant', 'Rotes Kamel', 'Sam Yuk Gu', 'Pizza Nostra', 'Master Chi', 'Hot Million Burger', 'Der Everest Indisch & Nepalesiches Restaurant', 'Köfte Ma', 'Solo Pizza', 'Döner & Curry', 'Burgermeister Eberswalder', 'Diazo ®', 'Suppenfreunde', 'Aroy', 'Spar Express', 'Zeitlos Pizzeria', 'Little italy', 'Smokey Greens', 'Bistro Öz Tadim', 'Mr. Hoang', 'Hanoi St. 16', 'Don Giovanni', 'Monsieur Vuong', 'Ninhao China Restaurant', 'Yildiz Gözleme', 'Mr. Pfani - Polnische Küche', \"Jasper's Restaurant\", 'Suite Seventeen Restaurant', 'Aromi e Sapori', 'dean & david', 'Co Chu Vietnam Gourmet Berlin', 'Mr. Le', 'Com Nam', 'My Anh', 'Raum Schwalbe', 'ROU Vegetarian', 'Buffalo 2', 'Nha Toi Restaurant', 'Der blaue Fuchs', 'Mex-Burger 1', 'Schust', 'Restaurant Pasternak', 'Restaurant Kollwitz', 'Bangkok Bites', 'Salar of India', 'Gujrat Palace Restaurant', 'Mandi Halal', 'My Indian Dream', 'Berliner Marcus Bräu', 'Khushi Indian cuisine', 'Burgerie', 'Pizza Hut', 'KUMARI - Indian Food', 'Restaurant 51', 'Restaurant Bella Italia Berlin', 'Coréen', 'Salah Steinofenpizza', 'Quchnia', 'DR. FRINGETOAST by Schmalzmann Delicatesserie', 'DB Service Store', 'Eis auf Heiss', 'Fellas Österreichische Küche', 'AndaluZia', 'JOSEPH', 'Dumpling House & Bubble Tee', 'La Margherita', 'Wonder Waffel', 'Die Eins', 'Flying Monkey', \"Andy's Diner and Bar\", 'Vino & Basilico', 'XOI - Sticky Rice', 'Salt n Bone', 'Cyclo', 'Sun Day Burger', 'Spoonful BERLIN', 'Manju', 'Frische Quarkbällchen', 'Spar Express']\n"
     ]
    }
   ],
   "source": [
    "# Extract the information for restaurants from this page\n",
    "\n",
    "driver.get(urls[0])\n",
    "time.sleep(10)\n",
    "scroll_down()\n",
    "#names = driver.find_elements(by=By.CLASS_NAME, value='restaurantname notranslate')\n",
    "#names = driver.find_elements(By.CSS_SELECTOR, \"h3\")\n",
    "restaurants_names = driver.find_elements(By.XPATH, \"//a[@class='restaurantname notranslate']\")\n",
    "\n",
    "restaurant_urls = []\n",
    "restaurant_names = []\n",
    "for restaurant in restaurants_names:\n",
    "    restaurant_urls.append(restaurant.get_attribute(\"href\"))\n",
    "    restaurant_names.append(restaurant.text)\n",
    "\n",
    "print(restaurant_urls)\n",
    "print(restaurant_names)"
   ]
  },
  {
   "cell_type": "code",
   "execution_count": null,
   "metadata": {},
   "outputs": [],
   "source": [
    "print(len(restaurant_names))\n",
    "print(len(restaurant_urls))"
   ]
  },
  {
   "cell_type": "code",
   "execution_count": null,
   "metadata": {},
   "outputs": [],
   "source": [
    "reviews = driver.find_elements(By.CLASS_NAME, \"review_rating\")\n",
    "print(len(reviews))"
   ]
  },
  {
   "cell_type": "code",
   "execution_count": null,
   "metadata": {},
   "outputs": [],
   "source": [
    "#restaurants = driver.find_elements(By.XPATH, \"//h2[@class='restaurantname']\")\n",
    "\n",
    "soup = BeautifulSoup(driver.page_source, \"html.parser\")\n"
   ]
  },
  {
   "cell_type": "code",
   "execution_count": null,
   "metadata": {},
   "outputs": [],
   "source": [
    "reviews = soup.find_all(\"div\", class_=\"review-rating\")\n",
    "print(len(reviews))\n",
    "reviews[0]"
   ]
  },
  {
   "cell_type": "code",
   "execution_count": null,
   "metadata": {},
   "outputs": [],
   "source": [
    "def convert_rating(rating_attribute):\n",
    "    found = re.search(r\"[0-9]{1,3}\", rating_attribute)\n",
    "    return int(found[0]) / 20\n",
    "    \n",
    "convert_rating('width: 100%;')"
   ]
  },
  {
   "cell_type": "code",
   "execution_count": null,
   "metadata": {},
   "outputs": [],
   "source": [
    "clean_reviews = reviews[ :len(restaurants_names)] # Remove the last element in the list which does not contain a review\n",
    "restaurant_reviews = []\n",
    "for clean_review in clean_reviews:\n",
    "    rating = clean_review.find(\"span\").get(\"style\")\n",
    "    restaurant_reviews.append(convert_rating(rating))\n",
    "    \n",
    "len(restaurant_reviews)\n",
    "    \n"
   ]
  },
  {
   "cell_type": "code",
   "execution_count": null,
   "metadata": {},
   "outputs": [],
   "source": [
    "total_ratings = soup.find_all(\"span\", class_=\"rating-total\")\n",
    "clean_ratings = total_ratings[ :len(restaurants_names)]\n",
    "\n",
    "restaurant_rating_totals = []\n",
    "for clean_rating in clean_ratings:\n",
    "    total_rating = clean_rating.text.strip()\n",
    "    total_rating = re.search(r\"[0-9]{1,5}\", total_rating)[0]\n",
    "    restaurant_rating_totals.append(int(total_rating))\n",
    "\n",
    "print(len(restaurant_rating_totals))\n",
    "restaurant_rating_totals[0:5]\n"
   ]
  },
  {
   "cell_type": "code",
   "execution_count": null,
   "metadata": {},
   "outputs": [],
   "source": [
    "kitchens = soup.find_all(\"div\", class_=\"kitchens\")\n",
    "clean_kitchens = kitchens[ :len(restaurant_names)]\n",
    "\n",
    "restaurant_kitchens = []\n",
    "for clean_kitchen in clean_kitchens:\n",
    "    restaurant_kitchens.append(clean_kitchen.find(\"span\").text)\n",
    "    \n",
    "len(restaurant_kitchens)\n",
    "    "
   ]
  },
  {
   "cell_type": "code",
   "execution_count": null,
   "metadata": {},
   "outputs": [],
   "source": [
    "# Final restaurant list\n",
    "\n",
    "restaurant_list = []\n",
    "for restaurant_name, restaurant_url, restaurant_review, restaurant_rating_total, restaurant_kitchen in zip(restaurant_names, restaurant_urls, restaurant_reviews, restaurant_rating_totals, restaurant_kitchens):\n",
    "    restaurant_list.append(\n",
    "        dict(restaurant_name=restaurant_name,\n",
    "             restaurant_url=restaurant_url, \n",
    "             restaurant_review=restaurant_review, \n",
    "             restaurant_rating_total=restaurant_rating_total, \n",
    "             restaurant_kitchen=restaurant_kitchen)\n",
    "    )\n",
    "    \n",
    "restaurant_list[:2]"
   ]
  },
  {
   "cell_type": "markdown",
   "metadata": {},
   "source": [
    "# Feature extraction from the restaurant pages"
   ]
  },
  {
   "cell_type": "code",
   "execution_count": null,
   "metadata": {},
   "outputs": [],
   "source": [
    "driver.get(restaurant_list[0].get(\"restaurant_url\"))\n",
    "wait = WebDriverWait(driver, 15)\n",
    "wait.until(ec.visibility_of_element_located(\n",
    "    (By.XPATH, \"//button[@class='info info-icon js-open-info-tab']\")))\n",
    "\n",
    "\n",
    "button = driver.find_element(By.XPATH, \"//button[@class='info info-icon js-open-info-tab']\")\n",
    "button.click()"
   ]
  },
  {
   "cell_type": "code",
   "execution_count": null,
   "metadata": {},
   "outputs": [],
   "source": [
    "address = driver.find_element(By.XPATH, \"//section[@class='card-body notranslate']\").text\n",
    "\n",
    "address"
   ]
  },
  {
   "cell_type": "code",
   "execution_count": null,
   "metadata": {},
   "outputs": [],
   "source": [
    "# Extract street, ZIP code and City from string\n",
    "street = re.search(r\".*\", address)[0]\n",
    "zip_code = re.search(r\"[0-9]{5}\", address)[0]\n",
    "city = re.search(r\"[\\w]+$\", address)[0]\n",
    "\n",
    "print(\"street:\", street)\n",
    "print(\"zip code:\", zip_code)\n",
    "print(\"city:\", city)"
   ]
  },
  {
   "cell_type": "code",
   "execution_count": null,
   "metadata": {},
   "outputs": [],
   "source": [
    "copy_rest_list = restaurant_list.copy()"
   ]
  },
  {
   "cell_type": "code",
   "execution_count": null,
   "metadata": {},
   "outputs": [],
   "source": [
    "copy_rest_list[0][\"street\"] = street\n",
    "copy_rest_list[0][\"zip_code\"] = zip_code\n",
    "copy_rest_list[0][\"city\"] = city\n",
    "\n",
    "copy_rest_list[0]"
   ]
  },
  {
   "cell_type": "code",
   "execution_count": null,
   "metadata": {},
   "outputs": [],
   "source": [
    "import pandas as pd\n",
    "df = pd.DataFrame(restaurant_list)\n",
    "df.drop_duplicates(subset=['restaurant_url'], inplace=True)\n",
    "restaurant_urls = df[\"restaurant_url\"]\n",
    "\n",
    "list(restaurant_urls)\n",
    "for index, url in restaurant_urls:\n",
    "    print(index, url)"
   ]
  },
  {
   "cell_type": "code",
   "execution_count": null,
   "metadata": {},
   "outputs": [],
   "source": []
  },
  {
   "cell_type": "markdown",
   "metadata": {},
   "source": [
    "# Stuff that didn't work"
   ]
  },
  {
   "cell_type": "code",
   "execution_count": null,
   "metadata": {},
   "outputs": [],
   "source": [
    "delivery_costs = soup.find_all(\"div\", class_=\"delivery-cost js-delivery-cost notranslate\")\n",
    "len(delivery_costs)"
   ]
  },
  {
   "cell_type": "code",
   "execution_count": null,
   "metadata": {},
   "outputs": [],
   "source": [
    "delivery_times = soup.find_all(\"div\", class_=\"avgdeliverytime avgdeliverytimefull open\")\n",
    "\n",
    "restaurant_delivery_times = [item.text for item in delivery_times]\n",
    "\n",
    "len(restaurant_delivery_times) # Different because it's empty for restaurants that are closed for delivery or closed right now"
   ]
  },
  {
   "cell_type": "code",
   "execution_count": null,
   "metadata": {},
   "outputs": [],
   "source": [
    "restaurant_delivery_cost = [item.text for item in delivery_costs]\n",
    "print(len(restaurant_delivery_cost)) \n",
    "set(restaurant_delivery_cost) # unique Delivery costs don't include \"Free\"\n",
    "\n",
    "# Excludes restaurants where delivery is free and which are closed"
   ]
  },
  {
   "cell_type": "code",
   "execution_count": null,
   "metadata": {},
   "outputs": [],
   "source": [
    "restaurant_wrapper = soup.find_all(\"div\", class_=\"detailswrapper\")\n",
    "\n",
    "restaurant_wrapper[0]\n",
    "\n",
    "# This just contains skeleton code"
   ]
  },
  {
   "cell_type": "markdown",
   "metadata": {},
   "source": [
    "# Checking whether pickled files are okay"
   ]
  },
  {
   "cell_type": "code",
   "execution_count": 12,
   "metadata": {},
   "outputs": [
    {
     "data": {
      "text/plain": [
       "5709"
      ]
     },
     "execution_count": 12,
     "metadata": {},
     "output_type": "execute_result"
    }
   ],
   "source": [
    "with open('../geotracker/data/restaurant_list_pickles/restaurant_list_7.pkl', 'rb') as f:\n",
    "    restaurant_list = pickle.load(f)\n",
    "    \n",
    "len(restaurant_list)"
   ]
  },
  {
   "cell_type": "code",
   "execution_count": 26,
   "metadata": {},
   "outputs": [
    {
     "data": {
      "text/plain": [
       "60"
      ]
     },
     "execution_count": 26,
     "metadata": {},
     "output_type": "execute_result"
    }
   ],
   "source": [
    "with open('../raw_data/lieferando_pickles/city_lists/city_list_60.pkl', 'rb') as f:\n",
    "    city_list = pickle.load(f)\n",
    "    \n",
    "len(city_list)"
   ]
  },
  {
   "cell_type": "code",
   "execution_count": 27,
   "metadata": {},
   "outputs": [
    {
     "data": {
      "text/plain": [
       "Berlin    60\n",
       "dtype: int64"
      ]
     },
     "execution_count": 27,
     "metadata": {},
     "output_type": "execute_result"
    }
   ],
   "source": [
    "import pandas as pd\n",
    "pd.Series(city_list).value_counts()"
   ]
  },
  {
   "cell_type": "code",
   "execution_count": 30,
   "metadata": {},
   "outputs": [
    {
     "data": {
      "text/plain": [
       "400"
      ]
     },
     "execution_count": 30,
     "metadata": {},
     "output_type": "execute_result"
    }
   ],
   "source": [
    "with open('../raw_data/lieferando_pickles/zip_code_lists/zip_code_list_400.pkl', 'rb') as f:\n",
    "    zip_code_list = pickle.load(f)\n",
    "    \n",
    "len(zip_code_list)"
   ]
  },
  {
   "cell_type": "code",
   "execution_count": 31,
   "metadata": {},
   "outputs": [
    {
     "data": {
      "text/plain": [
       "10437    46\n",
       "10117    39\n",
       "10119    38\n",
       "10178    28\n",
       "10435    23\n",
       "         ..\n",
       "12347     1\n",
       "10965     1\n",
       "13187     1\n",
       "13088     1\n",
       "13407     1\n",
       "Length: 61, dtype: int64"
      ]
     },
     "execution_count": 31,
     "metadata": {},
     "output_type": "execute_result"
    }
   ],
   "source": [
    "pd.Series(zip_code_list).value_counts()"
   ]
  },
  {
   "cell_type": "code",
   "execution_count": 29,
   "metadata": {},
   "outputs": [
    {
     "data": {
      "text/plain": [
       "80"
      ]
     },
     "execution_count": 29,
     "metadata": {},
     "output_type": "execute_result"
    }
   ],
   "source": [
    "with open('../raw_data/lieferando_pickles/street_lists/street_list_80.pkl', 'rb') as f:\n",
    "    street_list = pickle.load(f)\n",
    "    \n",
    "len(street_list)"
   ]
  },
  {
   "cell_type": "code",
   "execution_count": null,
   "metadata": {},
   "outputs": [
    {
     "data": {
      "text/plain": [
       "10437    46\n",
       "10117    39\n",
       "10119    38\n",
       "10178    28\n",
       "10435    23\n",
       "         ..\n",
       "12347     1\n",
       "10965     1\n",
       "13187     1\n",
       "13088     1\n",
       "13407     1\n",
       "Length: 61, dtype: int64"
      ]
     },
     "metadata": {},
     "output_type": "display_data"
    }
   ],
   "source": [
    "pd.Series(zip_code_list).value_counts()"
   ]
  },
  {
   "cell_type": "code",
   "execution_count": 41,
   "metadata": {},
   "outputs": [
    {
     "data": {
      "text/plain": [
       "3"
      ]
     },
     "execution_count": 41,
     "metadata": {},
     "output_type": "execute_result"
    }
   ],
   "source": [
    "import numpy as np\n",
    "np.random.randint(1,4)"
   ]
  },
  {
   "cell_type": "code",
   "execution_count": 23,
   "metadata": {},
   "outputs": [
    {
     "ename": "AttributeError",
     "evalue": "module 'threading' has no attribute 'csv_writer_lock'",
     "output_type": "error",
     "traceback": [
      "\u001b[0;31m---------------------------------------------------------------------------\u001b[0m",
      "\u001b[0;31mAttributeError\u001b[0m                            Traceback (most recent call last)",
      "\u001b[0;32m/var/folders/2v/75hdky1j1xv5mw9hmtz1l2140000gq/T/ipykernel_32511/2603243894.py\u001b[0m in \u001b[0;36m<module>\u001b[0;34m\u001b[0m\n\u001b[1;32m      1\u001b[0m \u001b[0;32mfrom\u001b[0m \u001b[0mconcurrent\u001b[0m\u001b[0;34m.\u001b[0m\u001b[0mfutures\u001b[0m \u001b[0;32mimport\u001b[0m \u001b[0mThreadPoolExecutor\u001b[0m\u001b[0;34m\u001b[0m\u001b[0;34m\u001b[0m\u001b[0m\n\u001b[1;32m      2\u001b[0m \u001b[0;34m\u001b[0m\u001b[0m\n\u001b[0;32m----> 3\u001b[0;31m \u001b[0mthreading\u001b[0m\u001b[0;34m.\u001b[0m\u001b[0mcsv_writer_lock\u001b[0m\u001b[0;34m(\u001b[0m\u001b[0;34m)\u001b[0m\u001b[0;34m\u001b[0m\u001b[0;34m\u001b[0m\u001b[0m\n\u001b[0m",
      "\u001b[0;31mAttributeError\u001b[0m: module 'threading' has no attribute 'csv_writer_lock'"
     ]
    }
   ],
   "source": [
    "from concurrent.futures import ThreadPoolExecutor\n",
    "\n",
    "threading.csv_writer_lock()"
   ]
  },
  {
   "cell_type": "code",
   "execution_count": null,
   "metadata": {},
   "outputs": [],
   "source": []
  }
 ],
 "metadata": {
  "interpreter": {
   "hash": "37803fb805524fdccba396a39b7f0f988aa9f20b89dae5d95057c5414e00d75e"
  },
  "kernelspec": {
   "display_name": "Python 3.8.12 64-bit ('geotracker': pyenv)",
   "language": "python",
   "name": "python3"
  },
  "language_info": {
   "codemirror_mode": {
    "name": "ipython",
    "version": 3
   },
   "file_extension": ".py",
   "mimetype": "text/x-python",
   "name": "python",
   "nbconvert_exporter": "python",
   "pygments_lexer": "ipython3",
   "version": "3.8.12"
  },
  "orig_nbformat": 4
 },
 "nbformat": 4,
 "nbformat_minor": 2
}
