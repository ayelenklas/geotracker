{
 "cells": [
  {
   "cell_type": "code",
   "execution_count": 63,
   "metadata": {},
   "outputs": [],
   "source": [
    "import pickle\n",
    "import re\n",
    "from bs4 import BeautifulSoup\n",
    "from selenium import webdriver\n",
    "from selenium.webdriver.chrome.options import Options\n",
    "from selenium.webdriver.firefox.options import Options\n",
    "from selenium.webdriver.common.by import By\n",
    "from selenium.webdriver.support.ui import WebDriverWait\n",
    "from selenium.webdriver.support import expected_conditions as ec"
   ]
  },
  {
   "cell_type": "code",
   "execution_count": 30,
   "metadata": {},
   "outputs": [],
   "source": [
    "# Unpickle zip code list\n",
    "with open('../geotracker/data/zip.pkl', 'rb') as f:\n",
    "    zip_codes = pickle.load(f)"
   ]
  },
  {
   "cell_type": "code",
   "execution_count": 31,
   "metadata": {},
   "outputs": [
    {
     "data": {
      "text/plain": [
       "'https://www.lieferando.de/en/delivery/food/berlin-10115'"
      ]
     },
     "execution_count": 31,
     "metadata": {},
     "output_type": "execute_result"
    }
   ],
   "source": [
    "# Create iterable list of URLS for the scraper\n",
    "base_url = \"https://www.lieferando.de/en/delivery/food/berlin-\"\n",
    "urls = [base_url + zip_code for zip_code in zip_codes]\n",
    "urls[0]"
   ]
  },
  {
   "cell_type": "markdown",
   "metadata": {},
   "source": [
    "# Restaurant page overview for each ZIP Code"
   ]
  },
  {
   "cell_type": "code",
   "execution_count": 34,
   "metadata": {},
   "outputs": [],
   "source": [
    "# Set selenium options\n",
    "options = Options()\n",
    "#options.add_argument(\"--headless\")  # Starts driver without opening a window\n",
    "driver = webdriver.Firefox(options=options)"
   ]
  },
  {
   "cell_type": "code",
   "execution_count": 123,
   "metadata": {},
   "outputs": [
    {
     "name": "stdout",
     "output_type": "stream",
     "text": [
      "['https://www.lieferando.de/en/menu/diazo-greifenhagener', 'https://www.lieferando.de/en/menu/hot-million-burger-reinickendorfer', 'https://www.lieferando.de/en/menu/burger-king-berlin-schoenhauser-allee', 'https://www.lieferando.de/en/menu/burger-king-berlin-alexanderplatz', 'https://www.lieferando.de/en/menu/bowl-time', 'https://www.lieferando.de/en/menu/burger-king-berlin-mitte-bahnhof', 'https://www.lieferando.de/en/menu/bring-bakery', 'https://www.lieferando.de/en/menu/otacos-berlin-spandauer-strasse', 'https://www.lieferando.de/en/menu/kreuzburger-friedrichshain', 'https://www.lieferando.de/en/menu/pizza-nostra-berlin', 'https://www.lieferando.de/en/menu/xi-gon', 'https://www.lieferando.de/en/menu/sushi-palace-berlin-pankow', 'https://www.lieferando.de/en/menu/habba-habba-berlin', 'https://www.lieferando.de/en/menu/madni', 'https://www.lieferando.de/en/menu/dunkin-donuts-berlin-unter-den-linden', 'https://www.lieferando.de/en/menu/dunkin-donuts-berlin-badstrasse', 'https://www.lieferando.de/en/menu/zeitlos-pizzeria', 'https://www.lieferando.de/en/menu/maison-viet-10437', 'https://www.lieferando.de/en/menu/riga-s-pizza-box-berlin-berlin', 'https://www.lieferando.de/en/menu/smokepops', 'https://www.lieferando.de/en/menu/cafe-old-style', 'https://www.lieferando.de/en/menu/otacos-berlin-gesundbrunnen-badstrasse', 'https://www.lieferando.de/en/menu/restaurant-machiavelli-berlin-1', 'https://www.lieferando.de/en/menu/comcha-vegan', 'https://www.lieferando.de/en/menu/funa-sushi-berlin-moabit', 'https://www.lieferando.de/en/menu/dunkin-donuts-berlin-europaplatz', 'https://www.lieferando.de/en/menu/dunkin-donuts-berlin-alexanderplatz', 'https://www.lieferando.de/en/menu/dunkin-donuts-berlin-bahnhof-friedrichstrasse', 'https://www.lieferando.de/en/menu/nampan-restaurant', 'https://www.lieferando.de/en/menu/taj-india-haus', 'https://www.lieferando.de/en/menu/sushi-yana-moabit', 'https://www.lieferando.de/en/menu/dawat-indische-spezialitaeten', 'https://www.lieferando.de/en/menu/diazo-reinickendorfer', 'https://www.lieferando.de/en/menu/soul-sushi-berlin', 'https://www.lieferando.de/en/menu/babo-sushi-berlin-friedrichshain', 'https://www.lieferando.de/en/menu/al-forno', 'https://www.lieferando.de/en/menu/bombay', 'https://www.lieferando.de/en/menu/mauer-kebab', 'https://www.lieferando.de/en/menu/ristorante-porta-nova', 'https://www.lieferando.de/en/menu/dunkin-donuts-berlin-rathausstrasse', 'https://www.lieferando.de/en/menu/hoa-nam-asia-wok-sushi-bar-10559', 'https://www.lieferando.de/en/menu/dunkin-donuts-berlin-potsdamer-strasse', 'https://www.lieferando.de/en/menu/escendo-pizzeria', 'https://www.lieferando.de/en/menu/call-a-pizza-berlin-mohrenstr', 'https://www.lieferando.de/en/menu/pizza-noi-10785', 'https://www.lieferando.de/en/menu/safran', 'https://www.lieferando.de/en/menu/pizza-max-berlin-winsstr', 'https://www.lieferando.de/en/menu/krishna-indisches-restaurant', 'https://www.lieferando.de/en/menu/khatmandu', 'https://www.lieferando.de/en/menu/saiko-sushi-bornholmer-strasse', 'https://www.lieferando.de/en/menu/falafelo-berlin', 'https://www.lieferando.de/en/menu/sushi-city-berlin-nollendorfstrasse', 'https://www.lieferando.de/en/menu/ajwa-restaurant', 'https://www.lieferando.de/en/menu/fastvegan-by-levo-lori', 'https://www.lieferando.de/en/menu/dildaar', 'https://www.lieferando.de/en/menu/burger-vision', 'https://www.lieferando.de/en/menu/pizza-coach-prenzlauerberg-berlin', 'https://www.lieferando.de/en/menu/sushi-circle-berlin-rosenthaler-strasse', 'https://www.lieferando.de/en/menu/roji-godai-no-sekai-berlin', 'https://www.lieferando.de/en/menu/der-everest', 'https://www.lieferando.de/en/menu/la-piazza-berlin-2', 'https://www.lieferando.de/en/menu/haicoffeeasianfood', 'https://www.lieferando.de/en/menu/koefte-ma', 'https://www.lieferando.de/en/menu/iiu-berlin', 'https://www.lieferando.de/en/menu/akito', 'https://www.lieferando.de/en/menu/taverna-hellas-1', 'https://www.lieferando.de/en/menu/ossaka-sushi', 'https://www.lieferando.de/en/menu/fedora-bubble-waffle-eismanufaktur', 'https://www.lieferando.de/en/menu/marea', 'https://www.lieferando.de/en/menu/pizza-kartel', 'https://www.lieferando.de/en/menu/oez-adana-grillhaus-berlin', 'https://www.lieferando.de/en/menu/curry-mitte', 'https://www.lieferando.de/en/menu/kenko-sushi-schoenhauser-allee', 'https://www.lieferando.de/en/menu/pizza-kiste-berlin', 'https://www.lieferando.de/en/menu/stampf-und-spiess', 'https://www.lieferando.de/en/menu/punjabi-tarka-indischer-lieferservice-berlin', 'https://www.lieferando.de/en/menu/taj-mahal-haus-3', 'https://www.lieferando.de/en/menu/oshinbo-izakaya', 'https://www.lieferando.de/en/menu/papa-no-berlin-prenzlauer-berg', 'https://www.lieferando.de/en/menu/first-grillhaus-13347', 'https://www.lieferando.de/en/menu/pizzeria-mini-perle', 'https://www.lieferando.de/en/menu/nymami', 'https://www.lieferando.de/en/menu/la-gino-berlin-1', 'https://www.lieferando.de/en/menu/rocca-pizza-pasta-gleimstrasse', 'https://www.lieferando.de/en/menu/call-to-eat-berlin-1', 'https://www.lieferando.de/en/menu/smile', 'https://www.lieferando.de/en/menu/riad-marakkesch', 'https://www.lieferando.de/en/menu/chainone', 'https://www.lieferando.de/en/menu/meena-kumari-berlin-lychener-strasse', 'https://www.lieferando.de/en/menu/bergmann-burger-by-beefman', 'https://www.lieferando.de/en/menu/dana-pani-indische-spezialitaeten-britzer-damm', 'https://www.lieferando.de/en/menu/sushi-west-by-hoa', 'https://www.lieferando.de/en/menu/burger-stop-pizza', 'https://www.lieferando.de/en/menu/sushi-for-you-berlin-wedding', 'https://www.lieferando.de/en/menu/la-burger-sushi', 'https://www.lieferando.de/en/menu/vadoli-pizza-berlin-mitte', 'https://www.lieferando.de/en/menu/mizyan-restaurant', 'https://www.lieferando.de/en/menu/90s-burger', 'https://www.lieferando.de/en/menu/aki-tatsu-1', 'https://www.lieferando.de/en/menu/yogi-indisches-restaurant-berlin', 'https://www.lieferando.de/en/menu/burger-republic', 'https://www.lieferando.de/en/menu/chibee', 'https://www.lieferando.de/en/menu/apna-virsa', 'https://www.lieferando.de/en/menu/city-chicken-10553', 'https://www.lieferando.de/en/menu/burgerzimmer-vi-1', 'https://www.lieferando.de/en/menu/by-yale', 'https://www.lieferando.de/en/menu/pizza-de-lux-berlin-3', 'https://www.lieferando.de/en/menu/burger-dreams', 'https://www.lieferando.de/en/menu/crispys-chicken-10827', 'https://www.lieferando.de/en/menu/buttspicy', 'https://www.lieferando.de/en/menu/pizza-e-pasta-2', 'https://www.lieferando.de/en/menu/cat-tuong-kastanienallee', 'https://www.lieferando.de/en/menu/house-of-do-an', 'https://www.lieferando.de/en/menu/berlin-don-giovanni', 'https://www.lieferando.de/en/menu/rosario-steakhaus-berlin', 'https://www.lieferando.de/en/menu/asuka-sushi', 'https://www.lieferando.de/en/menu/massimo-lieferservice-berlin', 'https://www.lieferando.de/en/menu/akito-sushi-express', 'https://www.lieferando.de/en/menu/xigon-1987', 'https://www.lieferando.de/en/menu/world-of-pizza-berlin-prenzlauer-berg', 'https://www.lieferando.de/en/menu/meena-kumari-restaurant', 'https://www.lieferando.de/en/menu/core-korean-cuisine', 'https://www.lieferando.de/en/menu/moccachino-berlin', 'https://www.lieferando.de/en/menu/caphe-hoa', 'https://www.lieferando.de/en/menu/indda-indische-spezialitaeten-berlin', 'https://www.lieferando.de/en/menu/dean-david-berlin-schoenhauser-allee', 'https://www.lieferando.de/en/menu/hanoi-st-16', 'https://www.lieferando.de/en/menu/mayflower-1', 'https://www.lieferando.de/en/menu/eden-vietnamesisches-restaurant', 'https://www.lieferando.de/en/menu/rotes-kamel', 'https://www.lieferando.de/en/menu/royals-rice-x-sons-of-mana-1', 'https://www.lieferando.de/en/menu/mr-hoang-berlin', 'https://www.lieferando.de/en/menu/pizza-tino-lieferservice', 'https://www.lieferando.de/en/menu/burgermeister-eberswalder', 'https://www.lieferando.de/en/menu/immergruen-berlin-schoenhauser-allee', 'https://www.lieferando.de/en/menu/happy-buddha-berlin', 'https://www.lieferando.de/en/menu/yf-kebaphaus', 'https://www.lieferando.de/en/menu/berlin-burrito-berlin-kastanienalle', 'https://www.lieferando.de/en/menu/hako-prenzlauerberg', 'https://www.lieferando.de/en/menu/rausch-schokoladenhaus-cafe', 'https://www.lieferando.de/en/menu/manjodh', 'https://www.lieferando.de/en/menu/lezziz-restaurant-food-nuts-sweets', 'https://www.lieferando.de/en/menu/rohhaeppchen-berlin', 'https://www.lieferando.de/en/menu/harika-liferservice', 'https://www.lieferando.de/en/menu/chelany-mitte', 'https://www.lieferando.de/en/menu/papi-imbiss', 'https://www.lieferando.de/en/menu/reisfreude', 'https://www.lieferando.de/en/menu/eispatisserie-hokey-pokey-torstr', 'https://www.lieferando.de/en/menu/asian-fine-food', 'https://www.lieferando.de/en/menu/ben-rahim', 'https://www.lieferando.de/en/menu/mangiare-and-go', 'https://www.lieferando.de/en/menu/com-dai-dung-japanische-spezialitaeten-berlin', 'https://www.lieferando.de/en/menu/star-of-india-lieferservice-berlin-neukoelln', 'https://www.lieferando.de/en/menu/burgerzimmer-berlin-pankstrasse', 'https://www.lieferando.de/en/menu/willis-restaurant', 'https://www.lieferando.de/en/menu/the-orient-house', 'https://www.lieferando.de/en/menu/da-giorgio-berlin-1', 'https://www.lieferando.de/en/menu/burger-world-berlin', 'https://www.lieferando.de/en/menu/mcdonalds-berlin-hanne-sobek-platz', 'https://www.lieferando.de/en/menu/pizza-luna', 'https://www.lieferando.de/en/menu/bookmyholiday', 'https://www.lieferando.de/en/menu/rolls', 'https://www.lieferando.de/en/menu/schnitzelkoenig-greifswalder-strasse', 'https://www.lieferando.de/en/menu/restaurant-al-hamra', 'https://www.lieferando.de/en/menu/china-city-berlin-1', 'https://www.lieferando.de/en/menu/restaurant-julchen-hoppe', 'https://www.lieferando.de/en/menu/blackbeards-berlin', 'https://www.lieferando.de/en/menu/houdini', 'https://www.lieferando.de/en/menu/wedding-grillhaus', 'https://www.lieferando.de/en/menu/sumo-sushi', 'https://www.lieferando.de/en/menu/asia-food-tuan-linh', 'https://www.lieferando.de/en/menu/tien-linh-khang-restaurant-lieferservice-events', 'https://www.lieferando.de/en/menu/pizzeria-dun-dun-berlin', 'https://www.lieferando.de/en/menu/koeylueoglu-restaurant-berlin', 'https://www.lieferando.de/en/menu/darbar-indische-spezialitaeten', 'https://www.lieferando.de/en/menu/lovely-sushi-1', 'https://www.lieferando.de/en/menu/viet-nam-sushi-bar', 'https://www.lieferando.de/en/menu/rosenburger-berlin', 'https://www.lieferando.de/en/menu/amrit-berlin-mitte', 'https://www.lieferando.de/en/menu/thai-aroma', 'https://www.lieferando.de/en/menu/restaurant-mephisto-pizza-pasta', 'https://www.lieferando.de/en/menu/karamels-online', 'https://www.lieferando.de/en/menu/el-rief-orientalische-arabische-kueche', 'https://www.lieferando.de/en/menu/al-mondo', 'https://www.lieferando.de/en/menu/wrapublic-schoenhauser-allee', 'https://www.lieferando.de/en/menu/wild-raw', 'https://www.lieferando.de/en/menu/yoere-goezleme-ve-manti-evi', 'https://www.lieferando.de/en/menu/dar-4-sudanesische-spezialitaeten', 'https://www.lieferando.de/en/menu/pasta-vino-stargarder-strasse', 'https://www.lieferando.de/en/menu/pizzeria-allegro-reinickendorfer-strasse', 'https://www.lieferando.de/en/menu/yumcha-heroes-new-owner', 'https://www.lieferando.de/en/menu/der-fischladen', 'https://www.lieferando.de/en/menu/nur-kebap-13349', 'https://www.lieferando.de/en/menu/izakaya', 'https://www.lieferando.de/en/menu/restaurant-meerpur-city', 'https://www.lieferando.de/en/menu/falafel-al-amin', 'https://www.lieferando.de/en/menu/mami-restaurant', 'https://www.lieferando.de/en/menu/tor-kebab-torstrasse', 'https://www.lieferando.de/en/menu/pizzas-n-burgers-stop', 'https://www.lieferando.de/en/menu/datscha-prenzlauer-berg', 'https://www.lieferando.de/en/menu/huong-sen-new-owner', 'https://www.lieferando.de/en/menu/nordsee-berlin-schoenhauser-allee', 'https://www.lieferando.de/en/menu/aiko-sushi-grillrestaurant', 'https://www.lieferando.de/en/menu/restaurant-lichtburg', 'https://www.lieferando.de/en/menu/7-dumpling-schoenhauser-allee', 'https://www.lieferando.de/en/menu/jinbu-sushi', 'https://www.lieferando.de/en/menu/neapizza-1889', 'https://www.lieferando.de/en/menu/hofbraeu-berlin-karl-liebknecht-strasse', 'https://www.lieferando.de/en/menu/pho-co-rosa-luxemburg-strasse', 'https://www.lieferando.de/en/menu/cikoefte-vegan-berlin', 'https://www.lieferando.de/en/menu/dominos-pizza-berlin-wedding-gerichtstrasse', 'https://www.lieferando.de/en/menu/formidable', 'https://www.lieferando.de/en/menu/don-sushi-15', 'https://www.lieferando.de/en/menu/zweistrom', 'https://www.lieferando.de/en/menu/sam-yuk-gu', 'https://www.lieferando.de/en/menu/pizza-max-berlin-luderitzstr', 'https://www.lieferando.de/en/menu/bonsignore-rosario', 'https://www.lieferando.de/en/menu/nusantara', 'https://www.lieferando.de/en/menu/chay-long', 'https://www.lieferando.de/en/menu/swing-kitchen-rosenthaler-str', 'https://www.lieferando.de/en/menu/bilakis', 'https://www.lieferando.de/en/menu/dao-nguyen-berlin', 'https://www.lieferando.de/en/menu/royals-rice', 'https://www.lieferando.de/en/menu/vincent-vegan-iv', 'https://www.lieferando.de/en/menu/arata-sushi-more', 'https://www.lieferando.de/en/menu/shezan-indisches-restaurant', 'https://www.lieferando.de/en/menu/freshs-oranienburger-strasse', 'https://www.lieferando.de/en/menu/gate-57-berlin', 'https://www.lieferando.de/en/menu/call-a-pizza-berlin-wedding', 'https://www.lieferando.de/en/menu/dean-david-berlin-karl-liebknecht-strasse', 'https://www.lieferando.de/en/menu/cafe-journale', 'https://www.lieferando.de/en/menu/moloko', 'https://www.lieferando.de/en/menu/bistro-mola', 'https://www.lieferando.de/en/menu/taktiek', 'https://www.lieferando.de/en/menu/cana-restaurant-catering-berlin-mitte', 'https://www.lieferando.de/en/menu/minty-2', 'https://www.lieferando.de/en/menu/baklavaci-antepliogullari-1', 'https://www.lieferando.de/en/menu/food-brother-berlin-rosenthaler-strasse', 'https://www.lieferando.de/en/menu/mix-match', 'https://www.lieferando.de/en/menu/balli-holzkohlegrill-restaurant', 'https://www.lieferando.de/en/menu/the-pho-bar', 'https://www.lieferando.de/en/menu/doener-center', 'https://www.lieferando.de/en/menu/indian-village-berlin-berlin', 'https://www.lieferando.de/en/menu/moc', 'https://www.lieferando.de/en/menu/koefteci-musti', 'https://www.lieferando.de/en/menu/trancina', 'https://www.lieferando.de/en/menu/viet-village-rosenthaler-str', 'https://www.lieferando.de/en/menu/schmucks-restauration', 'https://www.lieferando.de/en/menu/pizzeria-milano-trattoria', 'https://www.lieferando.de/en/menu/kaffee-kiana', 'https://www.lieferando.de/en/menu/lovely', 'https://www.lieferando.de/en/menu/vegan-living-quy-nguyen', 'https://www.lieferando.de/en/menu/mozzarella-pomodoro', 'https://www.lieferando.de/en/menu/street-kitchen-authentic-asian-food', 'https://www.lieferando.de/en/menu/mamay-vietnamesiche-kueche-und-teehaus', 'https://www.lieferando.de/en/menu/mozzarella-bar-bottega', 'https://www.lieferando.de/en/menu/quantuan', 'https://www.lieferando.de/en/menu/bamboos-hut-asiatische-kueche-sushi-bar', 'https://www.lieferando.de/en/menu/izumi-sushi-berlin', 'https://www.lieferando.de/en/menu/falafel-aladdin', 'https://www.lieferando.de/en/menu/pizza-scheune-berlin-1', 'https://www.lieferando.de/en/menu/foodland-berlin', 'https://www.lieferando.de/en/menu/steinofen-pizza-to-go', 'https://www.lieferando.de/en/menu/army-food', 'https://www.lieferando.de/en/menu/falafel-sababa', 'https://www.lieferando.de/en/menu/hokey-pokey', 'https://www.lieferando.de/en/menu/chaomin-congee-restaurant', 'https://www.lieferando.de/en/menu/wraps-wraps', 'https://www.lieferando.de/en/menu/doener-inn', 'https://www.lieferando.de/en/menu/doner-point-leipziger-str', 'https://www.lieferando.de/en/menu/tandoori-nawab-berlin', 'https://www.lieferando.de/en/menu/restaurant-aposto', 'https://www.lieferando.de/en/menu/ryong', 'https://www.lieferando.de/en/menu/curry-32', 'https://www.lieferando.de/en/menu/starbucks-berlin-hackescher-markt', 'https://www.lieferando.de/en/menu/aftab-persische-safranreis-bowl-ii', 'https://www.lieferando.de/en/menu/izakaya-watapas', 'https://www.lieferando.de/en/menu/vino-e-libri-berlin', 'https://www.lieferando.de/en/menu/bollywood-12689', 'https://www.lieferando.de/en/menu/90s-pizza', 'https://www.lieferando.de/en/menu/verona-italian-restaurant', 'https://www.lieferando.de/en/menu/prinzen-falafel-bernauer-strasse', 'https://www.lieferando.de/en/menu/ali-baba-prenzlauer-berg', 'https://www.lieferando.de/en/menu/curry-at-the-wall-berlin-mitte', 'https://www.lieferando.de/en/menu/funk-you', 'https://www.lieferando.de/en/menu/schaefers-berlin', 'https://www.lieferando.de/en/menu/cafe-pirouette', 'https://www.lieferando.de/en/menu/swing-kitchen-berlin-georgenstrasse', 'https://www.lieferando.de/en/menu/diner-67', 'https://www.lieferando.de/en/menu/cafe-fleury', 'https://www.lieferando.de/en/menu/les-vignes', 'https://www.lieferando.de/en/menu/sun-ay-inegoel', 'https://www.lieferando.de/en/menu/oak-ice', 'https://www.lieferando.de/en/menu/saaky', 'https://www.lieferando.de/en/menu/com-viet-berlin', 'https://www.lieferando.de/en/menu/nem-more', 'https://www.lieferando.de/en/menu/back-factory-berlin-friedrichstrasse', 'https://www.lieferando.de/en/menu/cozy-time', 'https://www.lieferando.de/en/menu/lee-original-vietnamese-kitchen', 'https://www.lieferando.de/en/menu/besh', 'https://www.lieferando.de/en/menu/kaffee-mit-zucker', 'https://www.lieferando.de/en/menu/choppaluna', 'https://www.lieferando.de/en/menu/wrapublic-mitte', 'https://www.lieferando.de/en/menu/bessma-food', 'https://www.lieferando.de/en/menu/sophieneck', 'https://www.lieferando.de/en/menu/brgrs-brgrs-organic-burgers', 'https://www.lieferando.de/en/menu/leo-leo', 'https://www.lieferando.de/en/menu/hatoki-new-owner', 'https://www.lieferando.de/en/menu/hubertha', 'https://www.lieferando.de/en/menu/planet-wein', 'https://www.lieferando.de/en/menu/chopstix', 'https://www.lieferando.de/en/menu/back-factory-berlin-brunnenstrasse', 'https://www.lieferando.de/en/menu/zuckrerg-traditional-candy-shop', 'https://www.lieferando.de/en/menu/maide-manti-halal-food-production', 'https://www.lieferando.de/en/menu/kim999-vietnamese-vegan-veggie-cuisine', 'https://www.lieferando.de/en/menu/fatih-servet-doener', 'https://www.lieferando.de/en/menu/eat-culture', 'https://www.lieferando.de/en/menu/kiraku', 'https://www.lieferando.de/en/menu/a-cabana-1', 'https://www.lieferando.de/en/menu/keyfi-sefa-by-the-meat', 'https://www.lieferando.de/en/menu/la-mama-noor', 'https://www.lieferando.de/en/menu/sucre-et-sel', 'https://www.lieferando.de/en/menu/pizza-la-mora', 'https://www.lieferando.de/en/menu/la-tettoia', 'https://www.lieferando.de/en/menu/best-friends-berlin-1', 'https://www.lieferando.de/en/menu/adora-doener-kumru', 'https://www.lieferando.de/en/menu/ming-dynastie-new-owner', 'https://www.lieferando.de/en/menu/exelans-berlin', 'https://www.lieferando.de/en/menu/oernek', 'https://www.lieferando.de/en/menu/van-anh-quan', 'https://www.lieferando.de/en/menu/guten-dag', 'https://www.lieferando.de/en/menu/king-of-india-berlin', 'https://www.lieferando.de/en/menu/kuchi-mitte', 'https://www.lieferando.de/en/menu/meet-me-halfway', 'https://www.lieferando.de/en/menu/saha-gaziantep-spezialitaeten', 'https://www.lieferando.de/en/menu/thai-son-imbiss', 'https://www.lieferando.de/en/menu/louis-alfons-berlin', 'https://www.lieferando.de/en/menu/aldimashqi-gesundbrunnen', 'https://www.lieferando.de/en/menu/pizzeria-10115', 'https://www.lieferando.de/en/menu/yogi-restaurant', 'https://www.lieferando.de/en/menu/raja-berlin', 'https://www.lieferando.de/en/menu/ki-kuriya', 'https://www.lieferando.de/en/menu/pizza-el-fredo-10969berlin', 'https://www.lieferando.de/en/menu/american-burger-berlin-prinzenallee', 'https://www.lieferando.de/en/menu/84-asian-deli-vegan-kitchen', 'https://www.lieferando.de/en/menu/pizza-pasta-pause-berlin', 'https://www.lieferando.de/en/menu/mami-camilla-restaurant', 'https://www.lieferando.de/en/menu/vedis-indisches-restaurant', 'https://www.lieferando.de/en/menu/onkel-ho', 'https://www.lieferando.de/en/menu/feel-seoul-good', 'https://www.lieferando.de/en/menu/der-neue-platzhirsch', 'https://www.lieferando.de/en/menu/12-taco-bar', 'https://www.lieferando.de/en/menu/valle-dei-templi', 'https://www.lieferando.de/en/menu/maloa-poke-bowl-berlin-oranienburger-strasse', 'https://www.lieferando.de/en/menu/mama-cook-restaurant', 'https://www.lieferando.de/en/menu/fuku-sushi', 'https://www.lieferando.de/en/menu/pho-noodlebar', 'https://www.lieferando.de/en/menu/the-fresh-seeds-invalidenstrasse', 'https://www.lieferando.de/en/menu/hum-vegan-cuisine-berlin', 'https://www.lieferando.de/en/menu/restaurant-pamfilya', 'https://www.lieferando.de/en/menu/pocoloco-oderberger-strasse', 'https://www.lieferando.de/en/menu/simela-finest-food-koppenplatz', 'https://www.lieferando.de/en/menu/maloa-poke-bowl-berlin-oberwallstrasse', 'https://www.lieferando.de/en/menu/indisches-pakstanisches-restaurant-asman', 'https://www.lieferando.de/en/menu/maothai-restaurant', 'https://www.lieferando.de/en/menu/beetsroots-berlin-1', 'https://www.lieferando.de/en/menu/restaurant-girasol', 'https://www.lieferando.de/en/menu/chupenga-burritos-salads', 'https://www.lieferando.de/en/menu/han-express-korean-food-berlin-1', 'https://www.lieferando.de/en/menu/golden-rice', 'https://www.lieferando.de/en/menu/akemi-rykestrasse', 'https://www.lieferando.de/en/menu/gorki-park', 'https://www.lieferando.de/en/menu/momos', 'https://www.lieferando.de/en/menu/spicy-tuerka', 'https://www.lieferando.de/en/menu/nordsee-berlin-spandauer-strasse', 'https://www.lieferando.de/en/menu/subway-berlin-friedrichstrasse', 'https://www.lieferando.de/en/menu/pepe-nero-trattoria-pizzeria-boetzowstrasse', 'https://www.lieferando.de/en/menu/muckrakers', 'https://www.lieferando.de/en/menu/goa-2', 'https://www.lieferando.de/en/menu/w-der-imbiss', 'https://www.lieferando.de/en/menu/espresso-house-berlin-1', 'https://www.lieferando.de/en/menu/aapka-berlin-mitte-1', 'https://www.lieferando.de/en/menu/peter-pane-berlin-hackescher-markt', 'https://www.lieferando.de/en/menu/koempul-restaurant', 'https://www.lieferando.de/en/menu/nhat-long-torstrasse', 'https://www.lieferando.de/en/menu/baba-sultan-kofteci-i', 'https://www.lieferando.de/en/menu/chimneys-berlin', 'https://www.lieferando.de/en/menu/ben-jerrys-und-magnum-berlin-perleberger-str', 'https://www.lieferando.de/en/menu/kfc-berlin-dircksenstrasse', 'https://www.lieferando.de/en/menu/naan-indische-spezialitaeten', 'https://www.lieferando.de/en/menu/thai-ha-bistro-3', 'https://www.lieferando.de/en/menu/kaplan-bistro-schoenhauser', 'https://www.lieferando.de/en/menu/coco-banh-mi-deli', 'https://www.lieferando.de/en/menu/antonios-pizzeria', 'https://www.lieferando.de/en/menu/paulaner-wirtshaus', 'https://www.lieferando.de/en/menu/frittenwerk-berlin', 'https://www.lieferando.de/en/menu/street-burger-homemade', 'https://www.lieferando.de/en/menu/la-cantina-berlin-1', 'https://www.lieferando.de/en/menu/mama-trattoria-berlin-pariser-platz', 'https://www.lieferando.de/en/menu/o-der-burger-berlin-1', 'https://www.lieferando.de/en/menu/mamas-banh', 'https://www.lieferando.de/en/menu/orient-station-berlin-1', 'https://www.lieferando.de/en/menu/san-marco-prenzlauer-berg', 'https://www.lieferando.de/en/menu/burger-lane', 'https://www.lieferando.de/en/menu/sushi-san', 'https://www.lieferando.de/en/menu/yasaka-sushi-berlin-mitte-berlin', 'https://www.lieferando.de/en/menu/restaurant-la-vong', 'https://www.lieferando.de/en/menu/esszimmer-berlin', 'https://www.lieferando.de/en/menu/saray-online', 'https://www.lieferando.de/en/menu/asia-gondel-berlin', 'https://www.lieferando.de/en/menu/fuenf-sechzig', 'https://www.lieferando.de/en/menu/lecker-song-berlin', 'https://www.lieferando.de/en/menu/marina-blu', 'https://www.lieferando.de/en/menu/nordsee-berlin-badstrasse', 'https://www.lieferando.de/en/menu/pizza-pasta-tralala', 'https://www.lieferando.de/en/menu/asiagourmet-berlin-europaplatz', 'https://www.lieferando.de/en/menu/rice4you-berlin-1', 'https://www.lieferando.de/en/menu/alles-perfetto-bei-petersen-berlin', 'https://www.lieferando.de/en/menu/noodle-plus', 'https://www.lieferando.de/en/menu/chupenga-burritos', 'https://www.lieferando.de/en/menu/cult-doener', 'https://www.lieferando.de/en/menu/mammam-mitte', 'https://www.lieferando.de/en/menu/maloa-berlin-markgrafenstrasse', 'https://www.lieferando.de/en/menu/pizza-point-berlin-kreuzberg-1', 'https://www.lieferando.de/en/menu/koi-56', 'https://www.lieferando.de/en/menu/bayram-grillhaus-brunnenstrasse', 'https://www.lieferando.de/en/menu/cholosoy-peruanischer-imbiss', 'https://www.lieferando.de/en/menu/minh-san', 'https://www.lieferando.de/en/menu/esra-falafel-1', 'https://www.lieferando.de/en/menu/kebab-baba', 'https://www.lieferando.de/en/menu/thuy-nga', 'https://www.lieferando.de/en/menu/nhat-nguyet-quan', 'https://www.lieferando.de/en/menu/lokman', 'https://www.lieferando.de/en/menu/burgermann', 'https://www.lieferando.de/en/menu/vietnam-restaurant-sushi-bar', 'https://www.lieferando.de/en/menu/bella-vita-berlin-mitte-1', 'https://www.lieferando.de/en/menu/galetterie-cafe', 'https://www.lieferando.de/en/menu/brewdog-berlin-mitte-ackerstrasse', 'https://www.lieferando.de/en/menu/sveda', 'https://www.lieferando.de/en/menu/kuzo', 'https://www.lieferando.de/en/menu/suriya-kanthi-der-sonnenschein', 'https://www.lieferando.de/en/menu/noi-due-berlin', 'https://www.lieferando.de/en/menu/falafel-daye', 'https://www.lieferando.de/en/menu/namu-sushi-lounge', 'https://www.lieferando.de/en/menu/qburger', 'https://www.lieferando.de/en/menu/baeckerei-kollwitz', 'https://www.lieferando.de/en/menu/holy-flat-berlin', 'https://www.lieferando.de/en/menu/pulcinella-berlin', 'https://www.lieferando.de/en/menu/orlando-berlin', 'https://www.lieferando.de/en/menu/pizza-peppino-tucholskystrasse', 'https://www.lieferando.de/en/menu/stop-for-tea', 'https://www.lieferando.de/en/menu/merely', 'https://www.lieferando.de/en/menu/hanoi-gourmet', 'https://www.lieferando.de/en/menu/bbq-kitchen', 'https://www.lieferando.de/en/menu/fatefoodbag', 'https://www.lieferando.de/en/menu/restaurant-massai', 'https://www.lieferando.de/en/menu/vegano-flavors', 'https://www.lieferando.de/en/menu/dominos-pizza-mitte-berlin', 'https://www.lieferando.de/en/menu/hells-kitchen-baerlin', 'https://www.lieferando.de/en/menu/la-fiamma-berlin-wedding', 'https://www.lieferando.de/en/menu/five-guys-berlin-alexanderplatz', 'https://www.lieferando.de/en/menu/trattoria-zoe-berlin', 'https://www.lieferando.de/en/menu/amrit-berlin-1', 'https://www.lieferando.de/en/menu/dj-bombay', 'https://www.lieferando.de/en/menu/mizu-ramen', 'https://www.lieferando.de/en/menu/kentucky-fried-chicken-berlin-gesundbrunnen-center', 'https://www.lieferando.de/en/menu/cookie', 'https://www.lieferando.de/en/menu/a-magica', 'https://www.lieferando.de/en/menu/subway-berlin-schoenhauser-allee', 'https://www.lieferando.de/en/menu/subway-berlin-behrenstrasse', 'https://www.lieferando.de/en/menu/asman-berlin', 'https://www.lieferando.de/en/menu/akko-chicken-grilled', 'https://www.lieferando.de/en/menu/trattoria-fidelia', 'https://www.lieferando.de/en/menu/malzcafe', 'https://www.lieferando.de/en/menu/peter-pane-berlin-invalidenstrasse', 'https://www.lieferando.de/en/menu/burger-boss-berlin', 'https://www.lieferando.de/en/menu/tommis-burger-joint-berlin-invalidenstrasse', 'https://www.lieferando.de/en/menu/karaca-fresh-food-delicious-coffee', 'https://www.lieferando.de/en/menu/erdinger-am-gendarmenmarkt', 'https://www.lieferando.de/en/menu/delabuu-ice-cream-gleimstrasse', 'https://www.lieferando.de/en/menu/burgermeister-potsdamer-platz', 'https://www.lieferando.de/en/menu/happy-asia-berlin-danzigerstr', 'https://www.lieferando.de/en/menu/restaurant-neumanns', 'https://www.lieferando.de/en/menu/babel-restaurant', 'https://www.lieferando.de/en/menu/ristorante-roma-pizzeria-gmbh', 'https://www.lieferando.de/en/menu/creasian', 'https://www.lieferando.de/en/menu/due-fratelli-new-owner', 'https://www.lieferando.de/en/menu/ristorante-davinci-berlin', 'https://www.lieferando.de/en/menu/burgerfabrik', 'https://www.lieferando.de/en/menu/schiller-burger-kastanienallee', 'https://www.lieferando.de/en/menu/yaman-grill', 'https://www.lieferando.de/en/menu/cancun-mitte', 'https://www.lieferando.de/en/menu/restaurant-jalla-jalla', 'https://www.lieferando.de/en/menu/la-galleria-italiana', 'https://www.lieferando.de/en/menu/italian-food-berlin', 'https://www.lieferando.de/en/menu/carambar', 'https://www.lieferando.de/en/menu/sons-of-mana-mitte-1', 'https://www.lieferando.de/en/menu/papaya-restaurant-luisenstrasse', 'https://www.lieferando.de/en/menu/mcdonalds-berlin-bahnhof-friedrichstrasse', 'https://www.lieferando.de/en/menu/balzac-coffee-berlin-friedrichstrasse', 'https://www.lieferando.de/en/menu/restaurant-aldente', 'https://www.lieferando.de/en/menu/didim-restaurant-berlin', 'https://www.lieferando.de/en/menu/italofritzen', 'https://www.lieferando.de/en/menu/la-premiata', 'https://www.lieferando.de/en/menu/mr-beef', 'https://www.lieferando.de/en/menu/mcdonalds-berlin-europaplatz', 'https://www.lieferando.de/en/menu/losteria-berlin-humboldhafen', 'https://www.lieferando.de/en/menu/la-santa-lucha-holzmarkt', 'https://www.lieferando.de/en/menu/burgers-burgers-berlin-brueckenstr', 'https://www.lieferando.de/en/menu/losteria-berlin-memhardstrasse', 'https://www.lieferando.de/en/menu/hans-im-glueck-berlin-europaplatz', 'https://www.lieferando.de/en/menu/dominos-pizza-wedding-stralsunder-str', 'https://www.lieferando.de/en/menu/subway-spandauer-strasse-berlin', 'https://www.lieferando.de/en/menu/kamps-backstube-berlin-hauptbahnhof', 'https://www.lieferando.de/en/menu/lemon-grass-scent', 'https://www.lieferando.de/en/menu/quang-loi-muellerstrasse', 'https://www.lieferando.de/en/menu/pho-vegan', 'https://www.lieferando.de/en/menu/ben-jerrys-und-magnum-berlin-greifswalder-str', 'https://www.lieferando.de/en/menu/subway-berlin-hauptbahnhof', 'https://www.lieferando.de/en/menu/masti-indian-food', 'https://www.lieferando.de/en/menu/basil-1', 'https://www.lieferando.de/en/menu/pinoccio-alexanderplatz', 'https://www.lieferando.de/en/menu/kamps-backstube-berlin-bahnhof-alexanderplatz', 'https://www.lieferando.de/en/menu/cigkoftem-berlin-badstrasse', 'https://www.lieferando.de/en/menu/bentokado', 'https://www.lieferando.de/en/menu/oriento', 'https://www.lieferando.de/en/menu/dada-falafel', 'https://www.lieferando.de/en/menu/olla', 'https://www.lieferando.de/en/menu/arko-berlin-europaplatz', 'https://www.lieferando.de/en/menu/caffe-bar-italia', 'https://www.lieferando.de/en/menu/fatih-servet-lp12', 'https://www.lieferando.de/en/menu/manju-berlin-im-alexa', 'https://www.lieferando.de/en/menu/cavolo-nero', 'https://www.lieferando.de/en/menu/hussel-berlin-schoenhauser-allee', 'https://www.lieferando.de/en/menu/manngo-vietnam-restaurant-berlin', 'https://www.lieferando.de/en/menu/currywurst-express-berlin-alexanderplatz', 'https://www.lieferando.de/en/menu/gofish-berlin-spandauer-str', 'https://www.lieferando.de/en/menu/hamdibaba-schoneberg', 'https://www.lieferando.de/en/menu/weilands-wellfood-1', 'https://www.lieferando.de/en/menu/agra-pak-indian-cuisine-berlin', 'https://www.lieferando.de/en/menu/viet-my-ii', 'https://www.lieferando.de/en/menu/pizza-palast-berlin', 'https://www.lieferando.de/en/menu/mama-mia-ug', 'https://www.lieferando.de/en/menu/fitery', 'https://www.lieferando.de/en/menu/partybrenner-wittekindstrasse', 'https://www.lieferando.de/en/menu/obok', 'https://www.lieferando.de/en/menu/yokozuna-sushi', 'https://www.lieferando.de/en/menu/juki-korean-bbq-and-soju-bar', 'https://www.lieferando.de/en/menu/gangnam', 'https://www.lieferando.de/en/menu/cai-kitchen-berlin', 'https://www.lieferando.de/en/menu/lal-badshah', 'https://www.lieferando.de/en/menu/grindhouse-homemade-burgers-berlin', 'https://www.lieferando.de/en/menu/ciao-ciao-berlin', 'https://www.lieferando.de/en/menu/buona-sera', 'https://www.lieferando.de/en/menu/kamala', 'https://www.lieferando.de/en/menu/moevenpick-hotel', 'https://www.lieferando.de/en/menu/asia-deli', 'https://www.lieferando.de/en/menu/morgenland-berlin-kreuzberg', 'https://www.lieferando.de/en/menu/buddha-indische-spezialitaeten-berlin-1', 'https://www.lieferando.de/en/menu/burger-king-berlin-europaplatz', 'https://www.lieferando.de/en/menu/salami-social-club-ii', 'https://www.lieferando.de/en/menu/miu-lunch', 'https://www.lieferando.de/en/menu/pablo-coffee', 'https://www.lieferando.de/en/menu/casalot-restaurant', 'https://www.lieferando.de/en/menu/master-chi', 'https://www.lieferando.de/en/menu/hot-million-burger-berlin', 'https://www.lieferando.de/en/menu/solo-pizza-berlin-1', 'https://www.lieferando.de/en/menu/doener-curry', 'https://www.lieferando.de/en/menu/cowei-berlin-berlin', 'https://www.lieferando.de/en/menu/sadhu-3', 'https://www.lieferando.de/en/menu/diazo-r', 'https://www.lieferando.de/en/menu/little-italy', 'https://www.lieferando.de/en/menu/prinz-bistro-berlin-1', 'https://www.lieferando.de/en/menu/suppenfreunde', 'https://www.lieferando.de/en/menu/aroy', 'https://www.lieferando.de/en/menu/spar-express-berlin-prenzl-allee', 'https://www.lieferando.de/en/menu/mojewa', 'https://www.lieferando.de/en/menu/smokey-greens', 'https://www.lieferando.de/en/menu/red-dragon-lieferservice-danzigerstr', 'https://www.lieferando.de/en/menu/bistro-oez-tadim', 'https://www.lieferando.de/en/menu/tasty-india-10405', 'https://www.lieferando.de/en/menu/daluma-1', 'https://www.lieferando.de/en/menu/marone', 'https://www.lieferando.de/en/menu/jaspers-restaurant', 'https://www.lieferando.de/en/menu/american-ice-cream', 'https://www.lieferando.de/en/menu/chefs-by-butterbrot', 'https://www.lieferando.de/en/menu/vegan-tiger-berlin', 'https://www.lieferando.de/en/menu/haeppies', 'https://www.lieferando.de/en/menu/the-small-garden', 'https://www.lieferando.de/en/menu/monsieur-vuong', 'https://www.lieferando.de/en/menu/ninhao-china-restaurant', 'https://www.lieferando.de/en/menu/yildiz-goezleme-wedding', 'https://www.lieferando.de/en/menu/veg-room', 'https://www.lieferando.de/en/menu/mrpfani', 'https://www.lieferando.de/en/menu/suite-seventeen-restaurant', 'https://www.lieferando.de/en/menu/aromi-e-sapori', 'https://www.lieferando.de/en/menu/nihombashi-weinbergsweg', 'https://www.lieferando.de/en/menu/marubi-rahmen', 'https://www.lieferando.de/en/menu/pizza-affe', 'https://www.lieferando.de/en/menu/sushi-number-1', 'https://www.lieferando.de/en/menu/golden-fleece', 'https://www.lieferando.de/en/menu/ponchy', 'https://www.lieferando.de/en/menu/la-siesta-coffee-more', 'https://www.lieferando.de/en/menu/espresso-house-berlin-dom-aquaree', 'https://www.lieferando.de/en/menu/the-fiuty', 'https://www.lieferando.de/en/menu/ans-tea-house', 'https://www.lieferando.de/en/menu/mogg', 'https://www.lieferando.de/en/menu/yummy-mummy', 'https://www.lieferando.de/en/menu/crepestation-berlin', 'https://www.lieferando.de/en/menu/phuoc-restaurant', 'https://www.lieferando.de/en/menu/la-criolla-empanadas-1', 'https://www.lieferando.de/en/menu/little-green-rabbit-checkpoint-charlie', 'https://www.lieferando.de/en/menu/baffels-cafe-and-more', 'https://www.lieferando.de/en/menu/bibi-mix', 'https://www.lieferando.de/en/menu/corallo-berlin', 'https://www.lieferando.de/en/menu/co-chu-vietnam-gourmet-berlin', 'https://www.lieferando.de/en/menu/mr-lee-10437', 'https://www.lieferando.de/en/menu/com-nam', 'https://www.lieferando.de/en/menu/my-anh-berlin-1', 'https://www.lieferando.de/en/menu/raum-schwalbe', 'https://www.lieferando.de/en/menu/rou-vegetarian-online', 'https://www.lieferando.de/en/menu/buffalo-2', 'https://www.lieferando.de/en/menu/tucano-coffee', 'https://www.lieferando.de/en/menu/nha-toi-restaurant', 'https://www.lieferando.de/en/menu/burgerwood', 'https://www.lieferando.de/en/menu/little-green-rabbit-unter-den-linden', 'https://www.lieferando.de/en/menu/bistro-mintis', 'https://www.lieferando.de/en/menu/der-blaue-fuchs', 'https://www.lieferando.de/en/menu/mex-burger-1', 'https://www.lieferando.de/en/menu/schust', 'https://www.lieferando.de/en/menu/restaurant-pasternak', 'https://www.lieferando.de/en/menu/goodn-vegan-im-moevenpick-hotel-berlin', 'https://www.lieferando.de/en/menu/restaurant-kollwitz', 'https://www.lieferando.de/en/menu/the-100-cafe', 'https://www.lieferando.de/en/menu/bangkok-bites-berlin', 'https://www.lieferando.de/en/menu/salar-of-india-12101', 'https://www.lieferando.de/en/menu/pasta-focaccia', 'https://www.lieferando.de/en/menu/pommes-freunde-berlin-leipziger-platz', 'https://www.lieferando.de/en/menu/gujrat-palace-restaurant', 'https://www.lieferando.de/en/menu/thai-duong-vietnamesisches-restaurant', 'https://www.lieferando.de/en/menu/mandi-halal', 'https://www.lieferando.de/en/menu/beirut-express-libanesische-spezialitaeten-10553', 'https://www.lieferando.de/en/menu/india-sweet-house', 'https://www.lieferando.de/en/menu/china-restaurant-hua-ting-1', 'https://www.lieferando.de/en/menu/balzac-coffee-berlin-schoenhauser-allee', 'https://www.lieferando.de/en/menu/kanaan-10437', 'https://www.lieferando.de/en/menu/espresso-house-berlin-gartenstrasse', 'https://www.lieferando.de/en/menu/hung-anh', 'https://www.lieferando.de/en/menu/gloria-empanadas', 'https://www.lieferando.de/en/menu/chupenga-burritos-salads-berlin', 'https://www.lieferando.de/en/menu/berliner-marcus-brau', 'https://www.lieferando.de/en/menu/khushi-indian-cuisine-berlin', 'https://www.lieferando.de/en/menu/mr-vertigo', 'https://www.lieferando.de/en/menu/tak-tak-polish-deli', 'https://www.lieferando.de/en/menu/burgerie-berlin-1', 'https://www.lieferando.de/en/menu/pizza-hut-berlin-potsdamer-platz', 'https://www.lieferando.de/en/menu/coucou-cafe-deli', 'https://www.lieferando.de/en/menu/kumari-indian-food', 'https://www.lieferando.de/en/menu/balzac-coffee-berlin-chausseestrasse', 'https://www.lieferando.de/en/menu/restaurant-51', 'https://www.lieferando.de/en/menu/restaurant-bella-italia-berlin', 'https://www.lieferando.de/en/menu/buffalo-berlin-1-1', 'https://www.lieferando.de/en/menu/coreen', 'https://www.lieferando.de/en/menu/salah-imbiss', 'https://www.lieferando.de/en/menu/bettyn-caty', 'https://www.lieferando.de/en/menu/cookies-cream-1', 'https://www.lieferando.de/en/menu/quchnia-berlin-1', 'https://www.lieferando.de/en/menu/schmalzmann-delicatesserie', 'https://www.lieferando.de/en/menu/spar-express-berlin-lehrter-bhf', 'https://www.lieferando.de/en/menu/cafe-berlin', 'https://www.lieferando.de/en/menu/gofish', 'https://www.lieferando.de/en/menu/eis-auf-heiss', 'https://www.lieferando.de/en/menu/fellas-oesterreichische-kueche', 'https://www.lieferando.de/en/menu/andaluzia', 'https://www.lieferando.de/en/menu/joseph-berlin', 'https://www.lieferando.de/en/menu/dumpling-house', 'https://www.lieferando.de/en/menu/la-margherita-danziger-strasse', 'https://www.lieferando.de/en/menu/kebab-house-berlin', 'https://www.lieferando.de/en/menu/pizza-hut-berlin-leipziger-platz', 'https://www.lieferando.de/en/menu/delhi-6', 'https://www.lieferando.de/en/menu/ben-jerrys-und-magnum-berlin-danziger-strasse', 'https://www.lieferando.de/en/menu/wonder-waffel-berlin-leipziger-platz', 'https://www.lieferando.de/en/menu/sausalitos-berlin-oranienburger-strasse', 'https://www.lieferando.de/en/menu/kfc-berlin-mall-of-berlin', 'https://www.lieferando.de/en/menu/die-eins', 'https://www.lieferando.de/en/menu/flying-monkey', 'https://www.lieferando.de/en/menu/il-cantuccio-i-biscotti-di-leonardo', 'https://www.lieferando.de/en/menu/andys-diner-bar', 'https://www.lieferando.de/en/menu/vino-basilico', 'https://www.lieferando.de/en/menu/little-green-rabbit-gendarmenmarkt', 'https://www.lieferando.de/en/menu/xoi-sticky-rice', 'https://www.lieferando.de/en/menu/saltn-bone', 'https://www.lieferando.de/en/menu/cyclo-propstr', 'https://www.lieferando.de/en/menu/husseria', 'https://www.lieferando.de/en/menu/sun-day-burger', 'https://www.lieferando.de/en/menu/spoonful-berlin-mitte', 'https://www.lieferando.de/en/menu/manju-berlin-leipziger-platz', 'https://www.lieferando.de/en/menu/frische-quarkbaellchen', 'https://www.lieferando.de/en/menu/spar-express-berlin-alexanderplatz', 'https://www.lieferando.de/en/menu/cispace', 'https://www.lieferando.de/en/menu/hanoi-bistro-berlin', 'https://www.lieferando.de/en/menu/hoan-kiem-berlin', 'https://www.lieferando.de/en/menu/wilhelms-burger', 'https://www.lieferando.de/en/menu/viet-my-online', 'https://www.lieferando.de/en/menu/agri-bistro']\n",
      "['Diazo', 'Hot Million Burger', 'BURGER KING ®', 'BURGER KING ®', 'Bowl Time', 'BURGER KING ®', 'Bring Bakery', \"O'Tacos\", 'Kreuzburger', 'Pizza Nostra', 'Xi Gon', 'Sushi Palace', 'Habba Habba', 'Madni Indische Spezialitäten', \"Dunkin' Donuts\", \"Dunkin' Donuts\", 'Zeitlos Pizzeria', 'Maison Viet Restaurant', \"Riga's Pizza Box\", 'SmokePops', 'Café Old Style', \"O'Tacos\", 'Restaurant Machiavelli', 'ComCha Vegan', 'Funa Sushi', \"Dunkin' Donuts\", \"Dunkin' Donuts\", \"Dunkin' Donuts\", 'Nampan Restaurant', 'Taj India Haus', 'Sushi Yana', 'Dawat Indische Spezialitäten', 'Diazo', 'Soul Sushi', 'Babo Sushi', 'Al Forno', 'Bombay Berlin', 'Mauer Kebab', 'Ristorante Porta Nova', \"Dunkin' Donuts\", 'Hoa Nam Asia Wok-Sushi Bar', \"Dunkin' Donuts\", 'Escendo Pizzeria', 'Call a Pizza', 'Pizza Noi', 'Safran Berlin', 'Pizza Max', 'Krishna - Indisches & Nepalesisches Restaurant', 'Khatmandu Indisch und Nepalesisch Lieferservice', 'Saiko Sushi', 'Falafelo Berlin', 'Sushi City', 'Ajwa Restaurant', 'fastVegan by Levo & Lori', 'Dildaar Indische Spezialitäten', 'BurgerVision', 'Pizza Coach', 'Sushi Circle', 'Roji - Godai No Sekai', 'Der Everest Indisch & Nepalesiches Restaurant', 'La Piazza', 'HaiCoffee & Asian Food and Sushi', 'Köfte Ma', 'iiu - Asian Fusion Food', 'Akito Sushi Bar', 'Ariston Taverna Hellas', 'Ossaka Sushi', 'Fedora Bubble Waffle & Eismanufaktur', 'Marea', 'Pizza Kartell', 'Öz Adana Grillhaus', 'Curry Mitte', 'Kenko Sushi', 'Pizza Kiste', 'Taco love', 'Punjabi Tarka - Indischer Lieferservice', 'Taj Mahal Haus 3', 'Oishinbo Izakaya', 'Papa No', 'First GrillHaus', 'Pizzeria Mini Perle', 'Nymami', 'La Gino', 'Rocca Pizza & Pasta', 'Call to Eat', 'Smile', 'Riad Marakkesch Restaurant Bar', 'Chainone', 'Sajan Restaurant&CateringService', 'Bergmann Burger by BeefMan', 'Dana Pani Indische Spezialitäten', 'HOA SUSHI', 'Burger Stop Pizza', 'Sushi For You', 'L.A. Burger & Sushi', 'Vadoli Pizza Berlin Mitte', 'Mizyan Restaurant', \"90's Burger\", 'Aki Tatsu', 'Yogi indisches Restaurant', 'Burger Republic', 'Chibee - Korean Chicken & Beer', 'Apna Virsa', 'City Chicken 1', 'Burgerzimmer', 'Toast & Hot Dog by Yale', 'Pizza De Lux Berlin', 'Burger Dreams', \"Crispy's Chicken\", \"Butt's Spicy Kitchen Indian Cuisine (Halal)\", 'Pizza e Pasta 2', 'Cat Tuong', 'House of Do An', 'Don Giovanni', 'Rosario Steakhaus & Pizzeria', 'Asuka Sushi', 'Massimo Lieferservice', 'Akito Sushi Express', 'Xigon 1987', 'WORLD OF PIZZA', 'Meena Kumari Restaurant', 'Core - Korean Cuisine', 'Moccachino', 'Caphe HOA', 'Indda', 'dean & david', 'Hanoi St. 16', 'Mayflower', 'Eden - Vietnamesisches Restaurant', 'Rotes Kamel', 'Royals & Rice x Sons of Mana', 'Mr. Hoang', 'Pizza Tino Lieferservice', 'Burgermeister Eberswalder', 'immergrün', 'Happy Buddha', 'Yesil Firin Holzofen Grill Restaurant', 'Berlin Burrito', 'Hako Prenzlauerberg', 'Rausch Schokoladenhaus (Café)', 'Manjodh', 'Lezziz Restaurant - Food, Nuts & Sweets', 'Rohhäppchen', 'Harika Liferservice', 'Chelany - Mitte', 'Papi Imbiss', 'Reisfreude', 'Eispatisserie Hokey Pokey', 'Asian fine food', 'BEN RAHIM', 'Mangiare and Go', 'Com Dai Dung - Japanische Spezialitäten', 'Star of India Lieferservice', 'Burgerzimmer', 'Willis Restaurant', 'The Orient House', 'Da Giorgio', 'Burger World Berlin', \"McDonald's®\", 'Pizza Luna', 'Bookmyholiday Reisecafe', 'Rolls Asian Street Food', 'Schnitzelkönig', 'Restaurant Al Hamra', 'China - City', 'Alt-Berliner Gasthaus Julchen Hoppe', 'Blackbeards Berlin', 'Houdini', 'Wedding Grillhaus', 'Sumo Sushi', 'Asia Food Tuan Linh', 'Tien Linh Khang Restaurant, Lieferservice & Events', 'Pizza Dundun', 'Köylüoglu Restaurant', 'Darbar Indische Spezialitäten', 'Lovely Sushi', 'Viet Nam & Sushi Bar', 'Rosenburger Berlin', 'AMRIT - Berlin Mitte', 'Thai Aroma', 'Restaurant Mephisto Pizza & Pasta', \"Pizza & Pasta Karamel's\", 'El-Rief Orientalische - Arabische Küche', 'Ristorante Al Mondo', 'Wrapublic - Schönhauser Allee', 'WILD & RAW Poké Bowls', 'Yöre Gözleme Ve Manti Evi', 'Dar 4 - Sudanesische Spezialitäten', 'Pasta & Vino', 'Pizzeria Allegro', 'Yumcha Heroes', 'Der Fischladen Schönhauser Allee', 'Nur Kebap', 'Izakaya by Bang', 'Restaurant Meerpur City', 'Falafel Al Amin', 'Mami Restaurant', 'Tor Kebab', \"Pizzas 'n Burgers STOP\", 'Datscha', 'Anh Dao - Indochinesische Spezialitäten', 'NORDSEE', 'Aiko - Sushi & Grillrestaurant', 'Restaurant Lichtburg', '7 Dumpling', 'Jinbu Sushi', 'Neapizza 1889', 'Hofbräu Wirtshaus', 'Pho Co', 'Berlin Cigköfte Vegan', \"Domino's Pizza\", 'Formidable', 'Don Sushi 15', 'Zweistrom', 'Sam Yuk Gu', 'Pizza Max', 'Antichi Aromi Trattoria', 'Nusantara Restaurant', 'Chay Long', 'Swing Kitchen', 'Bilakiss', 'Dao Nguyen Asia - Sushi', 'Royals & Rice', 'Vincent Vegan IV', 'Arata- Sushi & More', 'Shezan - Indisches Restaurant', \"Fresh's\", 'Gate 57', 'Call a Pizza', 'dean & david', 'Café Journale', 'Moloko', 'Bistro Mola', 'Taktiek', 'Cana Restaurant & Catering', 'Minty 2', 'Baklavaci Antepliogullari', 'Food Brother', 'Mix & Match', 'Balli Holzkohlegrill Restaurant', 'THE PHO BAR - BERLIN', 'Döner Center', 'Indian Village Berlin', 'MOC', 'Köfteci Musti', 'Trancina', 'Viet Village', \"Schmuck's Restauration\", 'Pizzeria Milano Trattoria', 'Kaffee Kiana', 'Lovely', 'Vegan Living Quy Nguyen', 'Mozzarella & Pomodoro', 'Street Kitchen - Authentic Asian Food', 'Mamay - vietnamesiche Küche und Teehaus', 'Mozzarella Bar & Bottega', 'Quantuan', \"Bamboo's Hut Asiatische Küche & Sushi Bar\", 'Izumi Restaurant Sushi Bar', 'Falafel Aladdin', 'Pizza Scheune', 'Foodland', 'Steinofen-Pizza to Go', 'Army Food', 'Falafel Sababa', 'Eispatisserie Hokey Pokey', 'Chaomin-Congee Restaurant', 'Wraps Wraps', 'Döner Inn', 'Döner Point', 'Tandoori Nawab', 'Restaurant Aposto', 'Ryong', 'Curry 32', 'Starbucks', 'Aftab Persische Safranreis Bowl II', 'Izakaya Watapas', 'Vino e libri', 'Bollywood', \"90's Pizza\", 'Verona Italian Restaurant', 'Prinzen Falafel', 'Ali Baba', 'Curry at the Wall Berlin Mitte', 'Funk You', \"Schäfer's\", 'Cafe Pirouette', 'Swing Kitchen', 'DINER 67', 'Café Fleury', 'Les Vignes', 'Sunay Inegöl Köfteci', 'Oak & Ice', 'Saaky', 'Com Viet', 'Nem & More', 'BACK-FACTORY', 'Linh Linh Restaurant', 'Lee - Original Vietnamese Kitchen', 'Besh', 'Kaffee mit Zucker', 'Choppaluna', 'Wrapublic', 'Bessma Food', 'Gaststätte Sophieneck', 'BRGRS BRGRS - Organic Burgers', 'Leo Leo', 'Hatoki', 'Hubertha vietnamesisches Restaurant und Cafe', 'Planet Wein', 'Chopstix', 'BACK-FACTORY', 'Zuckerberg - Traditional Candy Shop', 'Maide Manti - Halal Food Production', 'Kim999 Vietnamese Vegan & Veggie Cuisine', 'Fatih Servet Döner', 'Eat Culture', 'Kiraku', 'A Cabana', 'Keyfi Sefa by The Meat', 'Damaru Indische Spezialitäten', 'Sucre et Sel', 'Pizza La Mora', 'La Tettoia', 'Best Friends', 'Adora Döner Kumru', 'Ming Dynastie', 'Exelans', 'Örnek', 'Van Anh Quan', 'Guten Dag', 'King of India', 'KUCHI Mitte', 'Meet Me Halfway', 'Saha - Gaziantep Spezialitäten', 'Thai Son Imbiss', 'Louis Alfons - PREMIUM BURGER & VEGGIE GRILL', 'Aldimashqi', 'PIZZERIA NAPOLETANA', 'Yogi - Restaurant', 'Raja', 'Ki Kuriya', 'Pizza El Fredo', \"American Burger und Nicks' Pizza\", '+84 Asian Deli & Vegan Kitchen', 'Pizza Pasta Pause', 'Mami Camilla Restaurant', 'Vedis Indisches Restaurant', 'Onkel Ho', 'Feel Seoul Good', 'Der neue Platzhirsch', '12 Taco Bar', 'Valle dei Templi', \"MA'LOA - Poké Bowl\", 'Mama Cook Restaurant', 'Fuku Sushi', 'PHO - Noodlebar', 'The Fresh Seeds', 'Hum Vegan Cuisine - Berlin', 'Restaurant Pamfilya', 'PocoLoco', 'Simela Finest Food', \"MA'LOA - Poké Bowl\", 'Indisches & Pakstanisches Restaurant Asman', 'Maothai Restaurant', 'Beets & Roots', 'Restaurant Girasol', 'Chupenga Burritos & Salads', 'HAN Express Korean Food Berlin', 'Golden Rice', 'AKEMI-Asian soul kitchen', 'Café Datscha- Gorki Park', 'momos - organic veggie dumplings', \"India's Spicy Tarka\", 'NORDSEE', 'Subway', 'Pepe Nero Trattoria-Pizzeria', 'Pizzeria Marienkäfer', 'GOA 2', 'W-Der Imbiss', 'Espresso House', 'Aapka', 'Peter Pane', 'Koempul Restaurant', 'Nhat Long', 'Baba Sultan Köfteci I', 'Chimneys', \"Ben & Jerry's und Magnum\", 'KFC', 'Naan Indische Spezialitäten', 'Thai Ha - New Generation', 'Kaplan Bistro Schönhauser', 'Coco Banh Mi Deli', \"Antonio's Pizzeria\", 'Paulaner Wirtshaus', 'Frittenwerk', 'Street Burger -Homemade-', 'La Cantina Berlin', 'mama trattoria', 'O Der Burger Berlin', 'Mamas Banh', 'Orient Station', 'San Marco', 'Burger Lane', 'Sushi San', 'Umami Sushi', 'Restaurant La Vong', 'Esszimmer', 'Saray', 'Asia Gondel', 'Fünf & Sechzig', 'Lecker Song', 'Marina Blu', 'NORDSEE', 'Pizza Pasta Tralala', 'Asiagourmet', 'South Vietnam', 'Alles Perfetto bei Petersen', 'Noodle Plus', 'Chupenga Burritos', 'Cult Döner', 'Mammam Mitte', \"MA'LOA - Poké Bowl\", 'Pizza Point Berlin Kreuzberg', 'Koi 56', 'Bayram Grillhaus', 'CholoSoy Peruanischer Imbiss', 'Minh San', 'Esra Falafel', 'Kebab Baba', 'Thuy Nga', 'Nhat - Nguyet Quan', 'Lokman', 'Burgermann', 'Vietnam Restaurant & Sushi Bar', 'Bella Vita', 'Galetterie Café', 'BrewDog', 'Sveda', 'KUZO', 'Suriya-Kanthi Der Sonnenschein', 'Noi Due', 'FALAFEL DAYE', 'Namu Sushi Lounge', 'Q Burger', 'Bäckerei Kollwitz', 'HOLY FLAT!', 'Pulcinella', 'Orlando', 'Pizza Peppino', 'Stop for Tea', 'Merelly Fine Sweets', 'Hanoi Gourmet', 'BBQ Kitchen', 'FateFoodBag', 'Restaurant Massai', 'Vegano Flavors', \"Domino's Pizza\", \"Hell's Kitchen Bärlin\", 'La Fiamma - Berlin Wedding', 'Five Guys', 'Trattoria Zoe', 'Amrit Potsdamer Platz', 'DJ Bombay', 'Mizu Ramen', 'KFC', 'Subway', \"'A Magica\", 'Subway', 'Subway', 'ASMAN', 'Akko Chicken & Grilled', 'Trattoria Fidelia', 'Tijuana', 'Peter Pane', 'Burger Boss', \"Tommi's Burger Joint\", 'Karaca - fresh food & delicious coffee', 'Erdinger am Gendarmenmarkt', 'Delabuu Ice Cream', 'Burgermeister Potsdamer Platz', 'Happy Asia', \"Restaurant Neumann's\", 'Babel Restaurant', 'Ristorante Pizzeria Roma', 'Creasian', 'Due Fratelli', 'Ristorante DaVinci', 'Burgerfabrik', 'Schiller Burger', 'Yaman grill', 'Cancún Restaurant Alexanderplatz', 'Restaurant Jalla Jalla', 'La Galleria Italiana', 'Italian Food Berlin', 'Carambar', 'Sons of Mana Mitte', 'Papaya Restaurant', \"McDonald's®\", 'Espresso House', 'Restaurant Aldente', 'Didim Restaurant', 'Italofritzen', 'La Premiata in Berlin since 2020', 'Mr. Beef', \"McDonald's®\", \"L'Osteria\", 'La Santa Lucha', 'BRGRS BRGRS - Organic Burgers', \"L'Osteria\", 'Hans im Glück', \"Domino's Pizza\", 'Subway', 'Kamps Bäckerei mit Backstube', 'Lemon Grass Scent', 'Quang Loi', 'Bonjour Ha Noi', \"Ben & Jerry's und Magnum\", 'Subway', 'Masti Indian Food', 'Basil', 'Pinocchio', 'Kamps Bäckerei mit Backstube', 'Cigkoftem', 'Bentokado', 'Oriento', 'Dada Falafel', 'OLLA', 'arko', 'Caffe Bar Italia', 'Fatih Servet', 'Manju', 'Cavolo Nero', 'Hussel', 'Manngo Vietnam-Restaurant', 'Currywurst Express', 'Go!Fish', 'Hamdibaba', 'Weilands Wellfood', 'Agra - Pak. & Indian Cuisine', 'Viet & My II', 'Pizza Palast', 'Mamma Mia', 'Fitery - Healthy, Fitness & Sport Food', 'Partybrenner', 'OBOK', 'Yokozuna Sushi', 'Juki - Korean BBQ and Soju Bar', 'Gangnam', 'CÀI Kitchen Berlin - Szechuan Vegan Bistro', 'Lal Badshah', 'Grindhouse - Homemade Burgers', 'Ciao Ciao', 'Buona Sera', 'Kamala', 'Mövenpick Hotel', 'Asia Deli', 'Morgenland', 'Buddha Indische Spezialitäten', 'BURGER KING ®', 'Salami Social Club II', 'Miu Lunch', 'Pablo Coffee', 'Casalot Restaurant', 'Master Chi', 'Hot Million Burger', 'Solo Pizza', 'Döner & Curry', 'Cowei Berlin', 'Sadhu 3', 'Diazo ®', 'Little italy', 'Prinz Bistro', 'Suppenfreunde', 'Aroy', 'Spar Express', 'Mojewa', 'Smokey Greens', 'Red Dragon Lieferservice', 'Bistro Öz Tadim', 'Tasty India', 'DALUMA Weinbergsweg', 'Restaurant Marone', \"Jasper's Restaurant\", 'American Ice-Cream', \"Chef's - by Butterbrot\", 'Vegan Tiger', 'häppies', 'The Small Garden', 'Monsieur Vuong', 'Ninhao China Restaurant', 'Yildiz Gözleme', 'geh Veg', 'Mr. Pfani - Polnische Küche', 'Suite Seventeen Restaurant', 'Aromi e Sapori', 'Nihombashi', 'Marubi Ramen', 'Pizza Affe', 'Sushi Number 1', 'Golden Fleece', 'Ponchy', 'Ferrarino Pizza Delivery', 'Espresso House', 'The Fiuty', \"An's Tea House\", 'Mogg', 'Yummy Mummy', 'Crepestation', 'Phuoc Restaurant', 'La Criolla Empanadas', 'Little Green Rabbit', 'Baffels Café and More', 'Bibi Mix', 'Restaurant Corallo', 'Co Chu Vietnam Gourmet Berlin', 'Mr. Le', 'Com Nam', 'My Anh', 'Raum Schwalbe', 'ROU Vegetarian', 'Buffalo 2', 'Tucano Coffee', 'Nha Toi Restaurant', 'Burgerwood', 'Little Green Rabbit', \"Minty's Fresh Food Bar\", 'Der blaue Fuchs', 'Mex-Burger 1', 'Schust', 'Restaurant Pasternak', \"Good'n Vegan im Mövenpick Hotel Berlin\", 'Restaurant Kollwitz', 'The 100 Cafe', 'Bangkok Bites', 'Salar of India', 'Pasta Focaccia', 'Pommes Freunde', 'Gujrat Palace Restaurant', 'Thai Duong - Vietnamesisches Restaurant', 'Mandi Halal', 'Beirut Express Libanesische Spezialitäten', 'My Indian Dream', 'China Restaurant Hua Ting', 'Espresso House', 'Kanaan', 'Espresso House', 'Hung Anh Vietnamesisches Restaurant', 'Gloria Empanadas', 'Chupenga Burritos & Salads', 'Berliner Marcus Bräu', 'Khushi Indian cuisine', 'Mr. Vertigo fine food', 'tak tak - polish deli', 'Burgerie', 'Pizza Hut', 'CouCou Café & Deli', 'KUMARI - Indian Food', 'Espresso House', 'Restaurant 51', 'Restaurant Bella Italia Berlin', 'Buffalo', 'Coréen', 'Salah Steinofenpizza', \"Betty'n Caty\", 'cookies and cream', 'Quchnia', 'DR. FRINGETOAST by Schmalzmann Delicatesserie', 'DB Service Store', 'Frühstück / Breakfast', 'Go!Fish', 'Eis auf Heiss', 'Fellas Österreichische Küche', 'AndaluZia', 'JOSEPH', 'Dumpling House & Bubble Tee', 'La Margherita', 'Kebab House', 'Pizza Hut', 'Delhi 6', \"Ben & Jerry's und Magnum\", 'Wonder Waffel', 'Sausalitos', 'KFC', 'Die Eins', 'Flying Monkey', 'Il Cantuccio I Biscotti Di Leonardo', \"Andy's Diner and Bar\", 'Vino & Basilico', 'Little Green Rabbit Gendarmenmarkt', 'XOI - Sticky Rice', 'Salt n Bone', 'Cyclo', 'Husseria', 'Sun Day Burger', 'Spoonful BERLIN', 'Manju', 'Frische Quarkbällchen', 'Spar Express', 'Cispace', 'Hanoi Bistro', 'hoan kiem', 'Wilhelms Burger', 'Viet & My', 'Agri Bistro']\n"
     ]
    }
   ],
   "source": [
    "# Extract the information for restaurants from this page\n",
    "\n",
    "driver.get(urls[0])\n",
    "WebDriverWait(driver, 5)\n",
    "#names = driver.find_elements(by=By.CLASS_NAME, value='restaurantname notranslate')\n",
    "#names = driver.find_elements(By.CSS_SELECTOR, \"h3\")\n",
    "restaurants_names = driver.find_elements(By.XPATH, \"//a[@class='restaurantname notranslate']\")\n",
    "\n",
    "restaurant_urls = []\n",
    "restaurant_names = []\n",
    "for restaurant in restaurants_names:\n",
    "    restaurant_urls.append(restaurant.get_attribute(\"href\"))\n",
    "    restaurant_names.append(restaurant.text)\n",
    "\n",
    "print(restaurant_urls)\n",
    "print(restaurant_names)"
   ]
  },
  {
   "cell_type": "code",
   "execution_count": 36,
   "metadata": {},
   "outputs": [
    {
     "name": "stdout",
     "output_type": "stream",
     "text": [
      "705\n",
      "705\n"
     ]
    }
   ],
   "source": [
    "print(len(restaurant_names))\n",
    "print(len(restaurant_urls))"
   ]
  },
  {
   "cell_type": "code",
   "execution_count": 56,
   "metadata": {},
   "outputs": [
    {
     "name": "stdout",
     "output_type": "stream",
     "text": [
      "0\n"
     ]
    }
   ],
   "source": [
    "reviews = driver.find_elements(By.CLASS_NAME, \"review_rating\")\n",
    "print(len(reviews))"
   ]
  },
  {
   "cell_type": "code",
   "execution_count": 48,
   "metadata": {},
   "outputs": [],
   "source": [
    "#restaurants = driver.find_elements(By.XPATH, \"//h2[@class='restaurantname']\")\n",
    "\n",
    "soup = BeautifulSoup(driver.page_source, \"html.parser\")\n"
   ]
  },
  {
   "cell_type": "code",
   "execution_count": 57,
   "metadata": {},
   "outputs": [
    {
     "name": "stdout",
     "output_type": "stream",
     "text": [
      "706\n"
     ]
    },
    {
     "data": {
      "text/plain": [
       "<div class=\"review-rating\">\n",
       "<div class=\"review-stars notranslate\">\n",
       "<span class=\"review-stars-range\" style=\"width: 80%;\">\n",
       "</span>\n",
       "</div>\n",
       "<span class=\"rating-total\">(150)</span>\n",
       "<span class=\"rating-total-short\">(150)</span>\n",
       "</div>"
      ]
     },
     "execution_count": 57,
     "metadata": {},
     "output_type": "execute_result"
    }
   ],
   "source": [
    "reviews = soup.find_all(\"div\", class_=\"review-rating\")\n",
    "print(len(reviews))\n",
    "reviews[0]"
   ]
  },
  {
   "cell_type": "code",
   "execution_count": 79,
   "metadata": {},
   "outputs": [
    {
     "data": {
      "text/plain": [
       "5.0"
      ]
     },
     "execution_count": 79,
     "metadata": {},
     "output_type": "execute_result"
    }
   ],
   "source": [
    "def convert_rating(rating_attribute):\n",
    "    found = re.search(r\"[0-9]{1,3}\", rating_attribute)\n",
    "    return int(found[0]) / 20\n",
    "    \n",
    "convert_rating('width: 100%;')"
   ]
  },
  {
   "cell_type": "code",
   "execution_count": 82,
   "metadata": {},
   "outputs": [
    {
     "data": {
      "text/plain": [
       "705"
      ]
     },
     "execution_count": 82,
     "metadata": {},
     "output_type": "execute_result"
    }
   ],
   "source": [
    "clean_reviews = reviews[ :len(restaurants_names)] # Remove the last element in the list which does not contain a review\n",
    "restaurant_reviews = []\n",
    "for clean_review in clean_reviews:\n",
    "    rating = clean_review.find(\"span\").get(\"style\")\n",
    "    restaurant_reviews.append(convert_rating(rating))\n",
    "    \n",
    "len(restaurant_reviews)\n",
    "    \n"
   ]
  },
  {
   "cell_type": "code",
   "execution_count": 116,
   "metadata": {},
   "outputs": [
    {
     "name": "stdout",
     "output_type": "stream",
     "text": [
      "705\n"
     ]
    },
    {
     "data": {
      "text/plain": [
       "[150, 128, 209, 128, 6]"
      ]
     },
     "execution_count": 116,
     "metadata": {},
     "output_type": "execute_result"
    }
   ],
   "source": [
    "total_ratings = soup.find_all(\"span\", class_=\"rating-total\")\n",
    "clean_ratings = total_ratings[ :len(restaurants_names)]\n",
    "\n",
    "restaurant_rating_totals = []\n",
    "for clean_rating in clean_ratings:\n",
    "    total_rating = clean_rating.text.strip()\n",
    "    total_rating = re.search(r\"[0-9]{1,5}\", total_rating)[0]\n",
    "    restaurant_rating_totals.append(int(total_rating))\n",
    "\n",
    "print(len(restaurant_rating_totals))\n",
    "restaurant_rating_totals[0:5]\n"
   ]
  },
  {
   "cell_type": "code",
   "execution_count": 97,
   "metadata": {},
   "outputs": [
    {
     "data": {
      "text/plain": [
       "705"
      ]
     },
     "execution_count": 97,
     "metadata": {},
     "output_type": "execute_result"
    }
   ],
   "source": [
    "kitchens = soup.find_all(\"div\", class_=\"kitchens\")\n",
    "clean_kitchens = kitchens[ :len(restaurant_names)]\n",
    "\n",
    "restaurant_kitchens = []\n",
    "for clean_kitchen in clean_kitchens:\n",
    "    restaurant_kitchens.append(clean_kitchen.find(\"span\").text)\n",
    "    \n",
    "len(restaurant_kitchens)\n",
    "    "
   ]
  },
  {
   "cell_type": "code",
   "execution_count": 118,
   "metadata": {},
   "outputs": [
    {
     "data": {
      "text/plain": [
       "[{'restaurant_name': 'Diazo',\n",
       "  'restaurant_url': 'https://www.lieferando.de/en/menu/diazo-greifenhagener',\n",
       "  'restaurant_review': 4.0,\n",
       "  'restaurant_rating_total': 150,\n",
       "  'restaurant_kitchen': 'Italian style pizza, Burgers, Pasta'},\n",
       " {'restaurant_name': 'Hot Million Burger',\n",
       "  'restaurant_url': 'https://www.lieferando.de/en/menu/hot-million-burger-reinickendorfer',\n",
       "  'restaurant_review': 4.5,\n",
       "  'restaurant_rating_total': 128,\n",
       "  'restaurant_kitchen': 'Italian style pizza, Burgers, Pasta'}]"
      ]
     },
     "execution_count": 118,
     "metadata": {},
     "output_type": "execute_result"
    }
   ],
   "source": [
    "# Final restaurant list\n",
    "\n",
    "restaurant_list = []\n",
    "for restaurant_name, restaurant_url, restaurant_review, restaurant_rating_total, restaurant_kitchen in zip(restaurant_names, restaurant_urls, restaurant_reviews, restaurant_rating_totals, restaurant_kitchens):\n",
    "    restaurant_list.append(\n",
    "        dict(restaurant_name=restaurant_name,\n",
    "             restaurant_url=restaurant_url, \n",
    "             restaurant_review=restaurant_review, \n",
    "             restaurant_rating_total=restaurant_rating_total, \n",
    "             restaurant_kitchen=restaurant_kitchen)\n",
    "    )\n",
    "    \n",
    "restaurant_list[:2]"
   ]
  },
  {
   "cell_type": "markdown",
   "metadata": {},
   "source": [
    "# Feature extraction from the restaurant pages"
   ]
  },
  {
   "cell_type": "code",
   "execution_count": 160,
   "metadata": {},
   "outputs": [],
   "source": [
    "driver.get(restaurant_list[0].get(\"restaurant_url\"))\n",
    "wait = WebDriverWait(driver, 15)\n",
    "wait.until(ec.visibility_of_element_located(\n",
    "    (By.XPATH, \"//button[@class='info info-icon js-open-info-tab']\")))\n",
    "\n",
    "\n",
    "button = driver.find_element(By.XPATH, \"//button[@class='info info-icon js-open-info-tab']\")\n",
    "button.click()"
   ]
  },
  {
   "cell_type": "code",
   "execution_count": 156,
   "metadata": {},
   "outputs": [
    {
     "data": {
      "text/plain": [
       "'Greifenhagener Straße 61\\n10437 Berlin'"
      ]
     },
     "execution_count": 156,
     "metadata": {},
     "output_type": "execute_result"
    }
   ],
   "source": [
    "address = driver.find_element(By.XPATH, \"//section[@class='card-body notranslate']\").text\n",
    "\n",
    "address"
   ]
  },
  {
   "cell_type": "code",
   "execution_count": 157,
   "metadata": {},
   "outputs": [
    {
     "name": "stdout",
     "output_type": "stream",
     "text": [
      "street: Greifenhagener Straße 61\n",
      "zip code: 10437\n",
      "city: Berlin\n"
     ]
    }
   ],
   "source": [
    "# Extract street, ZIP code and City from string\n",
    "street = re.search(r\".*\", address)[0]\n",
    "zip_code = re.search(r\"[0-9]{5}\", address)[0]\n",
    "city = re.search(r\"[\\w]+$\", address)[0]\n",
    "\n",
    "print(\"street:\", street)\n",
    "print(\"zip code:\", zip_code)\n",
    "print(\"city:\", city)"
   ]
  },
  {
   "cell_type": "code",
   "execution_count": 158,
   "metadata": {},
   "outputs": [],
   "source": [
    "copy_rest_list = restaurant_list.copy()"
   ]
  },
  {
   "cell_type": "code",
   "execution_count": 159,
   "metadata": {},
   "outputs": [
    {
     "data": {
      "text/plain": [
       "{'restaurant_name': 'Diazo',\n",
       " 'restaurant_url': 'https://www.lieferando.de/en/menu/diazo-greifenhagener',\n",
       " 'restaurant_review': 4.0,\n",
       " 'restaurant_rating_total': 150,\n",
       " 'restaurant_kitchen': 'Italian style pizza, Burgers, Pasta',\n",
       " 'street': 'Greifenhagener Straße 61',\n",
       " 'zip_code': '10437',\n",
       " 'city': 'Berlin'}"
      ]
     },
     "execution_count": 159,
     "metadata": {},
     "output_type": "execute_result"
    }
   ],
   "source": [
    "copy_rest_list[0][\"street\"] = street\n",
    "copy_rest_list[0][\"zip_code\"] = zip_code\n",
    "copy_rest_list[0][\"city\"] = city\n",
    "\n",
    "copy_rest_list[0]"
   ]
  },
  {
   "cell_type": "code",
   "execution_count": 165,
   "metadata": {},
   "outputs": [
    {
     "data": {
      "text/plain": [
       "['https://www.lieferando.de/en/menu/diazo-greifenhagener',\n",
       " 'https://www.lieferando.de/en/menu/hot-million-burger-reinickendorfer',\n",
       " 'https://www.lieferando.de/en/menu/burger-king-berlin-schoenhauser-allee',\n",
       " 'https://www.lieferando.de/en/menu/burger-king-berlin-alexanderplatz',\n",
       " 'https://www.lieferando.de/en/menu/bowl-time',\n",
       " 'https://www.lieferando.de/en/menu/burger-king-berlin-mitte-bahnhof',\n",
       " 'https://www.lieferando.de/en/menu/bring-bakery',\n",
       " 'https://www.lieferando.de/en/menu/otacos-berlin-spandauer-strasse',\n",
       " 'https://www.lieferando.de/en/menu/kreuzburger-friedrichshain',\n",
       " 'https://www.lieferando.de/en/menu/pizza-nostra-berlin',\n",
       " 'https://www.lieferando.de/en/menu/xi-gon',\n",
       " 'https://www.lieferando.de/en/menu/habba-habba-berlin',\n",
       " 'https://www.lieferando.de/en/menu/madni',\n",
       " 'https://www.lieferando.de/en/menu/dunkin-donuts-berlin-badstrasse',\n",
       " 'https://www.lieferando.de/en/menu/maison-viet-10437',\n",
       " 'https://www.lieferando.de/en/menu/riga-s-pizza-box-berlin-berlin',\n",
       " 'https://www.lieferando.de/en/menu/smokepops',\n",
       " 'https://www.lieferando.de/en/menu/cafe-old-style',\n",
       " 'https://www.lieferando.de/en/menu/salami-social-club-ii',\n",
       " 'https://www.lieferando.de/en/menu/otacos-berlin-gesundbrunnen-badstrasse',\n",
       " 'https://www.lieferando.de/en/menu/restaurant-machiavelli-berlin-1',\n",
       " 'https://www.lieferando.de/en/menu/comcha-vegan',\n",
       " 'https://www.lieferando.de/en/menu/funa-sushi-berlin-moabit',\n",
       " 'https://www.lieferando.de/en/menu/dunkin-donuts-berlin-europaplatz',\n",
       " 'https://www.lieferando.de/en/menu/dunkin-donuts-berlin-alexanderplatz',\n",
       " 'https://www.lieferando.de/en/menu/dunkin-donuts-berlin-bahnhof-friedrichstrasse',\n",
       " 'https://www.lieferando.de/en/menu/nampan-restaurant',\n",
       " 'https://www.lieferando.de/en/menu/fitery',\n",
       " 'https://www.lieferando.de/en/menu/taj-india-haus',\n",
       " 'https://www.lieferando.de/en/menu/sushi-yana-moabit',\n",
       " 'https://www.lieferando.de/en/menu/dawat-indische-spezialitaeten',\n",
       " 'https://www.lieferando.de/en/menu/soul-sushi-berlin',\n",
       " 'https://www.lieferando.de/en/menu/babo-sushi-berlin-friedrichshain',\n",
       " 'https://www.lieferando.de/en/menu/al-forno',\n",
       " 'https://www.lieferando.de/en/menu/bombay',\n",
       " 'https://www.lieferando.de/en/menu/mauer-kebab',\n",
       " 'https://www.lieferando.de/en/menu/ristorante-porta-nova',\n",
       " 'https://www.lieferando.de/en/menu/dunkin-donuts-berlin-rathausstrasse',\n",
       " 'https://www.lieferando.de/en/menu/hoa-nam-asia-wok-sushi-bar-10559',\n",
       " 'https://www.lieferando.de/en/menu/dunkin-donuts-berlin-potsdamer-strasse',\n",
       " 'https://www.lieferando.de/en/menu/escendo-pizzeria',\n",
       " 'https://www.lieferando.de/en/menu/call-a-pizza-berlin-mohrenstr',\n",
       " 'https://www.lieferando.de/en/menu/pizza-noi-10785',\n",
       " 'https://www.lieferando.de/en/menu/safran',\n",
       " 'https://www.lieferando.de/en/menu/pizza-max-berlin-winsstr',\n",
       " 'https://www.lieferando.de/en/menu/krishna-indisches-restaurant',\n",
       " 'https://www.lieferando.de/en/menu/khatmandu',\n",
       " 'https://www.lieferando.de/en/menu/saiko-sushi-bornholmer-strasse',\n",
       " 'https://www.lieferando.de/en/menu/falafelo-berlin',\n",
       " 'https://www.lieferando.de/en/menu/sushi-city-berlin-nollendorfstrasse',\n",
       " 'https://www.lieferando.de/en/menu/ajwa-restaurant',\n",
       " 'https://www.lieferando.de/en/menu/fastvegan-by-levo-lori',\n",
       " 'https://www.lieferando.de/en/menu/dildaar',\n",
       " 'https://www.lieferando.de/en/menu/burger-vision',\n",
       " 'https://www.lieferando.de/en/menu/pizza-coach-prenzlauerberg-berlin',\n",
       " 'https://www.lieferando.de/en/menu/first-grillhaus-13347',\n",
       " 'https://www.lieferando.de/en/menu/la-piazza-berlin-2',\n",
       " 'https://www.lieferando.de/en/menu/iiu-berlin',\n",
       " 'https://www.lieferando.de/en/menu/akito',\n",
       " 'https://www.lieferando.de/en/menu/taverna-hellas-1',\n",
       " 'https://www.lieferando.de/en/menu/ossaka-sushi',\n",
       " 'https://www.lieferando.de/en/menu/marea',\n",
       " 'https://www.lieferando.de/en/menu/pizza-kartel',\n",
       " 'https://www.lieferando.de/en/menu/oez-adana-grillhaus-berlin',\n",
       " 'https://www.lieferando.de/en/menu/curry-mitte',\n",
       " 'https://www.lieferando.de/en/menu/kenko-sushi-schoenhauser-allee',\n",
       " 'https://www.lieferando.de/en/menu/punjabi-tarka-indischer-lieferservice-berlin',\n",
       " 'https://www.lieferando.de/en/menu/taj-mahal-haus-3',\n",
       " 'https://www.lieferando.de/en/menu/oshinbo-izakaya',\n",
       " 'https://www.lieferando.de/en/menu/pizzeria-mini-perle',\n",
       " 'https://www.lieferando.de/en/menu/dunkin-donuts-berlin-unter-den-linden',\n",
       " 'https://www.lieferando.de/en/menu/nymami',\n",
       " 'https://www.lieferando.de/en/menu/la-gino-berlin-1',\n",
       " 'https://www.lieferando.de/en/menu/rocca-pizza-pasta-gleimstrasse',\n",
       " 'https://www.lieferando.de/en/menu/call-to-eat-berlin-1',\n",
       " 'https://www.lieferando.de/en/menu/smile',\n",
       " 'https://www.lieferando.de/en/menu/chainone',\n",
       " 'https://www.lieferando.de/en/menu/riad-marakkesch',\n",
       " 'https://www.lieferando.de/en/menu/bergmann-burger-by-beefman',\n",
       " 'https://www.lieferando.de/en/menu/dana-pani-indische-spezialitaeten-britzer-damm',\n",
       " 'https://www.lieferando.de/en/menu/sushi-west-by-hoa',\n",
       " 'https://www.lieferando.de/en/menu/burger-stop-pizza',\n",
       " 'https://www.lieferando.de/en/menu/sushi-for-you-berlin-wedding',\n",
       " 'https://www.lieferando.de/en/menu/vadoli-pizza-berlin-mitte',\n",
       " 'https://www.lieferando.de/en/menu/mizyan-restaurant',\n",
       " 'https://www.lieferando.de/en/menu/90s-burger',\n",
       " 'https://www.lieferando.de/en/menu/aki-tatsu-1',\n",
       " 'https://www.lieferando.de/en/menu/yogi-indisches-restaurant-berlin',\n",
       " 'https://www.lieferando.de/en/menu/chibee',\n",
       " 'https://www.lieferando.de/en/menu/apna-virsa',\n",
       " 'https://www.lieferando.de/en/menu/city-chicken-10553',\n",
       " 'https://www.lieferando.de/en/menu/burgerzimmer-vi-1',\n",
       " 'https://www.lieferando.de/en/menu/by-yale',\n",
       " 'https://www.lieferando.de/en/menu/pizza-de-lux-berlin-3',\n",
       " 'https://www.lieferando.de/en/menu/burger-dreams',\n",
       " 'https://www.lieferando.de/en/menu/zeitlos-pizzeria',\n",
       " 'https://www.lieferando.de/en/menu/papa-no-berlin-prenzlauer-berg',\n",
       " 'https://www.lieferando.de/en/menu/crispys-chicken-10827',\n",
       " 'https://www.lieferando.de/en/menu/buttspicy',\n",
       " 'https://www.lieferando.de/en/menu/pizza-e-pasta-2',\n",
       " 'https://www.lieferando.de/en/menu/house-of-do-an',\n",
       " 'https://www.lieferando.de/en/menu/berlin-don-giovanni',\n",
       " 'https://www.lieferando.de/en/menu/rosario-steakhaus-berlin',\n",
       " 'https://www.lieferando.de/en/menu/asuka-sushi',\n",
       " 'https://www.lieferando.de/en/menu/massimo-lieferservice-berlin',\n",
       " 'https://www.lieferando.de/en/menu/akito-sushi-express',\n",
       " 'https://www.lieferando.de/en/menu/xigon-1987',\n",
       " 'https://www.lieferando.de/en/menu/world-of-pizza-berlin-prenzlauer-berg',\n",
       " 'https://www.lieferando.de/en/menu/core-korean-cuisine',\n",
       " 'https://www.lieferando.de/en/menu/moccachino-berlin',\n",
       " 'https://www.lieferando.de/en/menu/caphe-hoa',\n",
       " 'https://www.lieferando.de/en/menu/indda-indische-spezialitaeten-berlin',\n",
       " 'https://www.lieferando.de/en/menu/dean-david-berlin-schoenhauser-allee',\n",
       " 'https://www.lieferando.de/en/menu/hanoi-st-16',\n",
       " 'https://www.lieferando.de/en/menu/eden-vietnamesisches-restaurant',\n",
       " 'https://www.lieferando.de/en/menu/mr-hoang-berlin',\n",
       " 'https://www.lieferando.de/en/menu/pizza-tino-lieferservice',\n",
       " 'https://www.lieferando.de/en/menu/burgermeister-eberswalder',\n",
       " 'https://www.lieferando.de/en/menu/immergruen-berlin-schoenhauser-allee',\n",
       " 'https://www.lieferando.de/en/menu/yf-kebaphaus',\n",
       " 'https://www.lieferando.de/en/menu/berlin-burrito-berlin-kastanienalle',\n",
       " 'https://www.lieferando.de/en/menu/lezziz-restaurant-food-nuts-sweets',\n",
       " 'https://www.lieferando.de/en/menu/harika-liferservice',\n",
       " 'https://www.lieferando.de/en/menu/chelany-mitte',\n",
       " 'https://www.lieferando.de/en/menu/chefs-by-butterbrot',\n",
       " 'https://www.lieferando.de/en/menu/papi-imbiss',\n",
       " 'https://www.lieferando.de/en/menu/reisfreude',\n",
       " 'https://www.lieferando.de/en/menu/eispatisserie-hokey-pokey-torstr',\n",
       " 'https://www.lieferando.de/en/menu/asian-fine-food',\n",
       " 'https://www.lieferando.de/en/menu/veg-room',\n",
       " 'https://www.lieferando.de/en/menu/ben-rahim',\n",
       " 'https://www.lieferando.de/en/menu/mangiare-and-go',\n",
       " 'https://www.lieferando.de/en/menu/com-dai-dung-japanische-spezialitaeten-berlin',\n",
       " 'https://www.lieferando.de/en/menu/star-of-india-lieferservice-berlin-neukoelln',\n",
       " 'https://www.lieferando.de/en/menu/wilhelms-burger',\n",
       " 'https://www.lieferando.de/en/menu/burgerzimmer-berlin-pankstrasse',\n",
       " 'https://www.lieferando.de/en/menu/willis-restaurant',\n",
       " 'https://www.lieferando.de/en/menu/the-orient-house',\n",
       " 'https://www.lieferando.de/en/menu/da-giorgio-berlin-1',\n",
       " 'https://www.lieferando.de/en/menu/burger-world-berlin',\n",
       " 'https://www.lieferando.de/en/menu/mcdonalds-berlin-hanne-sobek-platz',\n",
       " 'https://www.lieferando.de/en/menu/bookmyholiday',\n",
       " 'https://www.lieferando.de/en/menu/rolls',\n",
       " 'https://www.lieferando.de/en/menu/restaurant-al-hamra',\n",
       " 'https://www.lieferando.de/en/menu/kuchi-mitte',\n",
       " 'https://www.lieferando.de/en/menu/restaurant-julchen-hoppe',\n",
       " 'https://www.lieferando.de/en/menu/houdini',\n",
       " 'https://www.lieferando.de/en/menu/wedding-grillhaus',\n",
       " 'https://www.lieferando.de/en/menu/asia-food-tuan-linh',\n",
       " 'https://www.lieferando.de/en/menu/tien-linh-khang-restaurant-lieferservice-events',\n",
       " 'https://www.lieferando.de/en/menu/pizzeria-dun-dun-berlin',\n",
       " 'https://www.lieferando.de/en/menu/koeylueoglu-restaurant-berlin',\n",
       " 'https://www.lieferando.de/en/menu/darbar-indische-spezialitaeten',\n",
       " 'https://www.lieferando.de/en/menu/lovely-sushi-1',\n",
       " 'https://www.lieferando.de/en/menu/viet-nam-sushi-bar',\n",
       " 'https://www.lieferando.de/en/menu/amrit-berlin-mitte',\n",
       " 'https://www.lieferando.de/en/menu/thai-aroma',\n",
       " 'https://www.lieferando.de/en/menu/karamels-online',\n",
       " 'https://www.lieferando.de/en/menu/el-rief-orientalische-arabische-kueche',\n",
       " 'https://www.lieferando.de/en/menu/al-mondo',\n",
       " 'https://www.lieferando.de/en/menu/wrapublic-schoenhauser-allee',\n",
       " 'https://www.lieferando.de/en/menu/wild-raw',\n",
       " 'https://www.lieferando.de/en/menu/yoere-goezleme-ve-manti-evi',\n",
       " 'https://www.lieferando.de/en/menu/dar-4-sudanesische-spezialitaeten',\n",
       " 'https://www.lieferando.de/en/menu/pasta-vino-stargarder-strasse',\n",
       " 'https://www.lieferando.de/en/menu/pizzeria-allegro-reinickendorfer-strasse',\n",
       " 'https://www.lieferando.de/en/menu/yumcha-heroes-new-owner',\n",
       " 'https://www.lieferando.de/en/menu/der-fischladen',\n",
       " 'https://www.lieferando.de/en/menu/nur-kebap-13349',\n",
       " 'https://www.lieferando.de/en/menu/falafel-al-amin',\n",
       " 'https://www.lieferando.de/en/menu/mami-restaurant',\n",
       " 'https://www.lieferando.de/en/menu/tor-kebab-torstrasse',\n",
       " 'https://www.lieferando.de/en/menu/pizzas-n-burgers-stop',\n",
       " 'https://www.lieferando.de/en/menu/datscha-prenzlauer-berg',\n",
       " 'https://www.lieferando.de/en/menu/huong-sen-new-owner',\n",
       " 'https://www.lieferando.de/en/menu/nordsee-berlin-schoenhauser-allee',\n",
       " 'https://www.lieferando.de/en/menu/aiko-sushi-grillrestaurant',\n",
       " 'https://www.lieferando.de/en/menu/restaurant-lichtburg',\n",
       " 'https://www.lieferando.de/en/menu/7-dumpling-schoenhauser-allee',\n",
       " 'https://www.lieferando.de/en/menu/jinbu-sushi',\n",
       " 'https://www.lieferando.de/en/menu/hofbraeu-berlin-karl-liebknecht-strasse',\n",
       " 'https://www.lieferando.de/en/menu/pho-co-rosa-luxemburg-strasse',\n",
       " 'https://www.lieferando.de/en/menu/berlin-cikoefte-vegan',\n",
       " 'https://www.lieferando.de/en/menu/dominos-pizza-berlin-wedding-gerichtstrasse',\n",
       " 'https://www.lieferando.de/en/menu/formidable',\n",
       " 'https://www.lieferando.de/en/menu/don-sushi-15',\n",
       " 'https://www.lieferando.de/en/menu/zweistrom',\n",
       " 'https://www.lieferando.de/en/menu/pizza-max-berlin-luderitzstr',\n",
       " 'https://www.lieferando.de/en/menu/nusantara',\n",
       " 'https://www.lieferando.de/en/menu/chay-long',\n",
       " 'https://www.lieferando.de/en/menu/swing-kitchen-rosenthaler-str',\n",
       " 'https://www.lieferando.de/en/menu/bilakis',\n",
       " 'https://www.lieferando.de/en/menu/pizza-affe',\n",
       " 'https://www.lieferando.de/en/menu/dao-nguyen-berlin',\n",
       " 'https://www.lieferando.de/en/menu/vincent-vegan-iv',\n",
       " 'https://www.lieferando.de/en/menu/arata-sushi-more',\n",
       " 'https://www.lieferando.de/en/menu/shezan-indisches-restaurant',\n",
       " 'https://www.lieferando.de/en/menu/freshs-oranienburger-strasse',\n",
       " 'https://www.lieferando.de/en/menu/gate-57-berlin',\n",
       " 'https://www.lieferando.de/en/menu/call-a-pizza-berlin-wedding',\n",
       " 'https://www.lieferando.de/en/menu/dean-david-berlin-karl-liebknecht-strasse',\n",
       " 'https://www.lieferando.de/en/menu/moloko',\n",
       " 'https://www.lieferando.de/en/menu/taktiek',\n",
       " 'https://www.lieferando.de/en/menu/bistro-mola',\n",
       " 'https://www.lieferando.de/en/menu/diazo-reinickendorfer',\n",
       " 'https://www.lieferando.de/en/menu/minty-2',\n",
       " 'https://www.lieferando.de/en/menu/baklavaci-antepliogullari-1',\n",
       " 'https://www.lieferando.de/en/menu/mix-match',\n",
       " 'https://www.lieferando.de/en/menu/balli-holzkohlegrill-restaurant',\n",
       " 'https://www.lieferando.de/en/menu/the-pho-bar',\n",
       " 'https://www.lieferando.de/en/menu/doener-center',\n",
       " 'https://www.lieferando.de/en/menu/indian-village-berlin-berlin',\n",
       " 'https://www.lieferando.de/en/menu/moc',\n",
       " 'https://www.lieferando.de/en/menu/koefteci-musti',\n",
       " 'https://www.lieferando.de/en/menu/trancina',\n",
       " 'https://www.lieferando.de/en/menu/ponchy',\n",
       " 'https://www.lieferando.de/en/menu/viet-village-rosenthaler-str',\n",
       " 'https://www.lieferando.de/en/menu/schmucks-restauration',\n",
       " 'https://www.lieferando.de/en/menu/pizzeria-milano-trattoria',\n",
       " 'https://www.lieferando.de/en/menu/kaffee-kiana',\n",
       " 'https://www.lieferando.de/en/menu/vegan-living-quy-nguyen',\n",
       " 'https://www.lieferando.de/en/menu/mozzarella-pomodoro',\n",
       " 'https://www.lieferando.de/en/menu/street-kitchen-authentic-asian-food',\n",
       " 'https://www.lieferando.de/en/menu/mamay-vietnamesiche-kueche-und-teehaus',\n",
       " 'https://www.lieferando.de/en/menu/quantuan',\n",
       " 'https://www.lieferando.de/en/menu/izumi-sushi-berlin',\n",
       " 'https://www.lieferando.de/en/menu/espresso-house-berlin-dom-aquaree',\n",
       " 'https://www.lieferando.de/en/menu/falafel-aladdin',\n",
       " 'https://www.lieferando.de/en/menu/foodland-berlin',\n",
       " 'https://www.lieferando.de/en/menu/steinofen-pizza-to-go',\n",
       " 'https://www.lieferando.de/en/menu/hokey-pokey',\n",
       " 'https://www.lieferando.de/en/menu/wraps-wraps',\n",
       " 'https://www.lieferando.de/en/menu/doener-inn',\n",
       " 'https://www.lieferando.de/en/menu/restaurant-aposto',\n",
       " 'https://www.lieferando.de/en/menu/curry-32',\n",
       " 'https://www.lieferando.de/en/menu/starbucks-berlin-hackescher-markt',\n",
       " 'https://www.lieferando.de/en/menu/aftab-persische-safranreis-bowl-ii',\n",
       " 'https://www.lieferando.de/en/menu/bollywood-12689',\n",
       " 'https://www.lieferando.de/en/menu/90s-pizza',\n",
       " 'https://www.lieferando.de/en/menu/verona-italian-restaurant',\n",
       " 'https://www.lieferando.de/en/menu/prinzen-falafel-bernauer-strasse',\n",
       " 'https://www.lieferando.de/en/menu/ali-baba-prenzlauer-berg',\n",
       " 'https://www.lieferando.de/en/menu/curry-at-the-wall-berlin-mitte',\n",
       " 'https://www.lieferando.de/en/menu/funk-you',\n",
       " 'https://www.lieferando.de/en/menu/yummy-mummy',\n",
       " 'https://www.lieferando.de/en/menu/swing-kitchen-berlin-georgenstrasse',\n",
       " 'https://www.lieferando.de/en/menu/sun-ay-inegoel',\n",
       " 'https://www.lieferando.de/en/menu/oak-ice',\n",
       " 'https://www.lieferando.de/en/menu/phuoc-restaurant',\n",
       " 'https://www.lieferando.de/en/menu/hanoi-bistro-berlin',\n",
       " 'https://www.lieferando.de/en/menu/saaky',\n",
       " 'https://www.lieferando.de/en/menu/nem-more',\n",
       " 'https://www.lieferando.de/en/menu/la-criolla-empanadas-1',\n",
       " 'https://www.lieferando.de/en/menu/cozy-time',\n",
       " 'https://www.lieferando.de/en/menu/lee-original-vietnamese-kitchen',\n",
       " 'https://www.lieferando.de/en/menu/besh',\n",
       " 'https://www.lieferando.de/en/menu/baffels-cafe-and-more',\n",
       " 'https://www.lieferando.de/en/menu/kaffee-mit-zucker',\n",
       " 'https://www.lieferando.de/en/menu/cispace',\n",
       " 'https://www.lieferando.de/en/menu/wrapublic-mitte',\n",
       " 'https://www.lieferando.de/en/menu/bessma-food',\n",
       " 'https://www.lieferando.de/en/menu/les-vignes',\n",
       " 'https://www.lieferando.de/en/menu/brgrs-brgrs-organic-burgers',\n",
       " 'https://www.lieferando.de/en/menu/leo-leo',\n",
       " 'https://www.lieferando.de/en/menu/hubertha',\n",
       " 'https://www.lieferando.de/en/menu/bibi-mix',\n",
       " 'https://www.lieferando.de/en/menu/chopstix',\n",
       " 'https://www.lieferando.de/en/menu/back-factory-berlin-brunnenstrasse',\n",
       " 'https://www.lieferando.de/en/menu/zuckrerg-traditional-candy-shop',\n",
       " 'https://www.lieferando.de/en/menu/maide-manti-halal-food-production',\n",
       " 'https://www.lieferando.de/en/menu/tucano-coffee',\n",
       " 'https://www.lieferando.de/en/menu/fatih-servet-doener',\n",
       " 'https://www.lieferando.de/en/menu/kiraku',\n",
       " 'https://www.lieferando.de/en/menu/cai-kitchen-berlin',\n",
       " 'https://www.lieferando.de/en/menu/la-mama-noor',\n",
       " 'https://www.lieferando.de/en/menu/sucre-et-sel',\n",
       " 'https://www.lieferando.de/en/menu/pizza-la-mora',\n",
       " 'https://www.lieferando.de/en/menu/adora-doener-kumru',\n",
       " 'https://www.lieferando.de/en/menu/ming-dynastie-new-owner',\n",
       " 'https://www.lieferando.de/en/menu/exelans-berlin',\n",
       " 'https://www.lieferando.de/en/menu/oernek',\n",
       " 'https://www.lieferando.de/en/menu/haicoffeeasianfood',\n",
       " 'https://www.lieferando.de/en/menu/king-of-india-berlin',\n",
       " 'https://www.lieferando.de/en/menu/meet-me-halfway',\n",
       " 'https://www.lieferando.de/en/menu/saha-gaziantep-spezialitaeten',\n",
       " 'https://www.lieferando.de/en/menu/thai-son-imbiss',\n",
       " 'https://www.lieferando.de/en/menu/aldimashqi-gesundbrunnen',\n",
       " 'https://www.lieferando.de/en/menu/pizzeria-10115',\n",
       " 'https://www.lieferando.de/en/menu/yogi-restaurant',\n",
       " 'https://www.lieferando.de/en/menu/raja-berlin',\n",
       " 'https://www.lieferando.de/en/menu/ki-kuriya',\n",
       " 'https://www.lieferando.de/en/menu/pizza-el-fredo-10969berlin',\n",
       " 'https://www.lieferando.de/en/menu/84-asian-deli-vegan-kitchen',\n",
       " 'https://www.lieferando.de/en/menu/pizza-pasta-pause-berlin',\n",
       " 'https://www.lieferando.de/en/menu/mami-camilla-restaurant',\n",
       " 'https://www.lieferando.de/en/menu/feel-seoul-good',\n",
       " 'https://www.lieferando.de/en/menu/beirut-express-libanesische-spezialitaeten-10553',\n",
       " 'https://www.lieferando.de/en/menu/12-taco-bar',\n",
       " 'https://www.lieferando.de/en/menu/maloa-poke-bowl-berlin-oranienburger-strasse',\n",
       " 'https://www.lieferando.de/en/menu/valle-dei-templi',\n",
       " 'https://www.lieferando.de/en/menu/mama-cook-restaurant',\n",
       " 'https://www.lieferando.de/en/menu/pho-noodlebar',\n",
       " 'https://www.lieferando.de/en/menu/the-fresh-seeds-invalidenstrasse',\n",
       " 'https://www.lieferando.de/en/menu/hum-vegan-cuisine-berlin',\n",
       " 'https://www.lieferando.de/en/menu/restaurant-pamfilya',\n",
       " 'https://www.lieferando.de/en/menu/pocoloco-oderberger-strasse',\n",
       " 'https://www.lieferando.de/en/menu/maothai-restaurant',\n",
       " 'https://www.lieferando.de/en/menu/beetsroots-berlin-1',\n",
       " 'https://www.lieferando.de/en/menu/restaurant-girasol',\n",
       " 'https://www.lieferando.de/en/menu/royals-rice-x-sons-of-mana-1',\n",
       " 'https://www.lieferando.de/en/menu/golden-rice',\n",
       " 'https://www.lieferando.de/en/menu/akemi-rykestrasse',\n",
       " 'https://www.lieferando.de/en/menu/gorki-park',\n",
       " 'https://www.lieferando.de/en/menu/momos',\n",
       " 'https://www.lieferando.de/en/menu/spicy-tuerka',\n",
       " 'https://www.lieferando.de/en/menu/nordsee-berlin-spandauer-strasse',\n",
       " 'https://www.lieferando.de/en/menu/subway-berlin-friedrichstrasse',\n",
       " 'https://www.lieferando.de/en/menu/pepe-nero-trattoria-pizzeria-boetzowstrasse',\n",
       " 'https://www.lieferando.de/en/menu/agra-pak-indian-cuisine-berlin',\n",
       " 'https://www.lieferando.de/en/menu/goa-2',\n",
       " 'https://www.lieferando.de/en/menu/espresso-house-berlin-1',\n",
       " 'https://www.lieferando.de/en/menu/peter-pane-berlin-hackescher-markt',\n",
       " 'https://www.lieferando.de/en/menu/koempul-restaurant',\n",
       " 'https://www.lieferando.de/en/menu/hoan-kiem-berlin',\n",
       " 'https://www.lieferando.de/en/menu/nhat-long-torstrasse',\n",
       " 'https://www.lieferando.de/en/menu/baba-sultan-kofteci-i',\n",
       " 'https://www.lieferando.de/en/menu/ben-jerrys-und-magnum-berlin-perleberger-str',\n",
       " 'https://www.lieferando.de/en/menu/chimneys-berlin',\n",
       " 'https://www.lieferando.de/en/menu/naan-indische-spezialitaeten',\n",
       " 'https://www.lieferando.de/en/menu/thai-ha-bistro-3',\n",
       " 'https://www.lieferando.de/en/menu/kaplan-bistro-schoenhauser',\n",
       " 'https://www.lieferando.de/en/menu/antonios-pizzeria',\n",
       " 'https://www.lieferando.de/en/menu/paulaner-wirtshaus',\n",
       " 'https://www.lieferando.de/en/menu/street-burger-homemade',\n",
       " 'https://www.lieferando.de/en/menu/la-cantina-berlin-1',\n",
       " 'https://www.lieferando.de/en/menu/o-der-burger-berlin-1',\n",
       " 'https://www.lieferando.de/en/menu/mamas-banh',\n",
       " 'https://www.lieferando.de/en/menu/orient-station-berlin-1',\n",
       " 'https://www.lieferando.de/en/menu/burger-lane',\n",
       " 'https://www.lieferando.de/en/menu/sushi-san',\n",
       " 'https://www.lieferando.de/en/menu/burgermeister-potsdamer-platz',\n",
       " 'https://www.lieferando.de/en/menu/yasaka-sushi-berlin-mitte-berlin',\n",
       " 'https://www.lieferando.de/en/menu/restaurant-la-vong',\n",
       " 'https://www.lieferando.de/en/menu/esszimmer-berlin',\n",
       " 'https://www.lieferando.de/en/menu/saray-online',\n",
       " 'https://www.lieferando.de/en/menu/asia-gondel-berlin',\n",
       " 'https://www.lieferando.de/en/menu/fuenf-sechzig',\n",
       " 'https://www.lieferando.de/en/menu/nordsee-berlin-badstrasse',\n",
       " 'https://www.lieferando.de/en/menu/pizza-pasta-tralala',\n",
       " 'https://www.lieferando.de/en/menu/asiagourmet-berlin-europaplatz',\n",
       " 'https://www.lieferando.de/en/menu/rice4you-berlin-1',\n",
       " 'https://www.lieferando.de/en/menu/alles-perfetto-bei-petersen-berlin',\n",
       " 'https://www.lieferando.de/en/menu/chupenga-burritos',\n",
       " 'https://www.lieferando.de/en/menu/espresso-house-berlin-gartenstrasse',\n",
       " 'https://www.lieferando.de/en/menu/kamala',\n",
       " 'https://www.lieferando.de/en/menu/mammam-mitte',\n",
       " 'https://www.lieferando.de/en/menu/bayram-grillhaus-brunnenstrasse',\n",
       " 'https://www.lieferando.de/en/menu/cholosoy-peruanischer-imbiss',\n",
       " 'https://www.lieferando.de/en/menu/esra-falafel-1',\n",
       " 'https://www.lieferando.de/en/menu/kebab-baba',\n",
       " 'https://www.lieferando.de/en/menu/thuy-nga',\n",
       " 'https://www.lieferando.de/en/menu/nhat-nguyet-quan',\n",
       " 'https://www.lieferando.de/en/menu/lokman',\n",
       " 'https://www.lieferando.de/en/menu/pizza-palast-berlin',\n",
       " 'https://www.lieferando.de/en/menu/vietnam-restaurant-sushi-bar',\n",
       " 'https://www.lieferando.de/en/menu/bella-vita-berlin-mitte-1',\n",
       " 'https://www.lieferando.de/en/menu/viet-my-online',\n",
       " 'https://www.lieferando.de/en/menu/galetterie-cafe',\n",
       " 'https://www.lieferando.de/en/menu/agri-bistro',\n",
       " 'https://www.lieferando.de/en/menu/brewdog-berlin-mitte-ackerstrasse',\n",
       " 'https://www.lieferando.de/en/menu/kuzo',\n",
       " 'https://www.lieferando.de/en/menu/sveda',\n",
       " 'https://www.lieferando.de/en/menu/mr-vertigo',\n",
       " 'https://www.lieferando.de/en/menu/falafel-daye',\n",
       " 'https://www.lieferando.de/en/menu/namu-sushi-lounge',\n",
       " 'https://www.lieferando.de/en/menu/baeckerei-kollwitz',\n",
       " 'https://www.lieferando.de/en/menu/balzac-coffee-berlin-chausseestrasse',\n",
       " 'https://www.lieferando.de/en/menu/pulcinella-berlin',\n",
       " 'https://www.lieferando.de/en/menu/orlando-berlin',\n",
       " 'https://www.lieferando.de/en/menu/pizza-peppino-tucholskystrasse',\n",
       " 'https://www.lieferando.de/en/menu/stop-for-tea',\n",
       " 'https://www.lieferando.de/en/menu/merely',\n",
       " 'https://www.lieferando.de/en/menu/hanoi-gourmet',\n",
       " 'https://www.lieferando.de/en/menu/cafe-berlin',\n",
       " 'https://www.lieferando.de/en/menu/bbq-kitchen',\n",
       " 'https://www.lieferando.de/en/menu/gofish',\n",
       " 'https://www.lieferando.de/en/menu/dominos-pizza-mitte-berlin',\n",
       " 'https://www.lieferando.de/en/menu/hells-kitchen-baerlin',\n",
       " 'https://www.lieferando.de/en/menu/tandoori-nawab-berlin',\n",
       " 'https://www.lieferando.de/en/menu/la-fiamma-berlin-wedding',\n",
       " 'https://www.lieferando.de/en/menu/trattoria-zoe-berlin',\n",
       " 'https://www.lieferando.de/en/menu/amrit-berlin-1',\n",
       " 'https://www.lieferando.de/en/menu/mizu-ramen',\n",
       " 'https://www.lieferando.de/en/menu/kentucky-fried-chicken-berlin-gesundbrunnen-center',\n",
       " 'https://www.lieferando.de/en/menu/cookie',\n",
       " 'https://www.lieferando.de/en/menu/subway-berlin-schoenhauser-allee',\n",
       " 'https://www.lieferando.de/en/menu/akko-chicken-grilled',\n",
       " 'https://www.lieferando.de/en/menu/peter-pane-berlin-invalidenstrasse',\n",
       " 'https://www.lieferando.de/en/menu/van-anh-quan',\n",
       " 'https://www.lieferando.de/en/menu/burger-boss-berlin',\n",
       " 'https://www.lieferando.de/en/menu/karaca-fresh-food-delicious-coffee',\n",
       " 'https://www.lieferando.de/en/menu/stampf-und-spiess',\n",
       " 'https://www.lieferando.de/en/menu/delabuu-ice-cream-gleimstrasse',\n",
       " 'https://www.lieferando.de/en/menu/happy-asia-berlin-danzigerstr',\n",
       " 'https://www.lieferando.de/en/menu/restaurant-neumanns',\n",
       " 'https://www.lieferando.de/en/menu/ristorante-roma-pizzeria-gmbh',\n",
       " 'https://www.lieferando.de/en/menu/due-fratelli-new-owner',\n",
       " 'https://www.lieferando.de/en/menu/ristorante-davinci-berlin',\n",
       " 'https://www.lieferando.de/en/menu/burgerfabrik',\n",
       " 'https://www.lieferando.de/en/menu/creasian',\n",
       " 'https://www.lieferando.de/en/menu/yaman-grill',\n",
       " 'https://www.lieferando.de/en/menu/cancun-mitte',\n",
       " 'https://www.lieferando.de/en/menu/la-galleria-italiana',\n",
       " 'https://www.lieferando.de/en/menu/italian-food-berlin',\n",
       " 'https://www.lieferando.de/en/menu/sons-of-mana-mitte-1',\n",
       " 'https://www.lieferando.de/en/menu/mcdonalds-berlin-bahnhof-friedrichstrasse',\n",
       " 'https://www.lieferando.de/en/menu/balzac-coffee-berlin-friedrichstrasse',\n",
       " 'https://www.lieferando.de/en/menu/dj-bombay',\n",
       " 'https://www.lieferando.de/en/menu/didim-restaurant-berlin',\n",
       " 'https://www.lieferando.de/en/menu/kebab-house-berlin',\n",
       " 'https://www.lieferando.de/en/menu/mr-beef',\n",
       " 'https://www.lieferando.de/en/menu/rotes-kamel',\n",
       " 'https://www.lieferando.de/en/menu/mcdonalds-berlin-europaplatz',\n",
       " 'https://www.lieferando.de/en/menu/losteria-berlin-humboldhafen',\n",
       " 'https://www.lieferando.de/en/menu/la-santa-lucha-holzmarkt',\n",
       " 'https://www.lieferando.de/en/menu/burgers-burgers-berlin-brueckenstr',\n",
       " 'https://www.lieferando.de/en/menu/carambar',\n",
       " 'https://www.lieferando.de/en/menu/hans-im-glueck-berlin-europaplatz',\n",
       " 'https://www.lieferando.de/en/menu/dominos-pizza-wedding-stralsunder-str',\n",
       " 'https://www.lieferando.de/en/menu/subway-spandauer-strasse-berlin',\n",
       " 'https://www.lieferando.de/en/menu/kamps-backstube-berlin-hauptbahnhof',\n",
       " 'https://www.lieferando.de/en/menu/buddha-indische-spezialitaeten-berlin-1',\n",
       " 'https://www.lieferando.de/en/menu/schnitzelkoenig-greifswalder-strasse',\n",
       " 'https://www.lieferando.de/en/menu/rosenburger-berlin',\n",
       " 'https://www.lieferando.de/en/menu/food-brother-berlin-rosenthaler-strasse',\n",
       " 'https://www.lieferando.de/en/menu/guten-dag',\n",
       " 'https://www.lieferando.de/en/menu/mozzarella-bar-bottega',\n",
       " 'https://www.lieferando.de/en/menu/bamboos-hut-asiatische-kueche-sushi-bar',\n",
       " 'https://www.lieferando.de/en/menu/cafe-pirouette',\n",
       " 'https://www.lieferando.de/en/menu/quang-loi-muellerstrasse',\n",
       " 'https://www.lieferando.de/en/menu/kim999-vietnamese-vegan-veggie-cuisine',\n",
       " 'https://www.lieferando.de/en/menu/pho-vegan',\n",
       " 'https://www.lieferando.de/en/menu/eat-culture',\n",
       " 'https://www.lieferando.de/en/menu/best-friends-berlin-1',\n",
       " 'https://www.lieferando.de/en/menu/onkel-ho',\n",
       " 'https://www.lieferando.de/en/menu/der-neue-platzhirsch',\n",
       " 'https://www.lieferando.de/en/menu/han-express-korean-food-berlin-1',\n",
       " 'https://www.lieferando.de/en/menu/subway-berlin-hauptbahnhof',\n",
       " 'https://www.lieferando.de/en/menu/kfc-berlin-dircksenstrasse',\n",
       " 'https://www.lieferando.de/en/menu/noodle-plus',\n",
       " 'https://www.lieferando.de/en/menu/pizza-point-berlin-kreuzberg-1',\n",
       " 'https://www.lieferando.de/en/menu/viet-my-ii',\n",
       " 'https://www.lieferando.de/en/menu/masti-indian-food',\n",
       " 'https://www.lieferando.de/en/menu/five-guys-berlin-alexanderplatz',\n",
       " 'https://www.lieferando.de/en/menu/papaya-restaurant-luisenstrasse',\n",
       " 'https://www.lieferando.de/en/menu/miu-lunch',\n",
       " 'https://www.lieferando.de/en/menu/cat-tuong-kastanienallee',\n",
       " 'https://www.lieferando.de/en/menu/bistro-mintis',\n",
       " 'https://www.lieferando.de/en/menu/rausch-schokoladenhaus-cafe',\n",
       " 'https://www.lieferando.de/en/menu/lemon-grass-scent',\n",
       " 'https://www.lieferando.de/en/menu/royals-rice',\n",
       " 'https://www.lieferando.de/en/menu/cana-restaurant-catering-berlin-mitte',\n",
       " 'https://www.lieferando.de/en/menu/army-food',\n",
       " 'https://www.lieferando.de/en/menu/chupenga-burritos-salads',\n",
       " 'https://www.lieferando.de/en/menu/schaefers-berlin',\n",
       " 'https://www.lieferando.de/en/menu/cafe-fleury',\n",
       " 'https://www.lieferando.de/en/menu/burgerwood',\n",
       " 'https://www.lieferando.de/en/menu/little-green-rabbit-unter-den-linden',\n",
       " 'https://www.lieferando.de/en/menu/ben-jerrys-und-magnum-berlin-greifswalder-str',\n",
       " 'https://www.lieferando.de/en/menu/grindhouse-homemade-burgers-berlin',\n",
       " 'https://www.lieferando.de/en/menu/maloa-poke-bowl-berlin-oberwallstrasse',\n",
       " 'https://www.lieferando.de/en/menu/muckrakers',\n",
       " 'https://www.lieferando.de/en/menu/coco-banh-mi-deli',\n",
       " 'https://www.lieferando.de/en/menu/frittenwerk-berlin',\n",
       " 'https://www.lieferando.de/en/menu/mama-trattoria-berlin-pariser-platz',\n",
       " 'https://www.lieferando.de/en/menu/san-marco-prenzlauer-berg',\n",
       " 'https://www.lieferando.de/en/menu/koi-56',\n",
       " 'https://www.lieferando.de/en/menu/minh-san',\n",
       " 'https://www.lieferando.de/en/menu/burgermann',\n",
       " 'https://www.lieferando.de/en/menu/coucou-cafe-deli',\n",
       " 'https://www.lieferando.de/en/menu/subway-berlin-behrenstrasse',\n",
       " 'https://www.lieferando.de/en/menu/erdinger-am-gendarmenmarkt',\n",
       " 'https://www.lieferando.de/en/menu/babel-restaurant',\n",
       " 'https://www.lieferando.de/en/menu/schiller-burger-kastanienallee',\n",
       " 'https://www.lieferando.de/en/menu/cigkoftem-berlin-badstrasse',\n",
       " 'https://www.lieferando.de/en/menu/bentokado',\n",
       " 'https://www.lieferando.de/en/menu/dada-falafel',\n",
       " 'https://www.lieferando.de/en/menu/olla',\n",
       " 'https://www.lieferando.de/en/menu/arko-berlin-europaplatz',\n",
       " 'https://www.lieferando.de/en/menu/caffe-bar-italia',\n",
       " 'https://www.lieferando.de/en/menu/fatih-servet-lp12',\n",
       " 'https://www.lieferando.de/en/menu/manju-berlin-im-alexa',\n",
       " 'https://www.lieferando.de/en/menu/husseria',\n",
       " 'https://www.lieferando.de/en/menu/cavolo-nero',\n",
       " 'https://www.lieferando.de/en/menu/restaurant-aldente',\n",
       " 'https://www.lieferando.de/en/menu/hussel-berlin-schoenhauser-allee',\n",
       " 'https://www.lieferando.de/en/menu/manngo-vietnam-restaurant-berlin',\n",
       " 'https://www.lieferando.de/en/menu/gofish-berlin-spandauer-str',\n",
       " 'https://www.lieferando.de/en/menu/losteria-berlin-memhardstrasse',\n",
       " 'https://www.lieferando.de/en/menu/the-small-garden',\n",
       " 'https://www.lieferando.de/en/menu/lovely',\n",
       " 'https://www.lieferando.de/en/menu/pizza-scheune-berlin-1',\n",
       " 'https://www.lieferando.de/en/menu/chaomin-congee-restaurant',\n",
       " 'https://www.lieferando.de/en/menu/ryong',\n",
       " 'https://www.lieferando.de/en/menu/the-fiuty',\n",
       " 'https://www.lieferando.de/en/menu/yokozuna-sushi',\n",
       " 'https://www.lieferando.de/en/menu/com-viet-berlin',\n",
       " 'https://www.lieferando.de/en/menu/back-factory-berlin-friedrichstrasse',\n",
       " 'https://www.lieferando.de/en/menu/planet-wein',\n",
       " 'https://www.lieferando.de/en/menu/w-der-imbiss',\n",
       " 'https://www.lieferando.de/en/menu/pinoccio-alexanderplatz',\n",
       " 'https://www.lieferando.de/en/menu/tommis-burger-joint-berlin-invalidenstrasse',\n",
       " 'https://www.lieferando.de/en/menu/kamps-backstube-berlin-bahnhof-alexanderplatz',\n",
       " 'https://www.lieferando.de/en/menu/oriento',\n",
       " 'https://www.lieferando.de/en/menu/currywurst-express-berlin-alexanderplatz',\n",
       " 'https://www.lieferando.de/en/menu/hako-prenzlauerberg',\n",
       " 'https://www.lieferando.de/en/menu/china-city-berlin-1',\n",
       " 'https://www.lieferando.de/en/menu/falafel-sababa',\n",
       " 'https://www.lieferando.de/en/menu/doner-point-leipziger-str',\n",
       " 'https://www.lieferando.de/en/menu/basil-1',\n",
       " 'https://www.lieferando.de/en/menu/diner-67',\n",
       " 'https://www.lieferando.de/en/menu/aapka-berlin-mitte-1',\n",
       " 'https://www.lieferando.de/en/menu/cult-doener',\n",
       " 'https://www.lieferando.de/en/menu/cafe-journale',\n",
       " 'https://www.lieferando.de/en/menu/choppaluna',\n",
       " 'https://www.lieferando.de/en/menu/maloa-berlin-markgrafenstrasse',\n",
       " 'https://www.lieferando.de/en/menu/chupenga-burritos-salads-berlin',\n",
       " 'https://www.lieferando.de/en/menu/qburger',\n",
       " 'https://www.lieferando.de/en/menu/trattoria-fidelia',\n",
       " 'https://www.lieferando.de/en/menu/sushi-palace-berlin-pankow',\n",
       " 'https://www.lieferando.de/en/menu/mama-mia-ug',\n",
       " 'https://www.lieferando.de/en/menu/pizza-luna',\n",
       " 'https://www.lieferando.de/en/menu/roji-godai-no-sekai-berlin',\n",
       " 'https://www.lieferando.de/en/menu/der-everest',\n",
       " 'https://www.lieferando.de/en/menu/fedora-bubble-waffle-eismanufaktur',\n",
       " 'https://www.lieferando.de/en/menu/meena-kumari-berlin-lychener-strasse',\n",
       " 'https://www.lieferando.de/en/menu/la-burger-sushi',\n",
       " 'https://www.lieferando.de/en/menu/burger-republic',\n",
       " 'https://www.lieferando.de/en/menu/meena-kumari-restaurant',\n",
       " 'https://www.lieferando.de/en/menu/mayflower-1',\n",
       " 'https://www.lieferando.de/en/menu/manjodh',\n",
       " 'https://www.lieferando.de/en/menu/rohhaeppchen-berlin',\n",
       " 'https://www.lieferando.de/en/menu/partybrenner-wittekindstrasse',\n",
       " 'https://www.lieferando.de/en/menu/sumo-sushi',\n",
       " 'https://www.lieferando.de/en/menu/restaurant-mephisto-pizza-pasta',\n",
       " 'https://www.lieferando.de/en/menu/pizza-kiste-berlin',\n",
       " 'https://www.lieferando.de/en/menu/izakaya',\n",
       " 'https://www.lieferando.de/en/menu/restaurant-meerpur-city',\n",
       " 'https://www.lieferando.de/en/menu/neapizza-1889',\n",
       " 'https://www.lieferando.de/en/menu/sam-yuk-gu',\n",
       " 'https://www.lieferando.de/en/menu/bonsignore-rosario',\n",
       " 'https://www.lieferando.de/en/menu/obok',\n",
       " 'https://www.lieferando.de/en/menu/izakaya-watapas',\n",
       " 'https://www.lieferando.de/en/menu/sophieneck',\n",
       " 'https://www.lieferando.de/en/menu/a-cabana-1',\n",
       " 'https://www.lieferando.de/en/menu/gangnam',\n",
       " 'https://www.lieferando.de/en/menu/keyfi-sefa-by-the-meat',\n",
       " 'https://www.lieferando.de/en/menu/la-tettoia',\n",
       " 'https://www.lieferando.de/en/menu/louis-alfons-berlin',\n",
       " 'https://www.lieferando.de/en/menu/american-burger-berlin-prinzenallee',\n",
       " 'https://www.lieferando.de/en/menu/vedis-indisches-restaurant',\n",
       " 'https://www.lieferando.de/en/menu/lal-badshah',\n",
       " 'https://www.lieferando.de/en/menu/morgenland-berlin-kreuzberg',\n",
       " 'https://www.lieferando.de/en/menu/fuku-sushi',\n",
       " 'https://www.lieferando.de/en/menu/simela-finest-food-koppenplatz',\n",
       " 'https://www.lieferando.de/en/menu/ciao-ciao-berlin',\n",
       " 'https://www.lieferando.de/en/menu/indisches-pakstanisches-restaurant-asman',\n",
       " 'https://www.lieferando.de/en/menu/buona-sera',\n",
       " 'https://www.lieferando.de/en/menu/lecker-song-berlin',\n",
       " 'https://www.lieferando.de/en/menu/marina-blu',\n",
       " 'https://www.lieferando.de/en/menu/noi-due-berlin',\n",
       " 'https://www.lieferando.de/en/menu/fatefoodbag',\n",
       " 'https://www.lieferando.de/en/menu/restaurant-massai',\n",
       " 'https://www.lieferando.de/en/menu/vegano-flavors',\n",
       " 'https://www.lieferando.de/en/menu/moevenpick-hotel',\n",
       " 'https://www.lieferando.de/en/menu/asia-deli',\n",
       " 'https://www.lieferando.de/en/menu/a-magica',\n",
       " 'https://www.lieferando.de/en/menu/asman-berlin',\n",
       " 'https://www.lieferando.de/en/menu/malzcafe',\n",
       " 'https://www.lieferando.de/en/menu/restaurant-jalla-jalla',\n",
       " 'https://www.lieferando.de/en/menu/juki-korean-bbq-and-soju-bar',\n",
       " 'https://www.lieferando.de/en/menu/italofritzen',\n",
       " 'https://www.lieferando.de/en/menu/la-premiata',\n",
       " 'https://www.lieferando.de/en/menu/blackbeards-berlin',\n",
       " 'https://www.lieferando.de/en/menu/sushi-circle-berlin-rosenthaler-strasse',\n",
       " 'https://www.lieferando.de/en/menu/suriya-kanthi-der-sonnenschein',\n",
       " 'https://www.lieferando.de/en/menu/weilands-wellfood-1',\n",
       " 'https://www.lieferando.de/en/menu/hamdibaba-schoneberg',\n",
       " 'https://www.lieferando.de/en/menu/vino-e-libri-berlin',\n",
       " 'https://www.lieferando.de/en/menu/burger-king-berlin-europaplatz',\n",
       " 'https://www.lieferando.de/en/menu/pablo-coffee',\n",
       " 'https://www.lieferando.de/en/menu/casalot-restaurant',\n",
       " 'https://www.lieferando.de/en/menu/master-chi',\n",
       " 'https://www.lieferando.de/en/menu/hot-million-burger-berlin',\n",
       " 'https://www.lieferando.de/en/menu/koefte-ma',\n",
       " 'https://www.lieferando.de/en/menu/solo-pizza-berlin-1',\n",
       " 'https://www.lieferando.de/en/menu/doener-curry',\n",
       " 'https://www.lieferando.de/en/menu/cowei-berlin-berlin',\n",
       " 'https://www.lieferando.de/en/menu/sadhu-3',\n",
       " 'https://www.lieferando.de/en/menu/diazo-r',\n",
       " 'https://www.lieferando.de/en/menu/little-italy',\n",
       " 'https://www.lieferando.de/en/menu/prinz-bistro-berlin-1',\n",
       " 'https://www.lieferando.de/en/menu/suppenfreunde',\n",
       " 'https://www.lieferando.de/en/menu/aroy',\n",
       " 'https://www.lieferando.de/en/menu/spar-express-berlin-prenzl-allee',\n",
       " 'https://www.lieferando.de/en/menu/mojewa',\n",
       " 'https://www.lieferando.de/en/menu/smokey-greens',\n",
       " 'https://www.lieferando.de/en/menu/red-dragon-lieferservice-danzigerstr',\n",
       " 'https://www.lieferando.de/en/menu/bistro-oez-tadim',\n",
       " 'https://www.lieferando.de/en/menu/tasty-india-10405',\n",
       " 'https://www.lieferando.de/en/menu/happy-buddha-berlin',\n",
       " 'https://www.lieferando.de/en/menu/daluma-1',\n",
       " 'https://www.lieferando.de/en/menu/american-ice-cream',\n",
       " 'https://www.lieferando.de/en/menu/vegan-tiger-berlin',\n",
       " 'https://www.lieferando.de/en/menu/haeppies',\n",
       " 'https://www.lieferando.de/en/menu/monsieur-vuong',\n",
       " 'https://www.lieferando.de/en/menu/ninhao-china-restaurant',\n",
       " 'https://www.lieferando.de/en/menu/yildiz-goezleme-wedding',\n",
       " 'https://www.lieferando.de/en/menu/mrpfani',\n",
       " 'https://www.lieferando.de/en/menu/suite-seventeen-restaurant',\n",
       " 'https://www.lieferando.de/en/menu/aromi-e-sapori',\n",
       " 'https://www.lieferando.de/en/menu/nihombashi-weinbergsweg',\n",
       " 'https://www.lieferando.de/en/menu/marubi-rahmen',\n",
       " 'https://www.lieferando.de/en/menu/sushi-number-1',\n",
       " 'https://www.lieferando.de/en/menu/la-siesta-coffee-more',\n",
       " 'https://www.lieferando.de/en/menu/mogg',\n",
       " 'https://www.lieferando.de/en/menu/crepestation-berlin',\n",
       " 'https://www.lieferando.de/en/menu/hatoki-new-owner',\n",
       " 'https://www.lieferando.de/en/menu/corallo-berlin',\n",
       " 'https://www.lieferando.de/en/menu/co-chu-vietnam-gourmet-berlin',\n",
       " 'https://www.lieferando.de/en/menu/mr-lee-10437',\n",
       " 'https://www.lieferando.de/en/menu/com-nam',\n",
       " 'https://www.lieferando.de/en/menu/my-anh-berlin-1',\n",
       " 'https://www.lieferando.de/en/menu/raum-schwalbe',\n",
       " 'https://www.lieferando.de/en/menu/buffalo-2',\n",
       " 'https://www.lieferando.de/en/menu/nha-toi-restaurant',\n",
       " 'https://www.lieferando.de/en/menu/mex-burger-1',\n",
       " 'https://www.lieferando.de/en/menu/schust',\n",
       " 'https://www.lieferando.de/en/menu/restaurant-pasternak',\n",
       " 'https://www.lieferando.de/en/menu/goodn-vegan-im-moevenpick-hotel-berlin',\n",
       " 'https://www.lieferando.de/en/menu/restaurant-kollwitz',\n",
       " 'https://www.lieferando.de/en/menu/the-100-cafe',\n",
       " 'https://www.lieferando.de/en/menu/bangkok-bites-berlin',\n",
       " 'https://www.lieferando.de/en/menu/salar-of-india-12101',\n",
       " 'https://www.lieferando.de/en/menu/pasta-focaccia',\n",
       " 'https://www.lieferando.de/en/menu/pommes-freunde-berlin-leipziger-platz',\n",
       " 'https://www.lieferando.de/en/menu/gujrat-palace-restaurant',\n",
       " 'https://www.lieferando.de/en/menu/thai-duong-vietnamesisches-restaurant',\n",
       " 'https://www.lieferando.de/en/menu/mandi-halal',\n",
       " 'https://www.lieferando.de/en/menu/india-sweet-house',\n",
       " 'https://www.lieferando.de/en/menu/china-restaurant-hua-ting-1',\n",
       " 'https://www.lieferando.de/en/menu/balzac-coffee-berlin-schoenhauser-allee',\n",
       " 'https://www.lieferando.de/en/menu/kanaan-10437',\n",
       " 'https://www.lieferando.de/en/menu/hung-anh',\n",
       " 'https://www.lieferando.de/en/menu/gloria-empanadas',\n",
       " 'https://www.lieferando.de/en/menu/berliner-marcus-brau',\n",
       " 'https://www.lieferando.de/en/menu/khushi-indian-cuisine-berlin',\n",
       " 'https://www.lieferando.de/en/menu/tak-tak-polish-deli',\n",
       " 'https://www.lieferando.de/en/menu/burgerie-berlin-1',\n",
       " 'https://www.lieferando.de/en/menu/pizza-hut-berlin-potsdamer-platz',\n",
       " 'https://www.lieferando.de/en/menu/kumari-indian-food',\n",
       " 'https://www.lieferando.de/en/menu/holy-flat-berlin',\n",
       " 'https://www.lieferando.de/en/menu/restaurant-51',\n",
       " 'https://www.lieferando.de/en/menu/restaurant-bella-italia-berlin',\n",
       " 'https://www.lieferando.de/en/menu/buffalo-berlin-1-1',\n",
       " 'https://www.lieferando.de/en/menu/salah-imbiss',\n",
       " 'https://www.lieferando.de/en/menu/cookies-cream-1',\n",
       " 'https://www.lieferando.de/en/menu/quchnia-berlin-1',\n",
       " 'https://www.lieferando.de/en/menu/schmalzmann-delicatesserie',\n",
       " 'https://www.lieferando.de/en/menu/spar-express-berlin-lehrter-bhf',\n",
       " 'https://www.lieferando.de/en/menu/eis-auf-heiss',\n",
       " 'https://www.lieferando.de/en/menu/fellas-oesterreichische-kueche',\n",
       " 'https://www.lieferando.de/en/menu/andaluzia',\n",
       " 'https://www.lieferando.de/en/menu/joseph-berlin',\n",
       " 'https://www.lieferando.de/en/menu/dumpling-house',\n",
       " 'https://www.lieferando.de/en/menu/la-margherita-danziger-strasse',\n",
       " 'https://www.lieferando.de/en/menu/pizza-hut-berlin-leipziger-platz',\n",
       " 'https://www.lieferando.de/en/menu/jaspers-restaurant',\n",
       " 'https://www.lieferando.de/en/menu/delhi-6',\n",
       " 'https://www.lieferando.de/en/menu/ben-jerrys-und-magnum-berlin-danziger-strasse',\n",
       " 'https://www.lieferando.de/en/menu/wonder-waffel-berlin-leipziger-platz',\n",
       " 'https://www.lieferando.de/en/menu/sausalitos-berlin-oranienburger-strasse',\n",
       " 'https://www.lieferando.de/en/menu/kfc-berlin-mall-of-berlin',\n",
       " 'https://www.lieferando.de/en/menu/die-eins',\n",
       " 'https://www.lieferando.de/en/menu/flying-monkey',\n",
       " 'https://www.lieferando.de/en/menu/coreen',\n",
       " 'https://www.lieferando.de/en/menu/marone',\n",
       " 'https://www.lieferando.de/en/menu/rou-vegetarian-online',\n",
       " 'https://www.lieferando.de/en/menu/der-blaue-fuchs',\n",
       " 'https://www.lieferando.de/en/menu/bettyn-caty',\n",
       " 'https://www.lieferando.de/en/menu/il-cantuccio-i-biscotti-di-leonardo',\n",
       " 'https://www.lieferando.de/en/menu/andys-diner-bar',\n",
       " 'https://www.lieferando.de/en/menu/vino-basilico',\n",
       " 'https://www.lieferando.de/en/menu/xoi-sticky-rice',\n",
       " 'https://www.lieferando.de/en/menu/saltn-bone',\n",
       " 'https://www.lieferando.de/en/menu/cyclo-propstr',\n",
       " 'https://www.lieferando.de/en/menu/sun-day-burger',\n",
       " 'https://www.lieferando.de/en/menu/spoonful-berlin-mitte',\n",
       " 'https://www.lieferando.de/en/menu/manju-berlin-leipziger-platz',\n",
       " 'https://www.lieferando.de/en/menu/frische-quarkbaellchen',\n",
       " 'https://www.lieferando.de/en/menu/spar-express-berlin-alexanderplatz',\n",
       " 'https://www.lieferando.de/en/menu/golden-fleece',\n",
       " 'https://www.lieferando.de/en/menu/ans-tea-house',\n",
       " 'https://www.lieferando.de/en/menu/little-green-rabbit-checkpoint-charlie',\n",
       " 'https://www.lieferando.de/en/menu/little-green-rabbit-gendarmenmarkt']"
      ]
     },
     "execution_count": 165,
     "metadata": {},
     "output_type": "execute_result"
    }
   ],
   "source": [
    "import pandas as pd\n",
    "df = pd.DataFrame(restaurant_list)\n",
    "df.drop_duplicates(subset=['restaurant_url'], inplace=True)\n",
    "restaurant_urls = df[\"restaurant_url\"]\n",
    "\n",
    "list(restaurant_urls)\n",
    "for index, url in restaurant_urls:\n",
    "    print(index, url)"
   ]
  },
  {
   "cell_type": "code",
   "execution_count": null,
   "metadata": {},
   "outputs": [],
   "source": []
  },
  {
   "cell_type": "markdown",
   "metadata": {},
   "source": [
    "# Stuff that didn't work"
   ]
  },
  {
   "cell_type": "code",
   "execution_count": null,
   "metadata": {},
   "outputs": [
    {
     "data": {
      "text/plain": [
       "442"
      ]
     },
     "metadata": {},
     "output_type": "display_data"
    }
   ],
   "source": [
    "delivery_costs = soup.find_all(\"div\", class_=\"delivery-cost js-delivery-cost notranslate\")\n",
    "len(delivery_costs)"
   ]
  },
  {
   "cell_type": "code",
   "execution_count": null,
   "metadata": {},
   "outputs": [
    {
     "data": {
      "text/plain": [
       "589"
      ]
     },
     "metadata": {},
     "output_type": "display_data"
    }
   ],
   "source": [
    "delivery_times = soup.find_all(\"div\", class_=\"avgdeliverytime avgdeliverytimefull open\")\n",
    "\n",
    "restaurant_delivery_times = [item.text for item in delivery_times]\n",
    "\n",
    "len(restaurant_delivery_times) # Different because it's empty for restaurants that are closed for delivery or closed right now"
   ]
  },
  {
   "cell_type": "code",
   "execution_count": null,
   "metadata": {},
   "outputs": [
    {
     "name": "stdout",
     "output_type": "stream",
     "text": [
      "442\n"
     ]
    },
    {
     "data": {
      "text/plain": [
       "{'0,50 €',\n",
       " '0,90 €',\n",
       " '1,00 €',\n",
       " '1,50 €',\n",
       " '1,90 €',\n",
       " '1,99 €',\n",
       " '2,00 €',\n",
       " '2,50 €',\n",
       " '2,90 €',\n",
       " '2,99 €',\n",
       " '3,00 €',\n",
       " '3,90 €',\n",
       " '5,00 €'}"
      ]
     },
     "metadata": {},
     "output_type": "display_data"
    }
   ],
   "source": [
    "restaurant_delivery_cost = [item.text for item in delivery_costs]\n",
    "print(len(restaurant_delivery_cost)) \n",
    "set(restaurant_delivery_cost) # unique Delivery costs don't include \"Free\"\n",
    "\n",
    "# Excludes restaurants where delivery is free and which are closed"
   ]
  },
  {
   "cell_type": "code",
   "execution_count": null,
   "metadata": {},
   "outputs": [
    {
     "data": {
      "text/plain": [
       "<div class=\"detailswrapper\">\n",
       "<div class=\"shim skeleton__title\"></div>\n",
       "<div class=\"shim skeleton__kitchens\"></div>\n",
       "<div class=\"skeleton__details\">\n",
       "<div class=\"shim skeleton__detail\"></div>\n",
       "<div class=\"shim skeleton__detail\"></div>\n",
       "<div class=\"shim skeleton__detail\"></div>\n",
       "</div>\n",
       "</div>"
      ]
     },
     "metadata": {},
     "output_type": "display_data"
    }
   ],
   "source": [
    "restaurant_wrapper = soup.find_all(\"div\", class_=\"detailswrapper\")\n",
    "\n",
    "restaurant_wrapper[0]\n",
    "\n",
    "# This just contains skeleton code"
   ]
  }
 ],
 "metadata": {
  "interpreter": {
   "hash": "37803fb805524fdccba396a39b7f0f988aa9f20b89dae5d95057c5414e00d75e"
  },
  "kernelspec": {
   "display_name": "Python 3.8.12 64-bit ('geotracker': pyenv)",
   "language": "python",
   "name": "python3"
  },
  "language_info": {
   "codemirror_mode": {
    "name": "ipython",
    "version": 3
   },
   "file_extension": ".py",
   "mimetype": "text/x-python",
   "name": "python",
   "nbconvert_exporter": "python",
   "pygments_lexer": "ipython3",
   "version": "3.8.12"
  },
  "orig_nbformat": 4
 },
 "nbformat": 4,
 "nbformat_minor": 2
}
