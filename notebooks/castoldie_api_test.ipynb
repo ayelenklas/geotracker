{
 "cells": [
  {
   "cell_type": "raw",
   "id": "2cfac8dd",
   "metadata": {},
   "source": []
  },
  {
   "cell_type": "raw",
   "id": "5108c56e",
   "metadata": {},
   "source": [
    "import requests\n",
    "import os\n",
    "\n",
    "with open('../key.txt') as f:\n",
    "    here_api_key = f.readlines()[0]\n",
    "    \n",
    "# demo link https://places.demo.api.here.com/places/v1/discover/search\n",
    "# real api link https://places.ls.hereapi.com/places/v1/discover/search\n",
    "\n",
    "url = 'https://places.ls.hereapi.com/places/v1/discover/search'\n",
    "params = dict(\n",
    "        q=\"restaurant\",\n",
    "        size=5,\n",
    "        apiKey=here_api_key\n",
    "    )\n",
    "\n",
    "\n",
    "\n",
    "def fetch_data(url, params, headers):\n",
    "    if response.status_code != 200: \n",
    "        return response\n",
    "    else:\n",
    "        data = requests.get(url, params=params, headers=headers)\n",
    "    return data"
   ]
  },
  {
   "cell_type": "raw",
   "id": "f0fc333c",
   "metadata": {},
   "source": [
    "response = fetch_data(url, params, headers).json()\n",
    "response"
   ]
  },
  {
   "cell_type": "code",
   "execution_count": 1,
   "id": "0079ff30",
   "metadata": {},
   "outputs": [],
   "source": [
    "def find_centers(topright, bottomleft):\n",
    "    lats = []\n",
    "    lons = []\n",
    "    point = {}\n",
    "    unit = (topright[0] - bottomleft[0])/2\n",
    "    for i in range(3):\n",
    "        lats.append(bottomleft[0]+i*unit)\n",
    "        lons.append(bottomleft[1]+i*unit)\n",
    "    for e in range(3):\n",
    "        point[e] = f\"{lats[e]},{lons[e]}\"\n",
    "    point[3] = f'{lats[2]},{lons[0]}'\n",
    "    point[4] = f'{lats[0]},{lons[2]}'\n",
    "    return point"
   ]
  },
  {
   "cell_type": "code",
   "execution_count": 2,
   "id": "a7da6943",
   "metadata": {},
   "outputs": [],
   "source": [
    "BL = (52.4027, 13.2054)\n",
    "TR = (52.631, 13.598)"
   ]
  },
  {
   "cell_type": "code",
   "execution_count": 3,
   "id": "01fbb898",
   "metadata": {},
   "outputs": [
    {
     "data": {
      "text/plain": [
       "{0: '52.4027,13.2054',\n",
       " 1: '52.516850000000005,13.319549999999998',\n",
       " 2: '52.631,13.433699999999996',\n",
       " 3: '52.631,13.2054',\n",
       " 4: '52.4027,13.433699999999996'}"
      ]
     },
     "execution_count": 3,
     "metadata": {},
     "output_type": "execute_result"
    }
   ],
   "source": [
    "find_centers(TR, BL)"
   ]
  },
  {
   "cell_type": "raw",
   "id": "252459e7",
   "metadata": {},
   "source": [
    "lats = [52.6319, 52.5167, 52.4015]\n",
    "lons = [13.5871, 13.3935, 13.1999]\n",
    "point0 = f'{lats[0]},{lons[0]}'\n",
    "point1 = f'{lats[1]},{lons[1]}'\n",
    "point2 = f'{lats[2]},{lons[2]}'\n",
    "point3 = f'{lats[2]},{lons[0]}'\n",
    "point4 = f'{lats[0]},{lons[2]}'"
   ]
  },
  {
   "cell_type": "code",
   "execution_count": null,
   "id": "cc4d3e5c",
   "metadata": {},
   "outputs": [],
   "source": []
  },
  {
   "cell_type": "code",
   "execution_count": 6,
   "id": "8ba304df",
   "metadata": {},
   "outputs": [
    {
     "data": {
      "text/plain": [
       "[{'q': 'restaurant',\n",
       "  'size': 250000,\n",
       "  'apiKey': 'XGsBe8keg-nF2lOWMaR6TVphMN9umJ_2BAJe6relgOw',\n",
       "  'in': '52.4027,13.2054;r=4000'},\n",
       " {'q': 'restaurant',\n",
       "  'size': 250000,\n",
       "  'apiKey': 'XGsBe8keg-nF2lOWMaR6TVphMN9umJ_2BAJe6relgOw',\n",
       "  'in': '52.516850000000005,13.319549999999998;r=4000'},\n",
       " {'q': 'restaurant',\n",
       "  'size': 250000,\n",
       "  'apiKey': 'XGsBe8keg-nF2lOWMaR6TVphMN9umJ_2BAJe6relgOw',\n",
       "  'in': '52.631,13.433699999999996;r=4000'},\n",
       " {'q': 'restaurant',\n",
       "  'size': 250000,\n",
       "  'apiKey': 'XGsBe8keg-nF2lOWMaR6TVphMN9umJ_2BAJe6relgOw',\n",
       "  'in': '52.631,13.2054;r=4000'},\n",
       " {'q': 'restaurant',\n",
       "  'size': 250000,\n",
       "  'apiKey': 'XGsBe8keg-nF2lOWMaR6TVphMN9umJ_2BAJe6relgOw',\n",
       "  'in': '52.4027,13.433699999999996;r=4000'}]"
      ]
     },
     "execution_count": 6,
     "metadata": {},
     "output_type": "execute_result"
    }
   ],
   "source": [
    "from geotracker.utils import Utils\n",
    "\n",
    "URL = 'https://places.ls.hereapi.com/places/v1/discover/search'\n",
    "\n",
    "with open('../key.txt') as f:\n",
    "    HERE_API_KEY = f.readlines()[0]\n",
    "\n",
    "SIZE=250000\n",
    "RANGE=4000\n",
    "\n",
    "BL = (52.4027,13.2054)\n",
    "TR = (52.631,13.598)\n",
    "\n",
    "# arg[0] -> top right arg[1] -> bottom left\n",
    "point = Utils().find_centers(TR, BL)\n",
    "\n",
    "# example \"in=52.521,13.3807;r=7768\"\n",
    "PARAMS = []\n",
    "for value in point.values():\n",
    "    PARAMS.append(\n",
    "        dict(\n",
    "        q=\"restaurant\",\n",
    "        size=SIZE,\n",
    "        apiKey=HERE_API_KEY,\n",
    "        **{\"in\":f'{value};r={RANGE}'}\n",
    "        )\n",
    "    )\n",
    "PARAMS"
   ]
  },
  {
   "cell_type": "code",
   "execution_count": null,
   "id": "76aacfbd",
   "metadata": {},
   "outputs": [],
   "source": []
  }
 ],
 "metadata": {
  "kernelspec": {
   "display_name": "Python 3 (ipykernel)",
   "language": "python",
   "name": "python3"
  },
  "language_info": {
   "codemirror_mode": {
    "name": "ipython",
    "version": 3
   },
   "file_extension": ".py",
   "mimetype": "text/x-python",
   "name": "python",
   "nbconvert_exporter": "python",
   "pygments_lexer": "ipython3",
   "version": "3.8.12"
  },
  "toc": {
   "base_numbering": 1,
   "nav_menu": {},
   "number_sections": true,
   "sideBar": true,
   "skip_h1_title": false,
   "title_cell": "Table of Contents",
   "title_sidebar": "Contents",
   "toc_cell": false,
   "toc_position": {},
   "toc_section_display": true,
   "toc_window_display": false
  }
 },
 "nbformat": 4,
 "nbformat_minor": 5
}
