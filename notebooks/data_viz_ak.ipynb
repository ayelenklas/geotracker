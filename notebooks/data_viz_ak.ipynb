{
 "cells": [
  {
   "cell_type": "code",
   "execution_count": 67,
   "metadata": {},
   "outputs": [],
   "source": [
    "# data wrangling\n",
    "import pandas as pd\n",
    "import numpy as np\n",
    "\n",
    "# data sourcing\n",
    "import requests\n",
    "\n",
    "# data visualization\n",
    "import matplotlib.pyplot as plt\n",
    "# import seaborn as sns\n",
    "\n",
    "#streamlit\n",
    "import streamlit as st\n",
    "\n",
    "#other\n",
    "import math\n"
   ]
  },
  {
   "cell_type": "code",
   "execution_count": 68,
   "metadata": {},
   "outputs": [],
   "source": [
    "all_data = pd.read_csv(\"../geotracker/data/all_data.csv\").iloc[:, 1:]"
   ]
  },
  {
   "cell_type": "markdown",
   "metadata": {},
   "source": [
    "# KPIs"
   ]
  },
  {
   "cell_type": "markdown",
   "metadata": {},
   "source": [
    "### Specific location coded as zip code"
   ]
  },
  {
   "cell_type": "code",
   "execution_count": 69,
   "metadata": {},
   "outputs": [],
   "source": [
    "# range in km\n",
    "range = 1\n",
    "address_searched = \"sredzkistrasse 43, 10435, Berlin\"\n",
    "\n",
    "# from address to latlon converter\n",
    "def geocode(address):\n",
    "    params = {\"q\": address, \"format\": \"json\"}\n",
    "    places = requests.get(f\"https://nominatim.openstreetmap.org/search\",\n",
    "                          params=params).json()\n",
    "    return [places[0]['lat'], places[0]['lon']]\n",
    "\n",
    "# lat lon from address searched\n",
    "lat = float(geocode(address_searched)[0])\n",
    "lon = float(geocode(address_searched)[1])\n",
    "\n",
    "# radius limits - converting kms into coordinates and calculating boundaries\n",
    "distance_lat_degrees = (1/110.574) * range\n",
    "distance_lon_degrees = abs((1/(111.320 * math.cos(lat))) * range)\n",
    "\n",
    "min_lat = lat - distance_lat_degrees/2\n",
    "max_lat = lat + distance_lat_degrees/2\n",
    "min_lon = lon - distance_lon_degrees/2\n",
    "max_lon = lon + distance_lon_degrees/2\n",
    "\n",
    "search_limits = (all_data.latitude >= min_lat) & (all_data.latitude <= max_lat) & (all_data.longitude >= min_lon) & (all_data.longitude <= max_lon)\n"
   ]
  },
  {
   "cell_type": "markdown",
   "metadata": {},
   "source": [
    "## 1. Number of restaurants by location"
   ]
  },
  {
   "cell_type": "markdown",
   "metadata": {},
   "source": [
    "### a. Wolt"
   ]
  },
  {
   "cell_type": "code",
   "execution_count": 70,
   "metadata": {},
   "outputs": [
    {
     "data": {
      "text/plain": [
       "19"
      ]
     },
     "execution_count": 70,
     "metadata": {},
     "output_type": "execute_result"
    }
   ],
   "source": [
    "num_restos_wolt = all_data[(all_data.database == \"wolt\") & search_limits & (\n",
    "    all_data.street != \"This is a virtual venue\")].shape[0]\n",
    "\n",
    "num_restos_wolt"
   ]
  },
  {
   "cell_type": "markdown",
   "metadata": {},
   "source": [
    "### b. Lieferando "
   ]
  },
  {
   "cell_type": "code",
   "execution_count": 71,
   "metadata": {},
   "outputs": [],
   "source": [
    "num_restos_lieferando = all_data[(all_data.database == \"lieferando\")\n",
    "                                 & search_limits].shape[0]\n"
   ]
  },
  {
   "cell_type": "markdown",
   "metadata": {},
   "source": [
    "### c. All Restaurants"
   ]
  },
  {
   "cell_type": "code",
   "execution_count": 72,
   "metadata": {},
   "outputs": [],
   "source": [
    "num_restos_maps = all_data[(all_data.database == \"here_maps\")\n",
    "                           & search_limits].shape[0]\n",
    "\n",
    "# fixing num of restos for maps: there can't be more restos in a delivery platform than in the maps\n",
    "num_restos_maps = max(num_restos_wolt, num_restos_lieferando, num_restos_maps)\n"
   ]
  },
  {
   "cell_type": "code",
   "execution_count": 73,
   "metadata": {},
   "outputs": [
    {
     "data": {
      "text/plain": [
       "(19, 80, 80)"
      ]
     },
     "execution_count": 73,
     "metadata": {},
     "output_type": "execute_result"
    }
   ],
   "source": [
    "num_restos_wolt, num_restos_lieferando, num_restos_maps"
   ]
  },
  {
   "cell_type": "markdown",
   "metadata": {},
   "source": [
    "## 2. Breakdown by Type of Cuisine"
   ]
  },
  {
   "cell_type": "code",
   "execution_count": 74,
   "metadata": {},
   "outputs": [],
   "source": [
    "cmap = \"tab20c\"\n",
    "hex_colors = [\"#3182bd\",\"#fd8d3c\", \"#a1d99b\",\"#dadaeb\", \"#d9d9d9\"]\n",
    "autopct = lambda p: '{:.1f}%'.format(round(p)) if p > 0 else ''\n",
    "fontsize = 10"
   ]
  },
  {
   "cell_type": "markdown",
   "metadata": {},
   "source": [
    "### a. Wolt"
   ]
  },
  {
   "cell_type": "code",
   "execution_count": 75,
   "metadata": {},
   "outputs": [
    {
     "data": {
      "image/png": "[encoded data removed]",
      "text/plain": [
       "<Figure size 432x288 with 1 Axes>"
      ]
     },
     "metadata": {},
     "output_type": "display_data"
    }
   ],
   "source": [
    "# select from df\n",
    "cuisine_wolt = all_data[(all_data.database == \"wolt\")\n",
    "                        & search_limits].groupby(\n",
    "                            by=\"type_of_cuisine\").count()[[\n",
    "                                \"restaurant_name\"\n",
    "                            ]].sort_values(by=\"restaurant_name\",\n",
    "                                           ascending=False)\n",
    "\n",
    "# top n\n",
    "n = 8\n",
    "cuisine_wolt_top10 = cuisine_wolt[:n].copy()\n",
    "\n",
    "# others\n",
    "others_wolt = pd.DataFrame(\n",
    "    data={'type_of_cuisine': ['others'],\n",
    "        'value': [cuisine_wolt['restaurant_name'][n:].sum()]})\n",
    "\n",
    "# combining data\n",
    "cuisine_bkdwn_wolt = pd.concat([cuisine_wolt_top10,\n",
    "                                others_wolt])[\"restaurant_name\"]\n",
    "\n",
    "# Pie chart, where the slices will be ordered and plotted counter-clockwise:\n",
    "labels = cuisine_bkdwn_wolt.index\n",
    "sizes = cuisine_bkdwn_wolt\n",
    "cuisine_bkdwn_wolt.plot(kind='pie',\n",
    "                        autopct=autopct,\n",
    "                        cmap=cmap,\n",
    "                        fontsize=fontsize)\n",
    "plt.title(\"Wolt - Breakdown by type of cuisine\", fontsize=15)\n",
    "plt.ylabel(\" \");\n",
    "plt.xlabel(\" \");\n"
   ]
  },
  {
   "cell_type": "markdown",
   "metadata": {},
   "source": [
    "### b. Lieferando\n"
   ]
  },
  {
   "cell_type": "code",
   "execution_count": 76,
   "metadata": {},
   "outputs": [
    {
     "data": {
      "image/png": "[encoded data removed]",
      "text/plain": [
       "<Figure size 432x288 with 1 Axes>"
      ]
     },
     "metadata": {},
     "output_type": "display_data"
    }
   ],
   "source": [
    "# select from df\n",
    "cuisine_wolt = all_data[(all_data.database == \"lieferando\")\n",
    "                        & search_limits].groupby(\n",
    "                            by=\"type_of_cuisine\").count()[[\n",
    "                                \"restaurant_name\"\n",
    "                            ]].sort_values(by=\"restaurant_name\",\n",
    "                                           ascending=False)\n",
    "\n",
    "# top n\n",
    "n = 7\n",
    "cuisine_wolt_top10 = cuisine_wolt[:n].copy()\n",
    "\n",
    "# others\n",
    "others_wolt = pd.DataFrame(\n",
    "    data={\n",
    "        'type_of_cuisine': ['others'],\n",
    "        'value': [cuisine_wolt['restaurant_name'][n:].sum()]\n",
    "    })\n",
    "\n",
    "# combining data\n",
    "cuisine_bkdwn_wolt = pd.concat([cuisine_wolt_top10,\n",
    "                                others_wolt])[\"restaurant_name\"]\n",
    "\n",
    "# Pie chart, where the slices will be ordered and plotted counter-clockwise:\n",
    "labels = cuisine_bkdwn_wolt.index\n",
    "sizes = cuisine_bkdwn_wolt\n",
    "cuisine_bkdwn_wolt.plot(kind='pie',\n",
    "                        autopct=autopct,\n",
    "                        cmap=cmap,\n",
    "                        fontsize=fontsize)\n",
    "plt.title(\"Lieferando - Breakdown by type of cuisine\", fontsize=15)\n",
    "plt.ylabel(\" \");\n",
    "plt.xlabel(\" \");\n"
   ]
  },
  {
   "cell_type": "markdown",
   "metadata": {},
   "source": [
    "### c. All Restaurants"
   ]
  },
  {
   "cell_type": "code",
   "execution_count": 77,
   "metadata": {},
   "outputs": [
    {
     "data": {
      "image/png": "[encoded data removed]",
      "text/plain": [
       "<Figure size 432x288 with 1 Axes>"
      ]
     },
     "metadata": {},
     "output_type": "display_data"
    }
   ],
   "source": [
    "# select from df\n",
    "cuisine_wolt = all_data[(all_data.database == \"here_maps\")\n",
    "                        & search_limits].groupby(\n",
    "                            by=\"type_of_cuisine\").count()[[\n",
    "                                \"restaurant_name\"\n",
    "                            ]].sort_values(by=\"restaurant_name\",\n",
    "                                           ascending=False)\n",
    "\n",
    "# top n\n",
    "n = 7\n",
    "cuisine_wolt_top10 = cuisine_wolt[:n].copy()\n",
    "\n",
    "# others\n",
    "others_wolt = pd.DataFrame(\n",
    "    data={\n",
    "        'type_of_cuisine': ['others'],\n",
    "        'value': [cuisine_wolt['restaurant_name'][n:].sum()]\n",
    "    })\n",
    "\n",
    "# combining data\n",
    "cuisine_bkdwn_wolt = pd.concat([cuisine_wolt_top10,\n",
    "                                others_wolt])[\"restaurant_name\"]\n",
    "\n",
    "# Pie chart, where the slices will be ordered and plotted counter-clockwise:\n",
    "labels = cuisine_bkdwn_wolt.index\n",
    "sizes = cuisine_bkdwn_wolt\n",
    "cuisine_bkdwn_wolt.plot(kind='pie',\n",
    "                        autopct=autopct,\n",
    "                        cmap=cmap,\n",
    "                        fontsize=fontsize)\n",
    "plt.title(\"All Restaurants - Breakdown by type of cuisine\", fontsize=15)\n",
    "plt.ylabel(\" \");\n",
    "plt.xlabel(\" \");\n"
   ]
  },
  {
   "cell_type": "markdown",
   "metadata": {},
   "source": [
    "## 3. Breakdown by restaurant quality (avg_review_score)"
   ]
  },
  {
   "cell_type": "code",
   "execution_count": 78,
   "metadata": {},
   "outputs": [],
   "source": [
    "good_restos_rankingbase = 7.5\n",
    "regular_restos_rankingbase = 5"
   ]
  },
  {
   "cell_type": "markdown",
   "metadata": {},
   "source": [
    "### a. Wolt"
   ]
  },
  {
   "cell_type": "code",
   "execution_count": 79,
   "metadata": {},
   "outputs": [
    {
     "data": {
      "image/png": "[encoded data removed]",
      "text/plain": [
       "<Figure size 432x288 with 1 Axes>"
      ]
     },
     "metadata": {},
     "output_type": "display_data"
    }
   ],
   "source": [
    "# select from df\n",
    "good_restos_wolt = all_data[\n",
    "    (all_data.database == \"wolt\")\n",
    "    & search_limits & (all_data.avg_review_score >=\n",
    "                       good_restos_rankingbase)].count()[\"restaurant_name\"]\n",
    "\n",
    "\n",
    "regular_restos_wolt = all_data[\n",
    "    (all_data.database == \"wolt\")\n",
    "    & search_limits & (all_data.avg_review_score >= regular_restos_rankingbase)\n",
    "    & (all_data.avg_review_score <\n",
    "       good_restos_rankingbase)].count()[\"restaurant_name\"]\n",
    "\n",
    "bad_restos_wolt = all_data[\n",
    "    (all_data.database == \"wolt\")\n",
    "    & search_limits & (all_data.avg_review_score <\n",
    "                       regular_restos_rankingbase)].count()[\"restaurant_name\"]\n",
    "\n",
    "# Pie chart, where the slices will be ordered and plotted counter-clockwise, only for categories >0\n",
    "info = [(\"good\", good_restos_wolt), (\"regular\", regular_restos_wolt),\n",
    "        (\"bad\", bad_restos_wolt)]\n",
    "\n",
    "labels = [x[0] for x in info if x[1]>0]\n",
    "sizes = [x[1] for x in info if x[1] > 0]\n",
    "\n",
    "\n",
    "fig1, ax1 = plt.subplots()\n",
    "ax1.pie(sizes,\n",
    "        autopct=autopct,\n",
    "        labels=labels,\n",
    "        colors=[\"#64bb63\", \"#5a9dcd\", \"#ec772f\"])\n",
    "plt.title(\"Wolt - Breakdown by restaurant quality\" , fontsize=15);\n",
    "plt.ylabel(\" \");\n",
    "# plt.legend(labels)\n",
    "plt.xlabel(\" \");\n"
   ]
  },
  {
   "cell_type": "markdown",
   "metadata": {},
   "source": [
    "### b. Lieferando"
   ]
  },
  {
   "cell_type": "code",
   "execution_count": 80,
   "metadata": {},
   "outputs": [
    {
     "data": {
      "image/png": "[encoded data removed]",
      "text/plain": [
       "<Figure size 432x288 with 1 Axes>"
      ]
     },
     "metadata": {},
     "output_type": "display_data"
    }
   ],
   "source": [
    "# select from df\n",
    "good_restos_liefe = all_data[\n",
    "    (all_data.database == \"lieferando\")\n",
    "    & search_limits & (all_data.avg_review_score >=\n",
    "                       good_restos_rankingbase)].count()[\"restaurant_name\"]\n",
    "\n",
    "regular_restos_liefe = all_data[\n",
    "    (all_data.database == \"lieferando\")\n",
    "    & search_limits & (all_data.avg_review_score >= regular_restos_rankingbase)\n",
    "    & (all_data.avg_review_score <\n",
    "       good_restos_rankingbase)].count()[\"restaurant_name\"]\n",
    "\n",
    "bad_restos_liefe = all_data[\n",
    "    (all_data.database == \"lieferando\")\n",
    "    & search_limits & (all_data.avg_review_score <\n",
    "                       regular_restos_rankingbase)].count()[\"restaurant_name\"]\n",
    "\n",
    "\n",
    "# Pie chart, where the slices will be ordered and plotted counter-clockwise, only for categories >0\n",
    "info = [(\"good\", good_restos_liefe), (\"regular\", regular_restos_liefe),\n",
    "        (\"bad\", bad_restos_liefe)]\n",
    "\n",
    "labels = [x[0] for x in info if x[1] > 0]\n",
    "sizes = [x[1] for x in info if x[1] > 0]\n",
    "\n",
    "fig1, ax1 = plt.subplots()\n",
    "ax1.pie(sizes,\n",
    "        autopct=autopct,\n",
    "        labels=labels,\n",
    "        colors=[\"#64bb63\",\"#5a9dcd\", \"#ec772f\"]\n",
    "        );\n",
    "plt.title(\"Lieferando - Breakdown by restaurant quality\", fontsize=15)\n",
    "plt.ylabel(\" \");\n",
    "# plt.legend(labels);\n",
    "plt.xlabel(\" \");\n"
   ]
  },
  {
   "cell_type": "markdown",
   "metadata": {},
   "source": [
    "### c. All Restaurants"
   ]
  },
  {
   "cell_type": "markdown",
   "metadata": {},
   "source": [
    "N.a.\n"
   ]
  },
  {
   "cell_type": "markdown",
   "metadata": {},
   "source": [
    "# 4. Top 10 ranked categories"
   ]
  },
  {
   "cell_type": "code",
   "execution_count": 81,
   "metadata": {},
   "outputs": [
    {
     "data": {
      "image/png": "[encoded data removed]",
      "text/plain": [
       "<Figure size 432x288 with 1 Axes>"
      ]
     },
     "metadata": {
      "needs_background": "light"
     },
     "output_type": "display_data"
    }
   ],
   "source": [
    "top_n = 10\n",
    "top10cats_wolt = all_data[(all_data.database == \"wolt\")\n",
    "                          & search_limits].groupby(\n",
    "                              by=[\"type_of_cuisine\"\n",
    "                                  ]).mean()[\"avg_review_score\"].sort_values(\n",
    "                                      ascending=True)[-top_n:]\n",
    "top10cats_wolt = top10cats_wolt.reset_index()\n",
    "\n",
    "# creating plot\n",
    "fig, ax = plt.subplots()\n",
    "\n",
    "labels = top10cats_wolt.avg_review_score.tolist()\n",
    "figure = ax.barh(top10cats_wolt.type_of_cuisine.tolist(),\n",
    "        labels,\n",
    "        # xerr=error,\n",
    "        align='center', color = hex_colors);\n",
    "\n",
    "ax.bar_label(figure, fmt='%.2f', fontsize=12, fontweight='bold')\n",
    "ax.set_xlim(right=10);\n",
    "plt.title(\"Wolt - Top 10 ranked categories\", fontsize=15);\n",
    "ax.spines['top'].set_visible(False);\n",
    "ax.spines['right'].set_visible(False);\n"
   ]
  },
  {
   "cell_type": "markdown",
   "metadata": {},
   "source": [
    "### b. Lieferando"
   ]
  },
  {
   "cell_type": "code",
   "execution_count": 82,
   "metadata": {},
   "outputs": [
    {
     "data": {
      "text/html": [
       "<div>\n",
       "<style scoped>\n",
       "    .dataframe tbody tr th:only-of-type {\n",
       "        vertical-align: middle;\n",
       "    }\n",
       "\n",
       "    .dataframe tbody tr th {\n",
       "        vertical-align: top;\n",
       "    }\n",
       "\n",
       "    .dataframe thead th {\n",
       "        text-align: right;\n",
       "    }\n",
       "</style>\n",
       "<table border=\"1\" class=\"dataframe\">\n",
       "  <thead>\n",
       "    <tr style=\"text-align: right;\">\n",
       "      <th></th>\n",
       "      <th>type_of_cuisine</th>\n",
       "      <th>avg_review_score</th>\n",
       "    </tr>\n",
       "  </thead>\n",
       "  <tbody>\n",
       "    <tr>\n",
       "      <th>0</th>\n",
       "      <td>breakfast/dessert</td>\n",
       "      <td>7.700000</td>\n",
       "    </tr>\n",
       "    <tr>\n",
       "      <th>1</th>\n",
       "      <td>american</td>\n",
       "      <td>7.875000</td>\n",
       "    </tr>\n",
       "    <tr>\n",
       "      <th>2</th>\n",
       "      <td>middle eastern</td>\n",
       "      <td>7.960000</td>\n",
       "    </tr>\n",
       "    <tr>\n",
       "      <th>3</th>\n",
       "      <td>vegetarian or vegan</td>\n",
       "      <td>8.471429</td>\n",
       "    </tr>\n",
       "    <tr>\n",
       "      <th>4</th>\n",
       "      <td>asian</td>\n",
       "      <td>8.472727</td>\n",
       "    </tr>\n",
       "    <tr>\n",
       "      <th>5</th>\n",
       "      <td>indian</td>\n",
       "      <td>8.500000</td>\n",
       "    </tr>\n",
       "    <tr>\n",
       "      <th>6</th>\n",
       "      <td>cafes</td>\n",
       "      <td>8.700000</td>\n",
       "    </tr>\n",
       "    <tr>\n",
       "      <th>7</th>\n",
       "      <td>healthy</td>\n",
       "      <td>8.700000</td>\n",
       "    </tr>\n",
       "    <tr>\n",
       "      <th>8</th>\n",
       "      <td>fastfood</td>\n",
       "      <td>9.200000</td>\n",
       "    </tr>\n",
       "    <tr>\n",
       "      <th>9</th>\n",
       "      <td>south american</td>\n",
       "      <td>9.400000</td>\n",
       "    </tr>\n",
       "  </tbody>\n",
       "</table>\n",
       "</div>"
      ],
      "text/plain": [
       "       type_of_cuisine  avg_review_score\n",
       "0    breakfast/dessert          7.700000\n",
       "1             american          7.875000\n",
       "2       middle eastern          7.960000\n",
       "3  vegetarian or vegan          8.471429\n",
       "4                asian          8.472727\n",
       "5               indian          8.500000\n",
       "6                cafes          8.700000\n",
       "7              healthy          8.700000\n",
       "8             fastfood          9.200000\n",
       "9       south american          9.400000"
      ]
     },
     "execution_count": 82,
     "metadata": {},
     "output_type": "execute_result"
    }
   ],
   "source": [
    "top10cats_liefe = all_data[(all_data.database == \"lieferando\")\n",
    "                           & search_limits].groupby(\n",
    "                               by=[\"type_of_cuisine\"\n",
    "                                   ]).mean()[\"avg_review_score\"].sort_values(\n",
    "                                       ascending=True)[-top_n:]\n",
    "top10cats_liefe = top10cats_liefe.reset_index()\n",
    "top10cats_liefe\n"
   ]
  },
  {
   "cell_type": "code",
   "execution_count": 83,
   "metadata": {},
   "outputs": [
    {
     "data": {
      "image/png": "[encoded data removed]",
      "text/plain": [
       "<Figure size 432x288 with 1 Axes>"
      ]
     },
     "metadata": {
      "needs_background": "light"
     },
     "output_type": "display_data"
    }
   ],
   "source": [
    "# creating plot\n",
    "fig, ax = plt.subplots()\n",
    "\n",
    "labels = top10cats_liefe.avg_review_score.tolist()\n",
    "figure = ax.barh(\n",
    "    top10cats_liefe.type_of_cuisine.tolist(),\n",
    "    labels,\n",
    "    align='center',\n",
    "    color=hex_colors)\n",
    "\n",
    "ax.bar_label(figure, fmt='%.2f', fontsize=12, fontweight='bold')\n",
    "ax.set_xlim(right=10)\n",
    "plt.title(\"Lieferando - Top 10 ranked categories\", fontsize=15)\n",
    "ax.spines['top'].set_visible(False)\n",
    "ax.spines['right'].set_visible(False)"
   ]
  },
  {
   "cell_type": "markdown",
   "metadata": {},
   "source": [
    "### c. All Restaurants"
   ]
  },
  {
   "cell_type": "markdown",
   "metadata": {},
   "source": [
    "n.a."
   ]
  },
  {
   "cell_type": "markdown",
   "metadata": {},
   "source": [
    "# 5. Breakdown by budget-type restaurants"
   ]
  },
  {
   "cell_type": "code",
   "execution_count": 84,
   "metadata": {},
   "outputs": [
    {
     "data": {
      "text/html": [
       "<div>\n",
       "<style scoped>\n",
       "    .dataframe tbody tr th:only-of-type {\n",
       "        vertical-align: middle;\n",
       "    }\n",
       "\n",
       "    .dataframe tbody tr th {\n",
       "        vertical-align: top;\n",
       "    }\n",
       "\n",
       "    .dataframe thead th {\n",
       "        text-align: right;\n",
       "    }\n",
       "</style>\n",
       "<table border=\"1\" class=\"dataframe\">\n",
       "  <thead>\n",
       "    <tr style=\"text-align: right;\">\n",
       "      <th></th>\n",
       "      <th>restaurant_name</th>\n",
       "      <th>avg_review_score</th>\n",
       "      <th>reviews</th>\n",
       "      <th>pricyness</th>\n",
       "      <th>type_of_cuisine</th>\n",
       "      <th>address</th>\n",
       "      <th>street</th>\n",
       "      <th>zip_code</th>\n",
       "      <th>city_name</th>\n",
       "      <th>coordinates</th>\n",
       "      <th>latitude</th>\n",
       "      <th>longitude</th>\n",
       "      <th>database</th>\n",
       "      <th>opening_hours</th>\n",
       "    </tr>\n",
       "  </thead>\n",
       "  <tbody>\n",
       "    <tr>\n",
       "      <th>468</th>\n",
       "      <td>Bring Bakery</td>\n",
       "      <td>8.0</td>\n",
       "      <td>18.0</td>\n",
       "      <td>0.000000</td>\n",
       "      <td>breakfast/dessert</td>\n",
       "      <td>Beusselstraße 31, 10115.0, Berlin</td>\n",
       "      <td>Beusselstraße 31</td>\n",
       "      <td>10115.0</td>\n",
       "      <td>Berlin</td>\n",
       "      <td>52.5303002,13.3288544</td>\n",
       "      <td>52.530300</td>\n",
       "      <td>13.328854</td>\n",
       "      <td>lieferando</td>\n",
       "      <td>NaN</td>\n",
       "    </tr>\n",
       "    <tr>\n",
       "      <th>469</th>\n",
       "      <td>Sushi Yana</td>\n",
       "      <td>7.4</td>\n",
       "      <td>3727.0</td>\n",
       "      <td>0.870657</td>\n",
       "      <td>asian</td>\n",
       "      <td>Waldstraße 1, 10115.0, Berlin</td>\n",
       "      <td>Waldstraße 1</td>\n",
       "      <td>10115.0</td>\n",
       "      <td>Berlin</td>\n",
       "      <td>52.5274316,13.3309139</td>\n",
       "      <td>52.527432</td>\n",
       "      <td>13.330914</td>\n",
       "      <td>lieferando</td>\n",
       "      <td>NaN</td>\n",
       "    </tr>\n",
       "    <tr>\n",
       "      <th>470</th>\n",
       "      <td>Funa Sushi</td>\n",
       "      <td>9.2</td>\n",
       "      <td>8288.0</td>\n",
       "      <td>1.065232</td>\n",
       "      <td>asian</td>\n",
       "      <td>Alt-Moabit 73a, 10115.0, Berlin</td>\n",
       "      <td>Alt-Moabit 73a</td>\n",
       "      <td>10115.0</td>\n",
       "      <td>Berlin</td>\n",
       "      <td>52.52414,13.33285</td>\n",
       "      <td>52.524140</td>\n",
       "      <td>13.332850</td>\n",
       "      <td>lieferando</td>\n",
       "      <td>NaN</td>\n",
       "    </tr>\n",
       "    <tr>\n",
       "      <th>471</th>\n",
       "      <td>Ossaka Sushi</td>\n",
       "      <td>8.8</td>\n",
       "      <td>5713.0</td>\n",
       "      <td>1.056265</td>\n",
       "      <td>asian</td>\n",
       "      <td>Beusselstraße 72, 10115.0, Berlin</td>\n",
       "      <td>Beusselstraße 72</td>\n",
       "      <td>10115.0</td>\n",
       "      <td>Berlin</td>\n",
       "      <td>52.5282318,13.3283754</td>\n",
       "      <td>52.528232</td>\n",
       "      <td>13.328375</td>\n",
       "      <td>lieferando</td>\n",
       "      <td>NaN</td>\n",
       "    </tr>\n",
       "    <tr>\n",
       "      <th>472</th>\n",
       "      <td>Chainone</td>\n",
       "      <td>8.4</td>\n",
       "      <td>82.0</td>\n",
       "      <td>0.000000</td>\n",
       "      <td>italian</td>\n",
       "      <td>Gotzkowskystraße 24, 10115.0, Berlin</td>\n",
       "      <td>Gotzkowskystraße 24</td>\n",
       "      <td>10115.0</td>\n",
       "      <td>Berlin</td>\n",
       "      <td>52.5244728,13.330153</td>\n",
       "      <td>52.524473</td>\n",
       "      <td>13.330153</td>\n",
       "      <td>lieferando</td>\n",
       "      <td>NaN</td>\n",
       "    </tr>\n",
       "    <tr>\n",
       "      <th>...</th>\n",
       "      <td>...</td>\n",
       "      <td>...</td>\n",
       "      <td>...</td>\n",
       "      <td>...</td>\n",
       "      <td>...</td>\n",
       "      <td>...</td>\n",
       "      <td>...</td>\n",
       "      <td>...</td>\n",
       "      <td>...</td>\n",
       "      <td>...</td>\n",
       "      <td>...</td>\n",
       "      <td>...</td>\n",
       "      <td>...</td>\n",
       "      <td>...</td>\n",
       "    </tr>\n",
       "    <tr>\n",
       "      <th>3793</th>\n",
       "      <td>McDonald's®</td>\n",
       "      <td>9.2</td>\n",
       "      <td>506.0</td>\n",
       "      <td>0.000000</td>\n",
       "      <td>american</td>\n",
       "      <td>Potsdamer Straße 2, 14165.0, Teltow</td>\n",
       "      <td>Potsdamer Straße 2</td>\n",
       "      <td>14165.0</td>\n",
       "      <td>Teltow</td>\n",
       "      <td>52.3949025,13.2379828</td>\n",
       "      <td>52.394903</td>\n",
       "      <td>13.237983</td>\n",
       "      <td>lieferando</td>\n",
       "      <td>NaN</td>\n",
       "    </tr>\n",
       "    <tr>\n",
       "      <th>3794</th>\n",
       "      <td>Domino's Pizza</td>\n",
       "      <td>9.2</td>\n",
       "      <td>524.0</td>\n",
       "      <td>0.898453</td>\n",
       "      <td>italian</td>\n",
       "      <td>Potsdamer Straße 53, 14165.0, Teltow</td>\n",
       "      <td>Potsdamer Straße 53</td>\n",
       "      <td>14165.0</td>\n",
       "      <td>Teltow</td>\n",
       "      <td>52.4016624,13.2594647</td>\n",
       "      <td>52.401662</td>\n",
       "      <td>13.259465</td>\n",
       "      <td>lieferando</td>\n",
       "      <td>NaN</td>\n",
       "    </tr>\n",
       "    <tr>\n",
       "      <th>3795</th>\n",
       "      <td>Le Asia</td>\n",
       "      <td>8.6</td>\n",
       "      <td>951.0</td>\n",
       "      <td>0.734364</td>\n",
       "      <td>asian</td>\n",
       "      <td>Potsdamer Straße 61, 14165.0, Teltow</td>\n",
       "      <td>Potsdamer Straße 61</td>\n",
       "      <td>14165.0</td>\n",
       "      <td>Teltow</td>\n",
       "      <td>52.4013361,13.2605517</td>\n",
       "      <td>52.401336</td>\n",
       "      <td>13.260552</td>\n",
       "      <td>lieferando</td>\n",
       "      <td>NaN</td>\n",
       "    </tr>\n",
       "    <tr>\n",
       "      <th>3796</th>\n",
       "      <td>burgerme</td>\n",
       "      <td>8.6</td>\n",
       "      <td>84.0</td>\n",
       "      <td>0.000000</td>\n",
       "      <td>american</td>\n",
       "      <td>Bäckerstraße 4, 14165.0, Teltow</td>\n",
       "      <td>Bäckerstraße 4</td>\n",
       "      <td>14165.0</td>\n",
       "      <td>Teltow</td>\n",
       "      <td>52.40144,13.2633133</td>\n",
       "      <td>52.401440</td>\n",
       "      <td>13.263313</td>\n",
       "      <td>lieferando</td>\n",
       "      <td>NaN</td>\n",
       "    </tr>\n",
       "    <tr>\n",
       "      <th>3797</th>\n",
       "      <td>Osteria Ballerino</td>\n",
       "      <td>9.0</td>\n",
       "      <td>225.0</td>\n",
       "      <td>0.911903</td>\n",
       "      <td>italian</td>\n",
       "      <td>Ruhlsdorfer Strasse 14-16, 14165.0, Stahnsdorf</td>\n",
       "      <td>Ruhlsdorfer Strasse 14-16</td>\n",
       "      <td>14165.0</td>\n",
       "      <td>Stahnsdorf</td>\n",
       "      <td>52.3911,13.22569</td>\n",
       "      <td>52.391100</td>\n",
       "      <td>13.225690</td>\n",
       "      <td>lieferando</td>\n",
       "      <td>NaN</td>\n",
       "    </tr>\n",
       "  </tbody>\n",
       "</table>\n",
       "<p>3330 rows × 14 columns</p>\n",
       "</div>"
      ],
      "text/plain": [
       "        restaurant_name  avg_review_score  reviews  pricyness  \\\n",
       "468        Bring Bakery               8.0     18.0   0.000000   \n",
       "469          Sushi Yana               7.4   3727.0   0.870657   \n",
       "470          Funa Sushi               9.2   8288.0   1.065232   \n",
       "471        Ossaka Sushi               8.8   5713.0   1.056265   \n",
       "472            Chainone               8.4     82.0   0.000000   \n",
       "...                 ...               ...      ...        ...   \n",
       "3793        McDonald's®               9.2    506.0   0.000000   \n",
       "3794     Domino's Pizza               9.2    524.0   0.898453   \n",
       "3795            Le Asia               8.6    951.0   0.734364   \n",
       "3796           burgerme               8.6     84.0   0.000000   \n",
       "3797  Osteria Ballerino               9.0    225.0   0.911903   \n",
       "\n",
       "        type_of_cuisine                                         address  \\\n",
       "468   breakfast/dessert               Beusselstraße 31, 10115.0, Berlin   \n",
       "469               asian                   Waldstraße 1, 10115.0, Berlin   \n",
       "470               asian                 Alt-Moabit 73a, 10115.0, Berlin   \n",
       "471               asian               Beusselstraße 72, 10115.0, Berlin   \n",
       "472             italian            Gotzkowskystraße 24, 10115.0, Berlin   \n",
       "...                 ...                                             ...   \n",
       "3793           american             Potsdamer Straße 2, 14165.0, Teltow   \n",
       "3794            italian            Potsdamer Straße 53, 14165.0, Teltow   \n",
       "3795              asian            Potsdamer Straße 61, 14165.0, Teltow   \n",
       "3796           american                 Bäckerstraße 4, 14165.0, Teltow   \n",
       "3797            italian  Ruhlsdorfer Strasse 14-16, 14165.0, Stahnsdorf   \n",
       "\n",
       "                         street  zip_code   city_name            coordinates  \\\n",
       "468            Beusselstraße 31   10115.0      Berlin  52.5303002,13.3288544   \n",
       "469                Waldstraße 1   10115.0      Berlin  52.5274316,13.3309139   \n",
       "470              Alt-Moabit 73a   10115.0      Berlin      52.52414,13.33285   \n",
       "471            Beusselstraße 72   10115.0      Berlin  52.5282318,13.3283754   \n",
       "472         Gotzkowskystraße 24   10115.0      Berlin   52.5244728,13.330153   \n",
       "...                         ...       ...         ...                    ...   \n",
       "3793         Potsdamer Straße 2   14165.0      Teltow  52.3949025,13.2379828   \n",
       "3794        Potsdamer Straße 53   14165.0      Teltow  52.4016624,13.2594647   \n",
       "3795        Potsdamer Straße 61   14165.0      Teltow  52.4013361,13.2605517   \n",
       "3796             Bäckerstraße 4   14165.0      Teltow    52.40144,13.2633133   \n",
       "3797  Ruhlsdorfer Strasse 14-16   14165.0  Stahnsdorf       52.3911,13.22569   \n",
       "\n",
       "       latitude  longitude    database opening_hours  \n",
       "468   52.530300  13.328854  lieferando           NaN  \n",
       "469   52.527432  13.330914  lieferando           NaN  \n",
       "470   52.524140  13.332850  lieferando           NaN  \n",
       "471   52.528232  13.328375  lieferando           NaN  \n",
       "472   52.524473  13.330153  lieferando           NaN  \n",
       "...         ...        ...         ...           ...  \n",
       "3793  52.394903  13.237983  lieferando           NaN  \n",
       "3794  52.401662  13.259465  lieferando           NaN  \n",
       "3795  52.401336  13.260552  lieferando           NaN  \n",
       "3796  52.401440  13.263313  lieferando           NaN  \n",
       "3797  52.391100  13.225690  lieferando           NaN  \n",
       "\n",
       "[3330 rows x 14 columns]"
      ]
     },
     "execution_count": 84,
     "metadata": {},
     "output_type": "execute_result"
    }
   ],
   "source": []
  },
  {
   "cell_type": "code",
   "execution_count": null,
   "metadata": {},
   "outputs": [],
   "source": []
  },
  {
   "cell_type": "code",
   "execution_count": null,
   "metadata": {},
   "outputs": [],
   "source": []
  },
  {
   "cell_type": "code",
   "execution_count": null,
   "metadata": {},
   "outputs": [],
   "source": []
  }
 ],
 "metadata": {
  "interpreter": {
   "hash": "104bebf55b610e28190aa34649b8baa71cbfc6406c1ff71f682515b00fd61d0c"
  },
  "kernelspec": {
   "display_name": "Python 3.8.12 64-bit ('geotracker': pyenv)",
   "language": "python",
   "name": "python3"
  },
  "language_info": {
   "codemirror_mode": {
    "name": "ipython",
    "version": 3
   },
   "file_extension": ".py",
   "mimetype": "text/x-python",
   "name": "python",
   "nbconvert_exporter": "python",
   "pygments_lexer": "ipython3",
   "version": "3.8.12"
  },
  "orig_nbformat": 4
 },
 "nbformat": 4,
 "nbformat_minor": 2
}
