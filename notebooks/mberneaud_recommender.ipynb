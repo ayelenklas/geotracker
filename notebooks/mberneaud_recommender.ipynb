{
 "cells": [
  {
   "cell_type": "code",
   "execution_count": 1,
   "metadata": {},
   "outputs": [],
   "source": [
    "import pandas as pd\n",
    "import geotracker.recommender.functions"
   ]
  },
  {
   "cell_type": "code",
   "execution_count": null,
   "metadata": {},
   "outputs": [],
   "source": [
    "restaurants_df = pd.read_csv(\"../data/\")"
   ]
  }
 ],
 "metadata": {
  "interpreter": {
   "hash": "37803fb805524fdccba396a39b7f0f988aa9f20b89dae5d95057c5414e00d75e"
  },
  "kernelspec": {
   "display_name": "Python 3.8.12 64-bit ('geotracker': pyenv)",
   "language": "python",
   "name": "python3"
  },
  "language_info": {
   "codemirror_mode": {
    "name": "ipython",
    "version": 3
   },
   "file_extension": ".py",
   "mimetype": "text/x-python",
   "name": "python",
   "nbconvert_exporter": "python",
   "pygments_lexer": "ipython3",
   "version": "3.8.12"
  },
  "orig_nbformat": 4
 },
 "nbformat": 4,
 "nbformat_minor": 2
}
