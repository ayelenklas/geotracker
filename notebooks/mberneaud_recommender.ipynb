{
 "cells": [
  {
   "cell_type": "code",
   "execution_count": 2,
   "metadata": {},
   "outputs": [
    {
     "ename": "SyntaxError",
     "evalue": "invalid syntax (functions.py, line 49)",
     "output_type": "error",
     "traceback": [
      "Traceback \u001b[0;36m(most recent call last)\u001b[0m:\n",
      "  File \u001b[1;32m\"/Users/malte/.pyenv/versions/3.8.12/envs/geotracker/lib/python3.8/site-packages/IPython/core/interactiveshell.py\"\u001b[0m, line \u001b[1;32m3444\u001b[0m, in \u001b[1;35mrun_code\u001b[0m\n    exec(code_obj, self.user_global_ns, self.user_ns)\n",
      "\u001b[0;36m  File \u001b[0;32m\"/var/folders/2v/75hdky1j1xv5mw9hmtz1l2140000gq/T/ipykernel_4987/429119798.py\"\u001b[0;36m, line \u001b[0;32m2\u001b[0;36m, in \u001b[0;35m<module>\u001b[0;36m\u001b[0m\n\u001b[0;31m    from geotracker.recommender.functions import (\u001b[0m\n",
      "\u001b[0;36m  File \u001b[0;32m\"/Users/malte/code/ayelenklas/geotracker/geotracker/recommender/functions.py\"\u001b[0;36m, line \u001b[0;32m49\u001b[0m\n\u001b[0;31m    return df_in_circle\u001b[0m\n\u001b[0m    ^\u001b[0m\n\u001b[0;31mSyntaxError\u001b[0m\u001b[0;31m:\u001b[0m invalid syntax\n"
     ]
    }
   ],
   "source": [
    "import pandas as pd\n",
    "from geotracker.recommender.functions import (\n",
    "    get_circlegrid_list,\n",
    "    restaurants_in_circle,\n",
    "    restaurants_meeting_criteria,\n",
    ")"
   ]
  },
  {
   "cell_type": "code",
   "execution_count": null,
   "metadata": {},
   "outputs": [],
   "source": [
    "%load_ext autoreload\n",
    "%autoreload 2"
   ]
  },
  {
   "cell_type": "code",
   "execution_count": 7,
   "metadata": {},
   "outputs": [
    {
     "name": "stdout",
     "output_type": "stream",
     "text": [
      "/Users/malte/code/ayelenklas/geotracker/notebooks\n"
     ]
    }
   ],
   "source": [
    "!pwd"
   ]
  },
  {
   "cell_type": "code",
   "execution_count": 8,
   "metadata": {},
   "outputs": [
    {
     "data": {
      "text/plain": [
       "'/Users/malte/code/ayelenklas/geotracker/notebooks'"
      ]
     },
     "execution_count": 8,
     "metadata": {},
     "output_type": "execute_result"
    }
   ],
   "source": [
    "import os\n",
    "os.getcwd()"
   ]
  },
  {
   "cell_type": "code",
   "execution_count": 3,
   "metadata": {},
   "outputs": [
    {
     "data": {
      "text/html": [
       "<div>\n",
       "<style scoped>\n",
       "    .dataframe tbody tr th:only-of-type {\n",
       "        vertical-align: middle;\n",
       "    }\n",
       "\n",
       "    .dataframe tbody tr th {\n",
       "        vertical-align: top;\n",
       "    }\n",
       "\n",
       "    .dataframe thead th {\n",
       "        text-align: right;\n",
       "    }\n",
       "</style>\n",
       "<table border=\"1\" class=\"dataframe\">\n",
       "  <thead>\n",
       "    <tr style=\"text-align: right;\">\n",
       "      <th></th>\n",
       "      <th>Unnamed: 0</th>\n",
       "      <th>restaurant_name</th>\n",
       "      <th>avg_review_score</th>\n",
       "      <th>reviews</th>\n",
       "      <th>minimum_order_value</th>\n",
       "      <th>delivery_fee</th>\n",
       "      <th>pricyness</th>\n",
       "      <th>avg_delivery_time</th>\n",
       "      <th>type_of_cuisine</th>\n",
       "      <th>address</th>\n",
       "      <th>street</th>\n",
       "      <th>zip_code</th>\n",
       "      <th>city_name</th>\n",
       "      <th>coordinates</th>\n",
       "      <th>latitude</th>\n",
       "      <th>longitude</th>\n",
       "      <th>database</th>\n",
       "    </tr>\n",
       "  </thead>\n",
       "  <tbody>\n",
       "    <tr>\n",
       "      <th>0</th>\n",
       "      <td>0</td>\n",
       "      <td>BunUp Mitte</td>\n",
       "      <td>7.8</td>\n",
       "      <td>NaN</td>\n",
       "      <td>10.00</td>\n",
       "      <td>NaN</td>\n",
       "      <td>1.0</td>\n",
       "      <td>35.0</td>\n",
       "      <td>vegetarian or vegan</td>\n",
       "      <td>This is a virtual venue, 10178.0, Berlin</td>\n",
       "      <td>This is a virtual venue</td>\n",
       "      <td>10178.0</td>\n",
       "      <td>Berlin</td>\n",
       "      <td>52.5238316,13.3985704</td>\n",
       "      <td>52.523832</td>\n",
       "      <td>13.398570</td>\n",
       "      <td>wolt</td>\n",
       "    </tr>\n",
       "    <tr>\n",
       "      <th>1</th>\n",
       "      <td>1</td>\n",
       "      <td>Machiavelli</td>\n",
       "      <td>8.4</td>\n",
       "      <td>NaN</td>\n",
       "      <td>10.00</td>\n",
       "      <td>1.90</td>\n",
       "      <td>2.0</td>\n",
       "      <td>NaN</td>\n",
       "      <td>european</td>\n",
       "      <td>Albrechtstr.13 Berlin, 10117.0,  Berlin</td>\n",
       "      <td>Albrechtstr.13 Berlin</td>\n",
       "      <td>10117.0</td>\n",
       "      <td>Berlin</td>\n",
       "      <td>52.52130280012305,13.385180090564926</td>\n",
       "      <td>52.521303</td>\n",
       "      <td>13.385180</td>\n",
       "      <td>wolt</td>\n",
       "    </tr>\n",
       "    <tr>\n",
       "      <th>2</th>\n",
       "      <td>2</td>\n",
       "      <td>Pizza Peppino</td>\n",
       "      <td>NaN</td>\n",
       "      <td>NaN</td>\n",
       "      <td>10.00</td>\n",
       "      <td>NaN</td>\n",
       "      <td>1.0</td>\n",
       "      <td>35.0</td>\n",
       "      <td>european</td>\n",
       "      <td>Tucholskystraße 13, 10117.0, Berlin</td>\n",
       "      <td>Tucholskystraße 13</td>\n",
       "      <td>10117.0</td>\n",
       "      <td>Berlin</td>\n",
       "      <td>52.52339332586772,13.391764043640274</td>\n",
       "      <td>52.523393</td>\n",
       "      <td>13.391764</td>\n",
       "      <td>wolt</td>\n",
       "    </tr>\n",
       "    <tr>\n",
       "      <th>3</th>\n",
       "      <td>3</td>\n",
       "      <td>Fresh's</td>\n",
       "      <td>7.8</td>\n",
       "      <td>NaN</td>\n",
       "      <td>10.00</td>\n",
       "      <td>NaN</td>\n",
       "      <td>1.0</td>\n",
       "      <td>35.0</td>\n",
       "      <td>poke</td>\n",
       "      <td>This is a virtual venue, 10178.0, Berlin</td>\n",
       "      <td>This is a virtual venue</td>\n",
       "      <td>10178.0</td>\n",
       "      <td>Berlin</td>\n",
       "      <td>52.5238316,13.3985704</td>\n",
       "      <td>52.523832</td>\n",
       "      <td>13.398570</td>\n",
       "      <td>wolt</td>\n",
       "    </tr>\n",
       "    <tr>\n",
       "      <th>4</th>\n",
       "      <td>4</td>\n",
       "      <td>Bombay</td>\n",
       "      <td>8.4</td>\n",
       "      <td>NaN</td>\n",
       "      <td>10.00</td>\n",
       "      <td>NaN</td>\n",
       "      <td>2.0</td>\n",
       "      <td>35.0</td>\n",
       "      <td>middle eastern</td>\n",
       "      <td>Friedrichstraße 106c, 10117.0,  Berlin</td>\n",
       "      <td>Friedrichstraße 106c</td>\n",
       "      <td>10117.0</td>\n",
       "      <td>Berlin</td>\n",
       "      <td>52.5232743,13.3884602</td>\n",
       "      <td>52.523274</td>\n",
       "      <td>13.388460</td>\n",
       "      <td>wolt</td>\n",
       "    </tr>\n",
       "    <tr>\n",
       "      <th>...</th>\n",
       "      <td>...</td>\n",
       "      <td>...</td>\n",
       "      <td>...</td>\n",
       "      <td>...</td>\n",
       "      <td>...</td>\n",
       "      <td>...</td>\n",
       "      <td>...</td>\n",
       "      <td>...</td>\n",
       "      <td>...</td>\n",
       "      <td>...</td>\n",
       "      <td>...</td>\n",
       "      <td>...</td>\n",
       "      <td>...</td>\n",
       "      <td>...</td>\n",
       "      <td>...</td>\n",
       "      <td>...</td>\n",
       "      <td>...</td>\n",
       "    </tr>\n",
       "    <tr>\n",
       "      <th>4686</th>\n",
       "      <td>3325</td>\n",
       "      <td>McDonald's®</td>\n",
       "      <td>9.2</td>\n",
       "      <td>506.0</td>\n",
       "      <td>15.00</td>\n",
       "      <td>0.00</td>\n",
       "      <td>0.0</td>\n",
       "      <td>20.0</td>\n",
       "      <td>american</td>\n",
       "      <td>Potsdamer Straße 2, 14165.0, Teltow</td>\n",
       "      <td>Potsdamer Straße 2</td>\n",
       "      <td>14165.0</td>\n",
       "      <td>Teltow</td>\n",
       "      <td>52.3949025,13.2379828</td>\n",
       "      <td>52.394903</td>\n",
       "      <td>13.237983</td>\n",
       "      <td>lieferando</td>\n",
       "    </tr>\n",
       "    <tr>\n",
       "      <th>4687</th>\n",
       "      <td>3326</td>\n",
       "      <td>Domino's Pizza</td>\n",
       "      <td>9.2</td>\n",
       "      <td>524.0</td>\n",
       "      <td>7.90</td>\n",
       "      <td>0.00</td>\n",
       "      <td>1002.0</td>\n",
       "      <td>25.0</td>\n",
       "      <td>italian</td>\n",
       "      <td>Potsdamer Straße 53, 14165.0, Teltow</td>\n",
       "      <td>Potsdamer Straße 53</td>\n",
       "      <td>14165.0</td>\n",
       "      <td>Teltow</td>\n",
       "      <td>52.4016624,13.2594647</td>\n",
       "      <td>52.401662</td>\n",
       "      <td>13.259465</td>\n",
       "      <td>lieferando</td>\n",
       "    </tr>\n",
       "    <tr>\n",
       "      <th>4688</th>\n",
       "      <td>3327</td>\n",
       "      <td>Le Asia</td>\n",
       "      <td>8.6</td>\n",
       "      <td>951.0</td>\n",
       "      <td>15.00</td>\n",
       "      <td>0.00</td>\n",
       "      <td>819.0</td>\n",
       "      <td>30.0</td>\n",
       "      <td>asian</td>\n",
       "      <td>Potsdamer Straße 61, 14165.0, Teltow</td>\n",
       "      <td>Potsdamer Straße 61</td>\n",
       "      <td>14165.0</td>\n",
       "      <td>Teltow</td>\n",
       "      <td>52.4013361,13.2605517</td>\n",
       "      <td>52.401336</td>\n",
       "      <td>13.260552</td>\n",
       "      <td>lieferando</td>\n",
       "    </tr>\n",
       "    <tr>\n",
       "      <th>4689</th>\n",
       "      <td>3328</td>\n",
       "      <td>burgerme</td>\n",
       "      <td>8.6</td>\n",
       "      <td>84.0</td>\n",
       "      <td>6.99</td>\n",
       "      <td>1.99</td>\n",
       "      <td>0.0</td>\n",
       "      <td>30.0</td>\n",
       "      <td>american</td>\n",
       "      <td>Bäckerstraße 4, 14165.0, Teltow</td>\n",
       "      <td>Bäckerstraße 4</td>\n",
       "      <td>14165.0</td>\n",
       "      <td>Teltow</td>\n",
       "      <td>52.40144,13.2633133</td>\n",
       "      <td>52.401440</td>\n",
       "      <td>13.263313</td>\n",
       "      <td>lieferando</td>\n",
       "    </tr>\n",
       "    <tr>\n",
       "      <th>4690</th>\n",
       "      <td>3329</td>\n",
       "      <td>Osteria Ballerino</td>\n",
       "      <td>9.0</td>\n",
       "      <td>225.0</td>\n",
       "      <td>25.00</td>\n",
       "      <td>0.00</td>\n",
       "      <td>1017.0</td>\n",
       "      <td>25.0</td>\n",
       "      <td>italian</td>\n",
       "      <td>Ruhlsdorfer Strasse 14-16, 14165.0, Stahnsdorf</td>\n",
       "      <td>Ruhlsdorfer Strasse 14-16</td>\n",
       "      <td>14165.0</td>\n",
       "      <td>Stahnsdorf</td>\n",
       "      <td>52.3911,13.22569</td>\n",
       "      <td>52.391100</td>\n",
       "      <td>13.225690</td>\n",
       "      <td>lieferando</td>\n",
       "    </tr>\n",
       "  </tbody>\n",
       "</table>\n",
       "<p>4691 rows × 17 columns</p>\n",
       "</div>"
      ],
      "text/plain": [
       "      Unnamed: 0    restaurant_name  avg_review_score  reviews  \\\n",
       "0              0        BunUp Mitte               7.8      NaN   \n",
       "1              1        Machiavelli               8.4      NaN   \n",
       "2              2      Pizza Peppino               NaN      NaN   \n",
       "3              3            Fresh's               7.8      NaN   \n",
       "4              4             Bombay               8.4      NaN   \n",
       "...          ...                ...               ...      ...   \n",
       "4686        3325        McDonald's®               9.2    506.0   \n",
       "4687        3326     Domino's Pizza               9.2    524.0   \n",
       "4688        3327            Le Asia               8.6    951.0   \n",
       "4689        3328           burgerme               8.6     84.0   \n",
       "4690        3329  Osteria Ballerino               9.0    225.0   \n",
       "\n",
       "      minimum_order_value  delivery_fee  pricyness  avg_delivery_time  \\\n",
       "0                   10.00           NaN        1.0               35.0   \n",
       "1                   10.00          1.90        2.0                NaN   \n",
       "2                   10.00           NaN        1.0               35.0   \n",
       "3                   10.00           NaN        1.0               35.0   \n",
       "4                   10.00           NaN        2.0               35.0   \n",
       "...                   ...           ...        ...                ...   \n",
       "4686                15.00          0.00        0.0               20.0   \n",
       "4687                 7.90          0.00     1002.0               25.0   \n",
       "4688                15.00          0.00      819.0               30.0   \n",
       "4689                 6.99          1.99        0.0               30.0   \n",
       "4690                25.00          0.00     1017.0               25.0   \n",
       "\n",
       "          type_of_cuisine                                         address  \\\n",
       "0     vegetarian or vegan        This is a virtual venue, 10178.0, Berlin   \n",
       "1                european         Albrechtstr.13 Berlin, 10117.0,  Berlin   \n",
       "2                european             Tucholskystraße 13, 10117.0, Berlin   \n",
       "3                    poke        This is a virtual venue, 10178.0, Berlin   \n",
       "4          middle eastern          Friedrichstraße 106c, 10117.0,  Berlin   \n",
       "...                   ...                                             ...   \n",
       "4686             american             Potsdamer Straße 2, 14165.0, Teltow   \n",
       "4687              italian            Potsdamer Straße 53, 14165.0, Teltow   \n",
       "4688                asian            Potsdamer Straße 61, 14165.0, Teltow   \n",
       "4689             american                 Bäckerstraße 4, 14165.0, Teltow   \n",
       "4690              italian  Ruhlsdorfer Strasse 14-16, 14165.0, Stahnsdorf   \n",
       "\n",
       "                         street  zip_code   city_name  \\\n",
       "0       This is a virtual venue   10178.0      Berlin   \n",
       "1         Albrechtstr.13 Berlin   10117.0      Berlin   \n",
       "2            Tucholskystraße 13   10117.0      Berlin   \n",
       "3       This is a virtual venue   10178.0      Berlin   \n",
       "4          Friedrichstraße 106c   10117.0      Berlin   \n",
       "...                         ...       ...         ...   \n",
       "4686         Potsdamer Straße 2   14165.0      Teltow   \n",
       "4687        Potsdamer Straße 53   14165.0      Teltow   \n",
       "4688        Potsdamer Straße 61   14165.0      Teltow   \n",
       "4689             Bäckerstraße 4   14165.0      Teltow   \n",
       "4690  Ruhlsdorfer Strasse 14-16   14165.0  Stahnsdorf   \n",
       "\n",
       "                               coordinates   latitude  longitude    database  \n",
       "0                    52.5238316,13.3985704  52.523832  13.398570        wolt  \n",
       "1     52.52130280012305,13.385180090564926  52.521303  13.385180        wolt  \n",
       "2     52.52339332586772,13.391764043640274  52.523393  13.391764        wolt  \n",
       "3                    52.5238316,13.3985704  52.523832  13.398570        wolt  \n",
       "4                    52.5232743,13.3884602  52.523274  13.388460        wolt  \n",
       "...                                    ...        ...        ...         ...  \n",
       "4686                 52.3949025,13.2379828  52.394903  13.237983  lieferando  \n",
       "4687                 52.4016624,13.2594647  52.401662  13.259465  lieferando  \n",
       "4688                 52.4013361,13.2605517  52.401336  13.260552  lieferando  \n",
       "4689                   52.40144,13.2633133  52.401440  13.263313  lieferando  \n",
       "4690                      52.3911,13.22569  52.391100  13.225690  lieferando  \n",
       "\n",
       "[4691 rows x 17 columns]"
      ]
     },
     "execution_count": 3,
     "metadata": {},
     "output_type": "execute_result"
    }
   ],
   "source": [
    "restaurants_df = pd.read_csv(\"../geotracker/data/deliveries_data.csv\")\n",
    "\n",
    "\n",
    "restaurants_df"
   ]
  },
  {
   "cell_type": "code",
   "execution_count": 4,
   "metadata": {},
   "outputs": [],
   "source": [
    "dict_list = []"
   ]
  },
  {
   "cell_type": "code",
   "execution_count": 6,
   "metadata": {},
   "outputs": [
    {
     "name": "stdout",
     "output_type": "stream",
     "text": [
      "52.507906\n",
      "13.390864\n"
     ]
    }
   ],
   "source": [
    "center_lat = 52.507906\n",
    "center_lon = 13.390864\n",
    "\n",
    "print(center_lat)\n",
    "print(center_lon)"
   ]
  },
  {
   "cell_type": "code",
   "execution_count": 7,
   "metadata": {},
   "outputs": [
    {
     "data": {
      "text/plain": [
       "pandas.core.series.Series"
      ]
     },
     "execution_count": 7,
     "metadata": {},
     "output_type": "execute_result"
    }
   ],
   "source": [
    "type(restaurants_df.loc[0, :])"
   ]
  },
  {
   "cell_type": "code",
   "execution_count": 48,
   "metadata": {},
   "outputs": [
    {
     "data": {
      "text/plain": [
       "False    218\n",
       "True      25\n",
       "dtype: int64"
      ]
     },
     "execution_count": 48,
     "metadata": {},
     "output_type": "execute_result"
    }
   ],
   "source": [
    "boolean_mask = []\n",
    "for index, row in restaurants_df.iterrows():\n",
    "    out = is_restaurant_in_circle(row, center_lat, center_lon, degradius)\n",
    "    boolean_mask.append(out)\n",
    "\n",
    "\n",
    "pd.Series(boolean_mask).value_counts()"
   ]
  },
  {
   "cell_type": "code",
   "execution_count": 12,
   "metadata": {},
   "outputs": [
    {
     "ename": "NameError",
     "evalue": "name 'degradius' is not defined",
     "output_type": "error",
     "traceback": [
      "\u001b[0;31m---------------------------------------------------------------------------\u001b[0m",
      "\u001b[0;31mNameError\u001b[0m                                 Traceback (most recent call last)",
      "\u001b[0;32m/var/folders/2v/75hdky1j1xv5mw9hmtz1l2140000gq/T/ipykernel_22433/1905311371.py\u001b[0m in \u001b[0;36m<module>\u001b[0;34m\u001b[0m\n\u001b[0;32m----> 1\u001b[0;31m \u001b[0mcheckpoint_charlie_restaurants\u001b[0m \u001b[0;34m=\u001b[0m \u001b[0mrestaurants_in_circle\u001b[0m\u001b[0;34m(\u001b[0m\u001b[0mrestaurants_df\u001b[0m\u001b[0;34m,\u001b[0m \u001b[0mcenter_lat\u001b[0m\u001b[0;34m,\u001b[0m \u001b[0mcenter_lon\u001b[0m\u001b[0;34m,\u001b[0m \u001b[0mdegradius\u001b[0m\u001b[0;34m)\u001b[0m\u001b[0;34m\u001b[0m\u001b[0;34m\u001b[0m\u001b[0m\n\u001b[0m\u001b[1;32m      2\u001b[0m \u001b[0mcheckpoint_charlie_restaurants\u001b[0m\u001b[0;34m\u001b[0m\u001b[0;34m\u001b[0m\u001b[0m\n",
      "\u001b[0;31mNameError\u001b[0m: name 'degradius' is not defined"
     ]
    }
   ],
   "source": [
    "checkpoint_charlie_restaurants = restaurants_in_circle(restaurants_df, center_lat, center_lon, degradius)\n",
    "checkpoint_charlie_restaurants"
   ]
  },
  {
   "cell_type": "code",
   "execution_count": 54,
   "metadata": {},
   "outputs": [
    {
     "data": {
      "text/plain": [
       "20"
      ]
     },
     "execution_count": 54,
     "metadata": {},
     "output_type": "execute_result"
    }
   ],
   "source": [
    "calculate_circle_weights(checkpoint_charlie_restaurants)"
   ]
  },
  {
   "cell_type": "code",
   "execution_count": 55,
   "metadata": {},
   "outputs": [
    {
     "ename": "SyntaxError",
     "evalue": "invalid syntax (2701919485.py, line 11)",
     "output_type": "error",
     "traceback": [
      "\u001b[0;36m  File \u001b[0;32m\"/var/folders/2v/75hdky1j1xv5mw9hmtz1l2140000gq/T/ipykernel_7392/2701919485.py\"\u001b[0;36m, line \u001b[0;32m11\u001b[0m\n\u001b[0;31m    restaurants_in_circle_df, good_review_threshold=5ß\u001b[0m\n\u001b[0m                                                     ^\u001b[0m\n\u001b[0;31mSyntaxError\u001b[0m\u001b[0;31m:\u001b[0m invalid syntax\n"
     ]
    }
   ],
   "source": [
    "dict_list = []\n",
    "for spacing in spacings:\n",
    "    center_coords, mradius, degradius = get_circle_centers_radius(spacing)\n",
    "    for center_coord in center_coords:\n",
    "        center_lat = center_coord[0]\n",
    "        center_lon = center_coord[1]\n",
    "        restaurants_in_circle_df = restaurants_in_circle(\n",
    "            restaurants_df, center_lat, center_lon, degradius\n",
    "        )\n",
    "        circle_weight = calculate_circle_weights(\n",
    "            restaurants_in_circle_df, good_review_threshold=5\n",
    "        )\n",
    "\n",
    "        circle_dict = dict(\n",
    "            center_lat=center_coord,\n",
    "            center_lon=center_lon,\n",
    "            mradius=mradius,\n",
    "            degradius=degradius,\n",
    "            spacing=spacing,\n",
    "            circle_weight=circle_weight,\n",
    "        )\n",
    "        dict_list.append(circle_dict)"
   ]
  },
  {
   "cell_type": "code",
   "execution_count": null,
   "metadata": {},
   "outputs": [],
   "source": [
    "circle_df = pd.DataFrame(dict_list)\n",
    "circle_df.to_csv(\"geotracker/data/circle_weights.csv\")"
   ]
  },
  {
   "cell_type": "markdown",
   "metadata": {},
   "source": [
    "# Dings haha distance calculation"
   ]
  },
  {
   "cell_type": "code",
   "execution_count": 17,
   "metadata": {},
   "outputs": [
    {
     "name": "stdout",
     "output_type": "stream",
     "text": [
      "52.52130280012305\n",
      "13.385180090564926\n"
     ]
    }
   ],
   "source": [
    "restaurant_lat = restaurants_df.loc[1, \"latitude\"]\n",
    "restaurant_lon = restaurants_df.loc[1, \"longitude\"]\n",
    "print(restaurant_lat)\n",
    "print(restaurant_lon)"
   ]
  },
  {
   "cell_type": "code",
   "execution_count": 8,
   "metadata": {},
   "outputs": [
    {
     "data": {
      "text/plain": [
       "(52.507906, 13.390864)"
      ]
     },
     "execution_count": 8,
     "metadata": {},
     "output_type": "execute_result"
    }
   ],
   "source": [
    "from geopy import distance\n",
    "\n",
    "center = (center_lat, center_lon)\n",
    "center"
   ]
  },
  {
   "cell_type": "code",
   "execution_count": 18,
   "metadata": {},
   "outputs": [
    {
     "data": {
      "text/plain": [
       "1.5398866449146733"
      ]
     },
     "execution_count": 18,
     "metadata": {},
     "output_type": "execute_result"
    }
   ],
   "source": [
    "restaurant = (restaurant_lat, restaurant_lon)\n",
    "\n",
    "distance.distance(center, restaurant).km"
   ]
  },
  {
   "cell_type": "code",
   "execution_count": 16,
   "metadata": {},
   "outputs": [
    {
     "name": "stderr",
     "output_type": "stream",
     "text": [
      "/Users/malte/.pyenv/versions/3.8.12/envs/geotracker/lib/python3.8/site-packages/pandas/core/indexing.py:1667: SettingWithCopyWarning: \n",
      "A value is trying to be set on a copy of a slice from a DataFrame.\n",
      "Try using .loc[row_indexer,col_indexer] = value instead\n",
      "\n",
      "See the caveats in the documentation: https://pandas.pydata.org/pandas-docs/stable/user_guide/indexing.html#returning-a-view-versus-a-copy\n",
      "  self.obj[key] = value\n",
      "/Users/malte/.pyenv/versions/3.8.12/envs/geotracker/lib/python3.8/site-packages/pandas/core/indexing.py:1817: SettingWithCopyWarning: \n",
      "A value is trying to be set on a copy of a slice from a DataFrame.\n",
      "Try using .loc[row_indexer,col_indexer] = value instead\n",
      "\n",
      "See the caveats in the documentation: https://pandas.pydata.org/pandas-docs/stable/user_guide/indexing.html#returning-a-view-versus-a-copy\n",
      "  self._setitem_single_column(loc, value, pi)\n"
     ]
    },
    {
     "data": {
      "text/plain": [
       "0    1.847762\n",
       "1    1.539887\n",
       "2    1.724468\n",
       "3    1.847762\n",
       "4    1.717908\n",
       "Name: distance_to_circle_center, dtype: float64"
      ]
     },
     "execution_count": 16,
     "metadata": {},
     "output_type": "execute_result"
    }
   ],
   "source": [
    "import numpy as np\n",
    "center = (center_lat, center_lon)\n",
    "\n",
    "restaurants_clean = restaurants_df.dropna(subset=[\"latitude\", \"longitude\"])\n",
    "restaurants_clean.loc[:, \"distance_to_circle_center\"] = np.nan\n",
    "for index, row in restaurants_clean.iterrows():\n",
    "    restaurant = (row[\"latitude\"], row[\"longitude\"])\n",
    "    dist = distance.distance(center, restaurant).km\n",
    "    restaurants_clean.loc[index, \"distance_to_circle_center\"] = dist\n",
    "\n",
    "\n",
    "restaurants_clean.distance_to_circle_center.head()\n",
    "    \n",
    "    "
   ]
  },
  {
   "cell_type": "code",
   "execution_count": 15,
   "metadata": {},
   "outputs": [
    {
     "data": {
      "text/html": [
       "<div>\n",
       "<style scoped>\n",
       "    .dataframe tbody tr th:only-of-type {\n",
       "        vertical-align: middle;\n",
       "    }\n",
       "\n",
       "    .dataframe tbody tr th {\n",
       "        vertical-align: top;\n",
       "    }\n",
       "\n",
       "    .dataframe thead th {\n",
       "        text-align: right;\n",
       "    }\n",
       "</style>\n",
       "<table border=\"1\" class=\"dataframe\">\n",
       "  <thead>\n",
       "    <tr style=\"text-align: right;\">\n",
       "      <th></th>\n",
       "      <th>Unnamed: 0</th>\n",
       "      <th>restaurant_name</th>\n",
       "      <th>avg_review_score</th>\n",
       "      <th>reviews</th>\n",
       "      <th>minimum_order_value</th>\n",
       "      <th>delivery_fee</th>\n",
       "      <th>pricyness</th>\n",
       "      <th>avg_delivery_time</th>\n",
       "      <th>type_of_cuisine</th>\n",
       "      <th>address</th>\n",
       "      <th>street</th>\n",
       "      <th>zip_code</th>\n",
       "      <th>city_name</th>\n",
       "      <th>coordinates</th>\n",
       "      <th>latitude</th>\n",
       "      <th>longitude</th>\n",
       "      <th>database</th>\n",
       "      <th>distance_to_circle_center</th>\n",
       "    </tr>\n",
       "  </thead>\n",
       "  <tbody>\n",
       "    <tr>\n",
       "      <th>5</th>\n",
       "      <td>5</td>\n",
       "      <td>Goodtime</td>\n",
       "      <td>8.8</td>\n",
       "      <td>NaN</td>\n",
       "      <td>10.0</td>\n",
       "      <td>NaN</td>\n",
       "      <td>3.0</td>\n",
       "      <td>35.0</td>\n",
       "      <td>asian</td>\n",
       "      <td>Hausvogteiplatz 11a , 10117.0, Berlin</td>\n",
       "      <td>Hausvogteiplatz 11a</td>\n",
       "      <td>10117.0</td>\n",
       "      <td>Berlin</td>\n",
       "      <td>52.512719989573846,13.396920166606986</td>\n",
       "      <td>52.512720</td>\n",
       "      <td>13.396920</td>\n",
       "      <td>wolt</td>\n",
       "      <td>0.675299</td>\n",
       "    </tr>\n",
       "    <tr>\n",
       "      <th>6</th>\n",
       "      <td>6</td>\n",
       "      <td>Da Vinci Ristorante</td>\n",
       "      <td>7.6</td>\n",
       "      <td>NaN</td>\n",
       "      <td>10.0</td>\n",
       "      <td>NaN</td>\n",
       "      <td>2.0</td>\n",
       "      <td>35.0</td>\n",
       "      <td>italian</td>\n",
       "      <td>Georgenstraße 192, 10117.0, Berlin</td>\n",
       "      <td>Georgenstraße 192</td>\n",
       "      <td>10117.0</td>\n",
       "      <td>Berlin</td>\n",
       "      <td>52.5201646,13.3913112</td>\n",
       "      <td>52.520165</td>\n",
       "      <td>13.391311</td>\n",
       "      <td>wolt</td>\n",
       "      <td>1.364439</td>\n",
       "    </tr>\n",
       "    <tr>\n",
       "      <th>7</th>\n",
       "      <td>7</td>\n",
       "      <td>Ristorante Bella Vita</td>\n",
       "      <td>7.6</td>\n",
       "      <td>NaN</td>\n",
       "      <td>10.0</td>\n",
       "      <td>NaN</td>\n",
       "      <td>2.0</td>\n",
       "      <td>35.0</td>\n",
       "      <td>italian</td>\n",
       "      <td>Mittelstraße 62, 10117.0, Berlin</td>\n",
       "      <td>Mittelstraße 62</td>\n",
       "      <td>10117.0</td>\n",
       "      <td>Berlin</td>\n",
       "      <td>52.5179452,13.389358</td>\n",
       "      <td>52.517945</td>\n",
       "      <td>13.389358</td>\n",
       "      <td>wolt</td>\n",
       "      <td>1.121802</td>\n",
       "    </tr>\n",
       "    <tr>\n",
       "      <th>8</th>\n",
       "      <td>8</td>\n",
       "      <td>Rotes Kamel</td>\n",
       "      <td>8.6</td>\n",
       "      <td>NaN</td>\n",
       "      <td>10.0</td>\n",
       "      <td>NaN</td>\n",
       "      <td>2.0</td>\n",
       "      <td>35.0</td>\n",
       "      <td>steak</td>\n",
       "      <td>Hannah-Arendt-Str. 4, 10117.0, Berlin</td>\n",
       "      <td>Hannah-Arendt-Str. 4</td>\n",
       "      <td>10117.0</td>\n",
       "      <td>Berlin</td>\n",
       "      <td>52.5140041,13.3811706</td>\n",
       "      <td>52.514004</td>\n",
       "      <td>13.381171</td>\n",
       "      <td>wolt</td>\n",
       "      <td>0.945297</td>\n",
       "    </tr>\n",
       "    <tr>\n",
       "      <th>17</th>\n",
       "      <td>17</td>\n",
       "      <td>Mr Imbiss Berlin</td>\n",
       "      <td>NaN</td>\n",
       "      <td>NaN</td>\n",
       "      <td>10.0</td>\n",
       "      <td>1.9</td>\n",
       "      <td>NaN</td>\n",
       "      <td>NaN</td>\n",
       "      <td>NaN</td>\n",
       "      <td>Schützenstraße 2, 10117.0,  Berlin</td>\n",
       "      <td>Schützenstraße 2</td>\n",
       "      <td>10117.0</td>\n",
       "      <td>Berlin</td>\n",
       "      <td>52.508507041615765,13.390493204098584</td>\n",
       "      <td>52.508507</td>\n",
       "      <td>13.390493</td>\n",
       "      <td>wolt</td>\n",
       "      <td>0.071464</td>\n",
       "    </tr>\n",
       "  </tbody>\n",
       "</table>\n",
       "</div>"
      ],
      "text/plain": [
       "    Unnamed: 0        restaurant_name  avg_review_score  reviews  \\\n",
       "5            5               Goodtime               8.8      NaN   \n",
       "6            6    Da Vinci Ristorante               7.6      NaN   \n",
       "7            7  Ristorante Bella Vita               7.6      NaN   \n",
       "8            8            Rotes Kamel               8.6      NaN   \n",
       "17          17       Mr Imbiss Berlin               NaN      NaN   \n",
       "\n",
       "    minimum_order_value  delivery_fee  pricyness  avg_delivery_time  \\\n",
       "5                  10.0           NaN        3.0               35.0   \n",
       "6                  10.0           NaN        2.0               35.0   \n",
       "7                  10.0           NaN        2.0               35.0   \n",
       "8                  10.0           NaN        2.0               35.0   \n",
       "17                 10.0           1.9        NaN                NaN   \n",
       "\n",
       "   type_of_cuisine                                 address  \\\n",
       "5            asian   Hausvogteiplatz 11a , 10117.0, Berlin   \n",
       "6          italian      Georgenstraße 192, 10117.0, Berlin   \n",
       "7          italian        Mittelstraße 62, 10117.0, Berlin   \n",
       "8            steak   Hannah-Arendt-Str. 4, 10117.0, Berlin   \n",
       "17             NaN      Schützenstraße 2, 10117.0,  Berlin   \n",
       "\n",
       "                   street  zip_code city_name  \\\n",
       "5    Hausvogteiplatz 11a    10117.0    Berlin   \n",
       "6       Georgenstraße 192   10117.0    Berlin   \n",
       "7         Mittelstraße 62   10117.0    Berlin   \n",
       "8    Hannah-Arendt-Str. 4   10117.0    Berlin   \n",
       "17       Schützenstraße 2   10117.0    Berlin   \n",
       "\n",
       "                              coordinates   latitude  longitude database  \\\n",
       "5   52.512719989573846,13.396920166606986  52.512720  13.396920     wolt   \n",
       "6                   52.5201646,13.3913112  52.520165  13.391311     wolt   \n",
       "7                    52.5179452,13.389358  52.517945  13.389358     wolt   \n",
       "8                   52.5140041,13.3811706  52.514004  13.381171     wolt   \n",
       "17  52.508507041615765,13.390493204098584  52.508507  13.390493     wolt   \n",
       "\n",
       "    distance_to_circle_center  \n",
       "5                    0.675299  \n",
       "6                    1.364439  \n",
       "7                    1.121802  \n",
       "8                    0.945297  \n",
       "17                   0.071464  "
      ]
     },
     "execution_count": 15,
     "metadata": {},
     "output_type": "execute_result"
    }
   ],
   "source": [
    "kmradius = 1.5\n",
    "matched_restaurants = restaurants_clean.loc[restaurants_clean[\"distance_to_circle_center\"] <= kmradius]\n",
    "matched_restaurants.head()"
   ]
  },
  {
   "cell_type": "code",
   "execution_count": null,
   "metadata": {},
   "outputs": [],
   "source": []
  }
 ],
 "metadata": {
  "interpreter": {
   "hash": "37803fb805524fdccba396a39b7f0f988aa9f20b89dae5d95057c5414e00d75e"
  },
  "kernelspec": {
   "display_name": "Python 3.8.12 64-bit ('geotracker': pyenv)",
   "language": "python",
   "name": "python3"
  },
  "language_info": {
   "codemirror_mode": {
    "name": "ipython",
    "version": 3
   },
   "file_extension": ".py",
   "mimetype": "text/x-python",
   "name": "python",
   "nbconvert_exporter": "python",
   "pygments_lexer": "ipython3",
   "version": "3.8.12"
  },
  "orig_nbformat": 4
 },
 "nbformat": 4,
 "nbformat_minor": 2
}
