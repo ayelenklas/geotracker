{
 "cells": [
  {
   "cell_type": "code",
   "execution_count": 1,
   "metadata": {},
   "outputs": [],
   "source": [
    "import pandas as pd"
   ]
  },
  {
   "cell_type": "code",
   "execution_count": 2,
   "metadata": {
    "scrolled": true
   },
   "outputs": [],
   "source": [
    "df = pd.read_csv(\"../data/final.csv\")[[\"Coordinates\", \"Name\"]]\n",
    "df = df.drop(labels=3168).reset_index().drop(columns=\"index\")"
   ]
  },
  {
   "cell_type": "code",
   "execution_count": 3,
   "metadata": {},
   "outputs": [],
   "source": [
    "df.insert(2, \"lat\", \"\")\n",
    "df.insert(3, \"lon\", \"\")"
   ]
  },
  {
   "cell_type": "raw",
   "metadata": {},
   "source": [
    "df.Coordinates.isnull().value_counts()"
   ]
  },
  {
   "cell_type": "raw",
   "metadata": {},
   "source": [
    "df[df.Coordinates.isnull()]"
   ]
  },
  {
   "cell_type": "code",
   "execution_count": 4,
   "metadata": {},
   "outputs": [],
   "source": [
    "for i in range(len(df.Coordinates)):\n",
    "    df.Coordinates[i] = str(df.Coordinates[i])\n",
    "    df[\"lat\"][i] = eval(df.Coordinates[i])[0]\n",
    "    df[\"lon\"][i] = eval(df.Coordinates[i])[1]"
   ]
  },
  {
   "cell_type": "code",
   "execution_count": 6,
   "metadata": {},
   "outputs": [],
   "source": [
    "df = df[[\"Name\", \"lat\", \"lon\"]]"
   ]
  },
  {
   "cell_type": "code",
   "execution_count": 8,
   "metadata": {},
   "outputs": [],
   "source": [
    "df.to_csv(\"r4map.csv\", header=True, index=False)"
   ]
  },
  {
   "cell_type": "code",
   "execution_count": 10,
   "metadata": {},
   "outputs": [
    {
     "data": {
      "text/html": [
       "<div>\n",
       "<style scoped>\n",
       "    .dataframe tbody tr th:only-of-type {\n",
       "        vertical-align: middle;\n",
       "    }\n",
       "\n",
       "    .dataframe tbody tr th {\n",
       "        vertical-align: top;\n",
       "    }\n",
       "\n",
       "    .dataframe thead th {\n",
       "        text-align: right;\n",
       "    }\n",
       "</style>\n",
       "<table border=\"1\" class=\"dataframe\">\n",
       "  <thead>\n",
       "    <tr style=\"text-align: right;\">\n",
       "      <th></th>\n",
       "      <th>Name</th>\n",
       "      <th>lat</th>\n",
       "      <th>lon</th>\n",
       "    </tr>\n",
       "  </thead>\n",
       "  <tbody>\n",
       "    <tr>\n",
       "      <th>0</th>\n",
       "      <td>Ihr Koch on Tour</td>\n",
       "      <td>52.45481</td>\n",
       "      <td>13.59031</td>\n",
       "    </tr>\n",
       "    <tr>\n",
       "      <th>1</th>\n",
       "      <td>Pizzawerkköpenick</td>\n",
       "      <td>52.45481</td>\n",
       "      <td>13.59031</td>\n",
       "    </tr>\n",
       "    <tr>\n",
       "      <th>2</th>\n",
       "      <td>Pizzawerk</td>\n",
       "      <td>52.45481</td>\n",
       "      <td>13.59031</td>\n",
       "    </tr>\n",
       "    <tr>\n",
       "      <th>3</th>\n",
       "      <td>Veracruz</td>\n",
       "      <td>52.45268</td>\n",
       "      <td>13.59594</td>\n",
       "    </tr>\n",
       "    <tr>\n",
       "      <th>4</th>\n",
       "      <td>Marina Sol</td>\n",
       "      <td>52.44842</td>\n",
       "      <td>13.61015</td>\n",
       "    </tr>\n",
       "    <tr>\n",
       "      <th>...</th>\n",
       "      <td>...</td>\n",
       "      <td>...</td>\n",
       "      <td>...</td>\n",
       "    </tr>\n",
       "    <tr>\n",
       "      <th>3342</th>\n",
       "      <td>Restaurant Maracas</td>\n",
       "      <td>52.43003</td>\n",
       "      <td>13.47804</td>\n",
       "    </tr>\n",
       "    <tr>\n",
       "      <th>3343</th>\n",
       "      <td>Verde's Pizza &amp; Gelato</td>\n",
       "      <td>52.42294</td>\n",
       "      <td>13.47549</td>\n",
       "    </tr>\n",
       "    <tr>\n",
       "      <th>3344</th>\n",
       "      <td>Eiscafé Kunterbunt</td>\n",
       "      <td>52.40663</td>\n",
       "      <td>13.34947</td>\n",
       "    </tr>\n",
       "    <tr>\n",
       "      <th>3345</th>\n",
       "      <td>Osteria Ballerino</td>\n",
       "      <td>52.441673</td>\n",
       "      <td>13.189119</td>\n",
       "    </tr>\n",
       "    <tr>\n",
       "      <th>3346</th>\n",
       "      <td>Lindwerder</td>\n",
       "      <td>52.467532</td>\n",
       "      <td>13.195814</td>\n",
       "    </tr>\n",
       "  </tbody>\n",
       "</table>\n",
       "<p>3347 rows × 3 columns</p>\n",
       "</div>"
      ],
      "text/plain": [
       "                        Name        lat        lon\n",
       "0           Ihr Koch on Tour   52.45481   13.59031\n",
       "1          Pizzawerkköpenick   52.45481   13.59031\n",
       "2                  Pizzawerk   52.45481   13.59031\n",
       "3                   Veracruz   52.45268   13.59594\n",
       "4                 Marina Sol   52.44842   13.61015\n",
       "...                      ...        ...        ...\n",
       "3342      Restaurant Maracas   52.43003   13.47804\n",
       "3343  Verde's Pizza & Gelato   52.42294   13.47549\n",
       "3344      Eiscafé Kunterbunt   52.40663   13.34947\n",
       "3345       Osteria Ballerino  52.441673  13.189119\n",
       "3346              Lindwerder  52.467532  13.195814\n",
       "\n",
       "[3347 rows x 3 columns]"
      ]
     },
     "execution_count": 10,
     "metadata": {},
     "output_type": "execute_result"
    }
   ],
   "source": [
    "df"
   ]
  },
  {
   "cell_type": "code",
   "execution_count": 13,
   "metadata": {},
   "outputs": [
    {
     "name": "stdout",
     "output_type": "stream",
     "text": [
      "data/r4map.csv\r\n"
     ]
    }
   ],
   "source": [
    "!ls data/r4map.csv"
   ]
  },
  {
   "cell_type": "code",
   "execution_count": 14,
   "metadata": {},
   "outputs": [
    {
     "data": {
      "text/html": [
       "<div>\n",
       "<style scoped>\n",
       "    .dataframe tbody tr th:only-of-type {\n",
       "        vertical-align: middle;\n",
       "    }\n",
       "\n",
       "    .dataframe tbody tr th {\n",
       "        vertical-align: top;\n",
       "    }\n",
       "\n",
       "    .dataframe thead th {\n",
       "        text-align: right;\n",
       "    }\n",
       "</style>\n",
       "<table border=\"1\" class=\"dataframe\">\n",
       "  <thead>\n",
       "    <tr style=\"text-align: right;\">\n",
       "      <th></th>\n",
       "      <th>Name</th>\n",
       "      <th>lat</th>\n",
       "      <th>lon</th>\n",
       "    </tr>\n",
       "  </thead>\n",
       "  <tbody>\n",
       "    <tr>\n",
       "      <th>0</th>\n",
       "      <td>Ihr Koch on Tour</td>\n",
       "      <td>52.454810</td>\n",
       "      <td>13.590310</td>\n",
       "    </tr>\n",
       "    <tr>\n",
       "      <th>1</th>\n",
       "      <td>Pizzawerkköpenick</td>\n",
       "      <td>52.454810</td>\n",
       "      <td>13.590310</td>\n",
       "    </tr>\n",
       "    <tr>\n",
       "      <th>2</th>\n",
       "      <td>Pizzawerk</td>\n",
       "      <td>52.454810</td>\n",
       "      <td>13.590310</td>\n",
       "    </tr>\n",
       "    <tr>\n",
       "      <th>3</th>\n",
       "      <td>Veracruz</td>\n",
       "      <td>52.452680</td>\n",
       "      <td>13.595940</td>\n",
       "    </tr>\n",
       "    <tr>\n",
       "      <th>4</th>\n",
       "      <td>Marina Sol</td>\n",
       "      <td>52.448420</td>\n",
       "      <td>13.610150</td>\n",
       "    </tr>\n",
       "    <tr>\n",
       "      <th>...</th>\n",
       "      <td>...</td>\n",
       "      <td>...</td>\n",
       "      <td>...</td>\n",
       "    </tr>\n",
       "    <tr>\n",
       "      <th>3342</th>\n",
       "      <td>Restaurant Maracas</td>\n",
       "      <td>52.430030</td>\n",
       "      <td>13.478040</td>\n",
       "    </tr>\n",
       "    <tr>\n",
       "      <th>3343</th>\n",
       "      <td>Verde's Pizza &amp; Gelato</td>\n",
       "      <td>52.422940</td>\n",
       "      <td>13.475490</td>\n",
       "    </tr>\n",
       "    <tr>\n",
       "      <th>3344</th>\n",
       "      <td>Eiscafé Kunterbunt</td>\n",
       "      <td>52.406630</td>\n",
       "      <td>13.349470</td>\n",
       "    </tr>\n",
       "    <tr>\n",
       "      <th>3345</th>\n",
       "      <td>Osteria Ballerino</td>\n",
       "      <td>52.441673</td>\n",
       "      <td>13.189119</td>\n",
       "    </tr>\n",
       "    <tr>\n",
       "      <th>3346</th>\n",
       "      <td>Lindwerder</td>\n",
       "      <td>52.467532</td>\n",
       "      <td>13.195814</td>\n",
       "    </tr>\n",
       "  </tbody>\n",
       "</table>\n",
       "<p>3347 rows × 3 columns</p>\n",
       "</div>"
      ],
      "text/plain": [
       "                        Name        lat        lon\n",
       "0           Ihr Koch on Tour  52.454810  13.590310\n",
       "1          Pizzawerkköpenick  52.454810  13.590310\n",
       "2                  Pizzawerk  52.454810  13.590310\n",
       "3                   Veracruz  52.452680  13.595940\n",
       "4                 Marina Sol  52.448420  13.610150\n",
       "...                      ...        ...        ...\n",
       "3342      Restaurant Maracas  52.430030  13.478040\n",
       "3343  Verde's Pizza & Gelato  52.422940  13.475490\n",
       "3344      Eiscafé Kunterbunt  52.406630  13.349470\n",
       "3345       Osteria Ballerino  52.441673  13.189119\n",
       "3346              Lindwerder  52.467532  13.195814\n",
       "\n",
       "[3347 rows x 3 columns]"
      ]
     },
     "execution_count": 14,
     "metadata": {},
     "output_type": "execute_result"
    }
   ],
   "source": [
    "pd.read_csv('data/r4map.csv')"
   ]
  },
  {
   "cell_type": "code",
   "execution_count": null,
   "metadata": {},
   "outputs": [],
   "source": []
  }
 ],
 "metadata": {
  "interpreter": {
   "hash": "50503008bca1aa3e7148b2cff29b482f7f5cc05248d8107ddba35f8286e95bc6"
  },
  "kernelspec": {
   "display_name": "Python 3 (ipykernel)",
   "language": "python",
   "name": "python3"
  },
  "language_info": {
   "codemirror_mode": {
    "name": "ipython",
    "version": 3
   },
   "file_extension": ".py",
   "mimetype": "text/x-python",
   "name": "python",
   "nbconvert_exporter": "python",
   "pygments_lexer": "ipython3",
   "version": "3.8.12"
  },
  "toc": {
   "base_numbering": 1,
   "nav_menu": {},
   "number_sections": true,
   "sideBar": true,
   "skip_h1_title": false,
   "title_cell": "Table of Contents",
   "title_sidebar": "Contents",
   "toc_cell": false,
   "toc_position": {},
   "toc_section_display": true,
   "toc_window_display": false
  }
 },
 "nbformat": 4,
 "nbformat_minor": 2
}
